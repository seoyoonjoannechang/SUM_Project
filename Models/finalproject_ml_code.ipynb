{
 "cells": [
  {
   "cell_type": "markdown",
   "id": "ffd01124",
   "metadata": {},
   "source": [
    "# 서울시 종로구 익일 미세먼지 농도 예측 모델\n",
    "\n",
    "- 머신러닝\n",
    "- 분류모델\n",
    "- 데이터 : 서울, 경기, 인천 대기오염도(한국환경공단), 서울, 경기, 인천 종관기상관측(기상청)\n",
    "- 독립변수\n",
    "    - 수도권 118개 측정소의 PM10(미세먼지), O3(오존), NO2(이산화질소), CO(일산화탄소), SO2(아황산가스)\n",
    "    - 수도권 9개 관측소의 기온, 강수량, 풍속, 풍향, 습도, 증기압, 이슬점온도, 현지기압, 해면기압, 일조, 일사, 적설, 3시간신적설, 전운량, 중하층운량, 운형, 최저운고, 시정, 지면상태, 현상번호, 지면온도, 지중온도\n",
    "- 종속변수 : 익일 미세먼지 농도(기준에 따라 '0 : 좋음, 1 : 보통, 2 : 나쁨, 3 : 매우 나쁨'으로 비닝)"
   ]
  },
  {
   "cell_type": "code",
   "execution_count": 1,
   "id": "e5783fca",
   "metadata": {},
   "outputs": [],
   "source": [
    "import numpy as np\n",
    "import pandas as pd\n",
    "\n",
    "from sklearn.model_selection import train_test_split, cross_validate, RandomizedSearchCV\n",
    "from sklearn.preprocessing import RobustScaler\n",
    "from sklearn.neighbors import KNeighborsClassifier\n",
    "from sklearn.ensemble import RandomForestClassifier, ExtraTreesClassifier, GradientBoostingClassifier, ExtraTreesRegressor, RandomForestRegressor\n",
    "from sklearn.metrics import accuracy_score, mean_squared_error, mean_squared_log_error, mean_absolute_error\n",
    "from catboost import CatBoostClassifier\n",
    "from xgboost import XGBClassifier, XGBRegressor\n",
    "from lightgbm import LGBMClassifier\n",
    "from sklearn.decomposition import PCA\n",
    "from sklearn.svm import SVC\n",
    "from scipy.stats import uniform, randint\n",
    "from sklearn.ensemble import VotingClassifier, StackingClassifier"
   ]
  },
  {
   "cell_type": "markdown",
   "id": "4281a042",
   "metadata": {},
   "source": [
    "# 1. 베이스라인 모델"
   ]
  },
  {
   "cell_type": "code",
   "execution_count": 2,
   "id": "d4f65bf5",
   "metadata": {},
   "outputs": [],
   "source": [
    "ndf = pd.read_csv(\"./data/preprodata/pollutant_weather_df.csv\")"
   ]
  },
  {
   "cell_type": "code",
   "execution_count": 3,
   "id": "714c13af",
   "metadata": {},
   "outputs": [],
   "source": [
    "x = ndf.drop([\"datetime\", \"PM10_y_bin\"], axis = 1)\n",
    "y = ndf[\"PM10_y_bin\"]"
   ]
  },
  {
   "cell_type": "code",
   "execution_count": 4,
   "id": "6c2ec94f",
   "metadata": {},
   "outputs": [],
   "source": [
    "x_train, x_test, y_train, y_test = train_test_split(x, y, test_size=0.3, random_state=8, stratify = y)"
   ]
  },
  {
   "cell_type": "markdown",
   "id": "61c271c5",
   "metadata": {},
   "source": [
    "## 1-1.KNN"
   ]
  },
  {
   "cell_type": "code",
   "execution_count": 5,
   "id": "27091bd0",
   "metadata": {},
   "outputs": [],
   "source": [
    "kn = KNeighborsClassifier()"
   ]
  },
  {
   "cell_type": "code",
   "execution_count": 6,
   "id": "0be1d551",
   "metadata": {},
   "outputs": [
    {
     "data": {
      "text/html": [
       "<style>#sk-container-id-1 {color: black;background-color: white;}#sk-container-id-1 pre{padding: 0;}#sk-container-id-1 div.sk-toggleable {background-color: white;}#sk-container-id-1 label.sk-toggleable__label {cursor: pointer;display: block;width: 100%;margin-bottom: 0;padding: 0.3em;box-sizing: border-box;text-align: center;}#sk-container-id-1 label.sk-toggleable__label-arrow:before {content: \"▸\";float: left;margin-right: 0.25em;color: #696969;}#sk-container-id-1 label.sk-toggleable__label-arrow:hover:before {color: black;}#sk-container-id-1 div.sk-estimator:hover label.sk-toggleable__label-arrow:before {color: black;}#sk-container-id-1 div.sk-toggleable__content {max-height: 0;max-width: 0;overflow: hidden;text-align: left;background-color: #f0f8ff;}#sk-container-id-1 div.sk-toggleable__content pre {margin: 0.2em;color: black;border-radius: 0.25em;background-color: #f0f8ff;}#sk-container-id-1 input.sk-toggleable__control:checked~div.sk-toggleable__content {max-height: 200px;max-width: 100%;overflow: auto;}#sk-container-id-1 input.sk-toggleable__control:checked~label.sk-toggleable__label-arrow:before {content: \"▾\";}#sk-container-id-1 div.sk-estimator input.sk-toggleable__control:checked~label.sk-toggleable__label {background-color: #d4ebff;}#sk-container-id-1 div.sk-label input.sk-toggleable__control:checked~label.sk-toggleable__label {background-color: #d4ebff;}#sk-container-id-1 input.sk-hidden--visually {border: 0;clip: rect(1px 1px 1px 1px);clip: rect(1px, 1px, 1px, 1px);height: 1px;margin: -1px;overflow: hidden;padding: 0;position: absolute;width: 1px;}#sk-container-id-1 div.sk-estimator {font-family: monospace;background-color: #f0f8ff;border: 1px dotted black;border-radius: 0.25em;box-sizing: border-box;margin-bottom: 0.5em;}#sk-container-id-1 div.sk-estimator:hover {background-color: #d4ebff;}#sk-container-id-1 div.sk-parallel-item::after {content: \"\";width: 100%;border-bottom: 1px solid gray;flex-grow: 1;}#sk-container-id-1 div.sk-label:hover label.sk-toggleable__label {background-color: #d4ebff;}#sk-container-id-1 div.sk-serial::before {content: \"\";position: absolute;border-left: 1px solid gray;box-sizing: border-box;top: 0;bottom: 0;left: 50%;z-index: 0;}#sk-container-id-1 div.sk-serial {display: flex;flex-direction: column;align-items: center;background-color: white;padding-right: 0.2em;padding-left: 0.2em;position: relative;}#sk-container-id-1 div.sk-item {position: relative;z-index: 1;}#sk-container-id-1 div.sk-parallel {display: flex;align-items: stretch;justify-content: center;background-color: white;position: relative;}#sk-container-id-1 div.sk-item::before, #sk-container-id-1 div.sk-parallel-item::before {content: \"\";position: absolute;border-left: 1px solid gray;box-sizing: border-box;top: 0;bottom: 0;left: 50%;z-index: -1;}#sk-container-id-1 div.sk-parallel-item {display: flex;flex-direction: column;z-index: 1;position: relative;background-color: white;}#sk-container-id-1 div.sk-parallel-item:first-child::after {align-self: flex-end;width: 50%;}#sk-container-id-1 div.sk-parallel-item:last-child::after {align-self: flex-start;width: 50%;}#sk-container-id-1 div.sk-parallel-item:only-child::after {width: 0;}#sk-container-id-1 div.sk-dashed-wrapped {border: 1px dashed gray;margin: 0 0.4em 0.5em 0.4em;box-sizing: border-box;padding-bottom: 0.4em;background-color: white;}#sk-container-id-1 div.sk-label label {font-family: monospace;font-weight: bold;display: inline-block;line-height: 1.2em;}#sk-container-id-1 div.sk-label-container {text-align: center;}#sk-container-id-1 div.sk-container {/* jupyter's `normalize.less` sets `[hidden] { display: none; }` but bootstrap.min.css set `[hidden] { display: none !important; }` so we also need the `!important` here to be able to override the default hidden behavior on the sphinx rendered scikit-learn.org. See: https://github.com/scikit-learn/scikit-learn/issues/21755 */display: inline-block !important;position: relative;}#sk-container-id-1 div.sk-text-repr-fallback {display: none;}</style><div id=\"sk-container-id-1\" class=\"sk-top-container\"><div class=\"sk-text-repr-fallback\"><pre>KNeighborsClassifier()</pre><b>In a Jupyter environment, please rerun this cell to show the HTML representation or trust the notebook. <br />On GitHub, the HTML representation is unable to render, please try loading this page with nbviewer.org.</b></div><div class=\"sk-container\" hidden><div class=\"sk-item\"><div class=\"sk-estimator sk-toggleable\"><input class=\"sk-toggleable__control sk-hidden--visually\" id=\"sk-estimator-id-1\" type=\"checkbox\" checked><label for=\"sk-estimator-id-1\" class=\"sk-toggleable__label sk-toggleable__label-arrow\">KNeighborsClassifier</label><div class=\"sk-toggleable__content\"><pre>KNeighborsClassifier()</pre></div></div></div></div></div>"
      ],
      "text/plain": [
       "KNeighborsClassifier()"
      ]
     },
     "execution_count": 6,
     "metadata": {},
     "output_type": "execute_result"
    }
   ],
   "source": [
    "kn.fit(x_train, y_train)"
   ]
  },
  {
   "cell_type": "code",
   "execution_count": 7,
   "id": "2cad0495",
   "metadata": {},
   "outputs": [
    {
     "data": {
      "text/plain": [
       "0.7731748293388342"
      ]
     },
     "execution_count": 7,
     "metadata": {},
     "output_type": "execute_result"
    }
   ],
   "source": [
    "kn.score(x_train, y_train)"
   ]
  },
  {
   "cell_type": "code",
   "execution_count": 8,
   "id": "0a34cca2",
   "metadata": {},
   "outputs": [
    {
     "data": {
      "text/plain": [
       "0.6522602093981045"
      ]
     },
     "execution_count": 8,
     "metadata": {},
     "output_type": "execute_result"
    }
   ],
   "source": [
    "kn.score(x_test, y_test)"
   ]
  },
  {
   "cell_type": "markdown",
   "id": "3efad586",
   "metadata": {},
   "source": [
    "## 1-2. 랜덤 포레스트"
   ]
  },
  {
   "cell_type": "code",
   "execution_count": 6,
   "id": "c854a1a8",
   "metadata": {},
   "outputs": [
    {
     "data": {
      "text/plain": [
       "((47023, 2516), (47023,), (20153, 2516), (20153,))"
      ]
     },
     "execution_count": 6,
     "metadata": {},
     "output_type": "execute_result"
    }
   ],
   "source": [
    "x_train.shape, y_train.shape, x_test.shape, y_test.shape"
   ]
  },
  {
   "cell_type": "code",
   "execution_count": 9,
   "id": "cb25b16f",
   "metadata": {},
   "outputs": [],
   "source": [
    "rf = RandomForestClassifier(n_jobs = -1, random_state = 8)"
   ]
  },
  {
   "cell_type": "code",
   "execution_count": 27,
   "id": "22f45b4c",
   "metadata": {},
   "outputs": [
    {
     "name": "stdout",
     "output_type": "stream",
     "text": [
      "1.0 0.7941433950420048\n"
     ]
    }
   ],
   "source": [
    "scores = cross_validate(rf, x_train, y_train, return_train_score = True, n_jobs = -1)\n",
    "print(np.mean(scores[\"train_score\"]), np.mean(scores[\"test_score\"]))"
   ]
  },
  {
   "cell_type": "code",
   "execution_count": 10,
   "id": "783a8590",
   "metadata": {
    "scrolled": true
   },
   "outputs": [
    {
     "data": {
      "text/html": [
       "<style>#sk-container-id-1 {color: black;background-color: white;}#sk-container-id-1 pre{padding: 0;}#sk-container-id-1 div.sk-toggleable {background-color: white;}#sk-container-id-1 label.sk-toggleable__label {cursor: pointer;display: block;width: 100%;margin-bottom: 0;padding: 0.3em;box-sizing: border-box;text-align: center;}#sk-container-id-1 label.sk-toggleable__label-arrow:before {content: \"▸\";float: left;margin-right: 0.25em;color: #696969;}#sk-container-id-1 label.sk-toggleable__label-arrow:hover:before {color: black;}#sk-container-id-1 div.sk-estimator:hover label.sk-toggleable__label-arrow:before {color: black;}#sk-container-id-1 div.sk-toggleable__content {max-height: 0;max-width: 0;overflow: hidden;text-align: left;background-color: #f0f8ff;}#sk-container-id-1 div.sk-toggleable__content pre {margin: 0.2em;color: black;border-radius: 0.25em;background-color: #f0f8ff;}#sk-container-id-1 input.sk-toggleable__control:checked~div.sk-toggleable__content {max-height: 200px;max-width: 100%;overflow: auto;}#sk-container-id-1 input.sk-toggleable__control:checked~label.sk-toggleable__label-arrow:before {content: \"▾\";}#sk-container-id-1 div.sk-estimator input.sk-toggleable__control:checked~label.sk-toggleable__label {background-color: #d4ebff;}#sk-container-id-1 div.sk-label input.sk-toggleable__control:checked~label.sk-toggleable__label {background-color: #d4ebff;}#sk-container-id-1 input.sk-hidden--visually {border: 0;clip: rect(1px 1px 1px 1px);clip: rect(1px, 1px, 1px, 1px);height: 1px;margin: -1px;overflow: hidden;padding: 0;position: absolute;width: 1px;}#sk-container-id-1 div.sk-estimator {font-family: monospace;background-color: #f0f8ff;border: 1px dotted black;border-radius: 0.25em;box-sizing: border-box;margin-bottom: 0.5em;}#sk-container-id-1 div.sk-estimator:hover {background-color: #d4ebff;}#sk-container-id-1 div.sk-parallel-item::after {content: \"\";width: 100%;border-bottom: 1px solid gray;flex-grow: 1;}#sk-container-id-1 div.sk-label:hover label.sk-toggleable__label {background-color: #d4ebff;}#sk-container-id-1 div.sk-serial::before {content: \"\";position: absolute;border-left: 1px solid gray;box-sizing: border-box;top: 0;bottom: 0;left: 50%;z-index: 0;}#sk-container-id-1 div.sk-serial {display: flex;flex-direction: column;align-items: center;background-color: white;padding-right: 0.2em;padding-left: 0.2em;position: relative;}#sk-container-id-1 div.sk-item {position: relative;z-index: 1;}#sk-container-id-1 div.sk-parallel {display: flex;align-items: stretch;justify-content: center;background-color: white;position: relative;}#sk-container-id-1 div.sk-item::before, #sk-container-id-1 div.sk-parallel-item::before {content: \"\";position: absolute;border-left: 1px solid gray;box-sizing: border-box;top: 0;bottom: 0;left: 50%;z-index: -1;}#sk-container-id-1 div.sk-parallel-item {display: flex;flex-direction: column;z-index: 1;position: relative;background-color: white;}#sk-container-id-1 div.sk-parallel-item:first-child::after {align-self: flex-end;width: 50%;}#sk-container-id-1 div.sk-parallel-item:last-child::after {align-self: flex-start;width: 50%;}#sk-container-id-1 div.sk-parallel-item:only-child::after {width: 0;}#sk-container-id-1 div.sk-dashed-wrapped {border: 1px dashed gray;margin: 0 0.4em 0.5em 0.4em;box-sizing: border-box;padding-bottom: 0.4em;background-color: white;}#sk-container-id-1 div.sk-label label {font-family: monospace;font-weight: bold;display: inline-block;line-height: 1.2em;}#sk-container-id-1 div.sk-label-container {text-align: center;}#sk-container-id-1 div.sk-container {/* jupyter's `normalize.less` sets `[hidden] { display: none; }` but bootstrap.min.css set `[hidden] { display: none !important; }` so we also need the `!important` here to be able to override the default hidden behavior on the sphinx rendered scikit-learn.org. See: https://github.com/scikit-learn/scikit-learn/issues/21755 */display: inline-block !important;position: relative;}#sk-container-id-1 div.sk-text-repr-fallback {display: none;}</style><div id=\"sk-container-id-1\" class=\"sk-top-container\"><div class=\"sk-text-repr-fallback\"><pre>RandomForestClassifier(n_jobs=-1, random_state=8)</pre><b>In a Jupyter environment, please rerun this cell to show the HTML representation or trust the notebook. <br />On GitHub, the HTML representation is unable to render, please try loading this page with nbviewer.org.</b></div><div class=\"sk-container\" hidden><div class=\"sk-item\"><div class=\"sk-estimator sk-toggleable\"><input class=\"sk-toggleable__control sk-hidden--visually\" id=\"sk-estimator-id-1\" type=\"checkbox\" checked><label for=\"sk-estimator-id-1\" class=\"sk-toggleable__label sk-toggleable__label-arrow\">RandomForestClassifier</label><div class=\"sk-toggleable__content\"><pre>RandomForestClassifier(n_jobs=-1, random_state=8)</pre></div></div></div></div></div>"
      ],
      "text/plain": [
       "RandomForestClassifier(n_jobs=-1, random_state=8)"
      ]
     },
     "execution_count": 10,
     "metadata": {},
     "output_type": "execute_result"
    }
   ],
   "source": [
    "rf.fit(x_train, y_train)"
   ]
  },
  {
   "cell_type": "code",
   "execution_count": 11,
   "id": "aa577d07",
   "metadata": {},
   "outputs": [
    {
     "data": {
      "text/plain": [
       "0.9999787338111137"
      ]
     },
     "execution_count": 11,
     "metadata": {},
     "output_type": "execute_result"
    }
   ],
   "source": [
    "rf.score(x_train, y_train)"
   ]
  },
  {
   "cell_type": "code",
   "execution_count": 12,
   "id": "cc4f9289",
   "metadata": {},
   "outputs": [
    {
     "data": {
      "text/plain": [
       "0.8110455019103856"
      ]
     },
     "execution_count": 12,
     "metadata": {},
     "output_type": "execute_result"
    }
   ],
   "source": [
    "rf.score(x_test, y_test)"
   ]
  },
  {
   "cell_type": "markdown",
   "id": "0787e4b3",
   "metadata": {},
   "source": [
    "## 1-3. 엑스트라 트리"
   ]
  },
  {
   "cell_type": "code",
   "execution_count": 5,
   "id": "ff604b9e",
   "metadata": {},
   "outputs": [],
   "source": [
    "et = ExtraTreesClassifier(n_jobs = -1, random_state = 8)"
   ]
  },
  {
   "cell_type": "code",
   "execution_count": 28,
   "id": "f591f81c",
   "metadata": {},
   "outputs": [
    {
     "name": "stdout",
     "output_type": "stream",
     "text": [
      "1.0 0.8180253179899466\n"
     ]
    }
   ],
   "source": [
    "scores = cross_validate(et, x_train, y_train, return_train_score = True, n_jobs = -1)\n",
    "print(np.mean(scores[\"train_score\"]), np.mean(scores[\"test_score\"]))"
   ]
  },
  {
   "cell_type": "code",
   "execution_count": 6,
   "id": "cedca488",
   "metadata": {
    "scrolled": true
   },
   "outputs": [
    {
     "data": {
      "text/html": [
       "<style>#sk-container-id-1 {color: black;background-color: white;}#sk-container-id-1 pre{padding: 0;}#sk-container-id-1 div.sk-toggleable {background-color: white;}#sk-container-id-1 label.sk-toggleable__label {cursor: pointer;display: block;width: 100%;margin-bottom: 0;padding: 0.3em;box-sizing: border-box;text-align: center;}#sk-container-id-1 label.sk-toggleable__label-arrow:before {content: \"▸\";float: left;margin-right: 0.25em;color: #696969;}#sk-container-id-1 label.sk-toggleable__label-arrow:hover:before {color: black;}#sk-container-id-1 div.sk-estimator:hover label.sk-toggleable__label-arrow:before {color: black;}#sk-container-id-1 div.sk-toggleable__content {max-height: 0;max-width: 0;overflow: hidden;text-align: left;background-color: #f0f8ff;}#sk-container-id-1 div.sk-toggleable__content pre {margin: 0.2em;color: black;border-radius: 0.25em;background-color: #f0f8ff;}#sk-container-id-1 input.sk-toggleable__control:checked~div.sk-toggleable__content {max-height: 200px;max-width: 100%;overflow: auto;}#sk-container-id-1 input.sk-toggleable__control:checked~label.sk-toggleable__label-arrow:before {content: \"▾\";}#sk-container-id-1 div.sk-estimator input.sk-toggleable__control:checked~label.sk-toggleable__label {background-color: #d4ebff;}#sk-container-id-1 div.sk-label input.sk-toggleable__control:checked~label.sk-toggleable__label {background-color: #d4ebff;}#sk-container-id-1 input.sk-hidden--visually {border: 0;clip: rect(1px 1px 1px 1px);clip: rect(1px, 1px, 1px, 1px);height: 1px;margin: -1px;overflow: hidden;padding: 0;position: absolute;width: 1px;}#sk-container-id-1 div.sk-estimator {font-family: monospace;background-color: #f0f8ff;border: 1px dotted black;border-radius: 0.25em;box-sizing: border-box;margin-bottom: 0.5em;}#sk-container-id-1 div.sk-estimator:hover {background-color: #d4ebff;}#sk-container-id-1 div.sk-parallel-item::after {content: \"\";width: 100%;border-bottom: 1px solid gray;flex-grow: 1;}#sk-container-id-1 div.sk-label:hover label.sk-toggleable__label {background-color: #d4ebff;}#sk-container-id-1 div.sk-serial::before {content: \"\";position: absolute;border-left: 1px solid gray;box-sizing: border-box;top: 0;bottom: 0;left: 50%;z-index: 0;}#sk-container-id-1 div.sk-serial {display: flex;flex-direction: column;align-items: center;background-color: white;padding-right: 0.2em;padding-left: 0.2em;position: relative;}#sk-container-id-1 div.sk-item {position: relative;z-index: 1;}#sk-container-id-1 div.sk-parallel {display: flex;align-items: stretch;justify-content: center;background-color: white;position: relative;}#sk-container-id-1 div.sk-item::before, #sk-container-id-1 div.sk-parallel-item::before {content: \"\";position: absolute;border-left: 1px solid gray;box-sizing: border-box;top: 0;bottom: 0;left: 50%;z-index: -1;}#sk-container-id-1 div.sk-parallel-item {display: flex;flex-direction: column;z-index: 1;position: relative;background-color: white;}#sk-container-id-1 div.sk-parallel-item:first-child::after {align-self: flex-end;width: 50%;}#sk-container-id-1 div.sk-parallel-item:last-child::after {align-self: flex-start;width: 50%;}#sk-container-id-1 div.sk-parallel-item:only-child::after {width: 0;}#sk-container-id-1 div.sk-dashed-wrapped {border: 1px dashed gray;margin: 0 0.4em 0.5em 0.4em;box-sizing: border-box;padding-bottom: 0.4em;background-color: white;}#sk-container-id-1 div.sk-label label {font-family: monospace;font-weight: bold;display: inline-block;line-height: 1.2em;}#sk-container-id-1 div.sk-label-container {text-align: center;}#sk-container-id-1 div.sk-container {/* jupyter's `normalize.less` sets `[hidden] { display: none; }` but bootstrap.min.css set `[hidden] { display: none !important; }` so we also need the `!important` here to be able to override the default hidden behavior on the sphinx rendered scikit-learn.org. See: https://github.com/scikit-learn/scikit-learn/issues/21755 */display: inline-block !important;position: relative;}#sk-container-id-1 div.sk-text-repr-fallback {display: none;}</style><div id=\"sk-container-id-1\" class=\"sk-top-container\"><div class=\"sk-text-repr-fallback\"><pre>ExtraTreesClassifier(n_jobs=-1, random_state=8)</pre><b>In a Jupyter environment, please rerun this cell to show the HTML representation or trust the notebook. <br />On GitHub, the HTML representation is unable to render, please try loading this page with nbviewer.org.</b></div><div class=\"sk-container\" hidden><div class=\"sk-item\"><div class=\"sk-estimator sk-toggleable\"><input class=\"sk-toggleable__control sk-hidden--visually\" id=\"sk-estimator-id-1\" type=\"checkbox\" checked><label for=\"sk-estimator-id-1\" class=\"sk-toggleable__label sk-toggleable__label-arrow\">ExtraTreesClassifier</label><div class=\"sk-toggleable__content\"><pre>ExtraTreesClassifier(n_jobs=-1, random_state=8)</pre></div></div></div></div></div>"
      ],
      "text/plain": [
       "ExtraTreesClassifier(n_jobs=-1, random_state=8)"
      ]
     },
     "execution_count": 6,
     "metadata": {},
     "output_type": "execute_result"
    }
   ],
   "source": [
    "et.fit(x_train, y_train)"
   ]
  },
  {
   "cell_type": "code",
   "execution_count": 9,
   "id": "35ed077e",
   "metadata": {
    "scrolled": true
   },
   "outputs": [
    {
     "data": {
      "text/plain": [
       "1.0"
      ]
     },
     "execution_count": 9,
     "metadata": {},
     "output_type": "execute_result"
    }
   ],
   "source": [
    "et.score(x_train, y_train)"
   ]
  },
  {
   "cell_type": "code",
   "execution_count": 10,
   "id": "bf8ee5fc",
   "metadata": {
    "scrolled": true
   },
   "outputs": [
    {
     "data": {
      "text/plain": [
       "0.8358557038654295"
      ]
     },
     "execution_count": 10,
     "metadata": {},
     "output_type": "execute_result"
    }
   ],
   "source": [
    "et.score(x_test, y_test)"
   ]
  },
  {
   "cell_type": "markdown",
   "id": "680472cd",
   "metadata": {},
   "source": [
    "## 1-4. CatBoost"
   ]
  },
  {
   "cell_type": "code",
   "execution_count": 15,
   "id": "9be69212",
   "metadata": {},
   "outputs": [],
   "source": [
    "cb = CatBoostClassifier()"
   ]
  },
  {
   "cell_type": "code",
   "execution_count": null,
   "id": "5e245ce1",
   "metadata": {},
   "outputs": [],
   "source": [
    "scores = cross_validate(cb, x_train, y_train, return_train_score = True, n_jobs = -1)\n",
    "print(np.mean(scores[\"train_score\"]), np.mean(scores[\"test_score\"]))"
   ]
  },
  {
   "cell_type": "code",
   "execution_count": 16,
   "id": "c23dd35b",
   "metadata": {
    "scrolled": true
   },
   "outputs": [
    {
     "name": "stdout",
     "output_type": "stream",
     "text": [
      "Learning rate set to 0.096297\n",
      "0:\tlearn: 1.2824771\ttotal: 613ms\tremaining: 10m 12s\n",
      "1:\tlearn: 1.2001951\ttotal: 996ms\tremaining: 8m 16s\n",
      "2:\tlearn: 1.1359325\ttotal: 1.35s\tremaining: 7m 28s\n",
      "3:\tlearn: 1.0809649\ttotal: 1.71s\tremaining: 7m 5s\n",
      "4:\tlearn: 1.0359132\ttotal: 2.1s\tremaining: 6m 57s\n",
      "5:\tlearn: 0.9974511\ttotal: 2.48s\tremaining: 6m 50s\n",
      "6:\tlearn: 0.9642655\ttotal: 2.84s\tremaining: 6m 42s\n",
      "7:\tlearn: 0.9341464\ttotal: 3.21s\tremaining: 6m 38s\n",
      "8:\tlearn: 0.9087883\ttotal: 3.73s\tremaining: 6m 50s\n",
      "9:\tlearn: 0.8860975\ttotal: 4.26s\tremaining: 7m 1s\n",
      "10:\tlearn: 0.8674943\ttotal: 4.77s\tremaining: 7m 8s\n",
      "11:\tlearn: 0.8502648\ttotal: 5.32s\tremaining: 7m 18s\n",
      "12:\tlearn: 0.8346274\ttotal: 5.86s\tremaining: 7m 24s\n",
      "13:\tlearn: 0.8209173\ttotal: 6.44s\tremaining: 7m 33s\n",
      "14:\tlearn: 0.8082523\ttotal: 6.95s\tremaining: 7m 36s\n",
      "15:\tlearn: 0.7965338\ttotal: 7.46s\tremaining: 7m 38s\n",
      "16:\tlearn: 0.7866471\ttotal: 7.82s\tremaining: 7m 32s\n",
      "17:\tlearn: 0.7773813\ttotal: 8.18s\tremaining: 7m 26s\n",
      "18:\tlearn: 0.7697612\ttotal: 8.53s\tremaining: 7m 20s\n",
      "19:\tlearn: 0.7616040\ttotal: 8.95s\tremaining: 7m 18s\n",
      "20:\tlearn: 0.7545772\ttotal: 9.32s\tremaining: 7m 14s\n",
      "21:\tlearn: 0.7481646\ttotal: 9.69s\tremaining: 7m 10s\n",
      "22:\tlearn: 0.7424595\ttotal: 10.1s\tremaining: 7m 7s\n",
      "23:\tlearn: 0.7371351\ttotal: 10.4s\tremaining: 7m 2s\n",
      "24:\tlearn: 0.7326438\ttotal: 10.7s\tremaining: 6m 58s\n",
      "25:\tlearn: 0.7273038\ttotal: 11.1s\tremaining: 6m 57s\n",
      "26:\tlearn: 0.7228965\ttotal: 11.5s\tremaining: 6m 55s\n",
      "27:\tlearn: 0.7183151\ttotal: 11.9s\tremaining: 6m 53s\n",
      "28:\tlearn: 0.7147937\ttotal: 12.4s\tremaining: 6m 54s\n",
      "29:\tlearn: 0.7118427\ttotal: 12.9s\tremaining: 6m 58s\n",
      "30:\tlearn: 0.7089335\ttotal: 13.5s\tremaining: 7m 1s\n",
      "31:\tlearn: 0.7066956\ttotal: 14s\tremaining: 7m 2s\n",
      "32:\tlearn: 0.7041977\ttotal: 14.4s\tremaining: 7m 3s\n",
      "33:\tlearn: 0.7012544\ttotal: 14.9s\tremaining: 7m 4s\n",
      "34:\tlearn: 0.6994410\ttotal: 15.4s\tremaining: 7m 4s\n",
      "35:\tlearn: 0.6976403\ttotal: 15.9s\tremaining: 7m 5s\n",
      "36:\tlearn: 0.6956880\ttotal: 16.3s\tremaining: 7m 3s\n",
      "37:\tlearn: 0.6933201\ttotal: 16.7s\tremaining: 7m 1s\n",
      "38:\tlearn: 0.6911530\ttotal: 17s\tremaining: 6m 59s\n",
      "39:\tlearn: 0.6895889\ttotal: 17.4s\tremaining: 6m 57s\n",
      "40:\tlearn: 0.6881738\ttotal: 17.7s\tremaining: 6m 54s\n",
      "41:\tlearn: 0.6868118\ttotal: 18.1s\tremaining: 6m 52s\n",
      "42:\tlearn: 0.6853528\ttotal: 18.5s\tremaining: 6m 50s\n",
      "43:\tlearn: 0.6836022\ttotal: 18.9s\tremaining: 6m 49s\n",
      "44:\tlearn: 0.6821831\ttotal: 19.2s\tremaining: 6m 47s\n",
      "45:\tlearn: 0.6806728\ttotal: 19.5s\tremaining: 6m 45s\n",
      "46:\tlearn: 0.6795355\ttotal: 19.9s\tremaining: 6m 43s\n",
      "47:\tlearn: 0.6781908\ttotal: 20.3s\tremaining: 6m 43s\n",
      "48:\tlearn: 0.6774006\ttotal: 20.8s\tremaining: 6m 43s\n",
      "49:\tlearn: 0.6762934\ttotal: 21.3s\tremaining: 6m 45s\n",
      "50:\tlearn: 0.6744152\ttotal: 21.9s\tremaining: 6m 47s\n",
      "51:\tlearn: 0.6728478\ttotal: 22.5s\tremaining: 6m 49s\n",
      "52:\tlearn: 0.6719176\ttotal: 23s\tremaining: 6m 50s\n",
      "53:\tlearn: 0.6709754\ttotal: 23.5s\tremaining: 6m 51s\n",
      "54:\tlearn: 0.6699361\ttotal: 23.9s\tremaining: 6m 51s\n",
      "55:\tlearn: 0.6687279\ttotal: 24.5s\tremaining: 6m 52s\n",
      "56:\tlearn: 0.6677716\ttotal: 24.9s\tremaining: 6m 51s\n",
      "57:\tlearn: 0.6670119\ttotal: 25.2s\tremaining: 6m 49s\n",
      "58:\tlearn: 0.6661210\ttotal: 25.6s\tremaining: 6m 48s\n",
      "59:\tlearn: 0.6647101\ttotal: 26s\tremaining: 6m 47s\n",
      "60:\tlearn: 0.6634411\ttotal: 26.4s\tremaining: 6m 46s\n",
      "61:\tlearn: 0.6623229\ttotal: 26.8s\tremaining: 6m 45s\n",
      "62:\tlearn: 0.6618114\ttotal: 27.1s\tremaining: 6m 43s\n",
      "63:\tlearn: 0.6607785\ttotal: 27.5s\tremaining: 6m 42s\n",
      "64:\tlearn: 0.6601116\ttotal: 27.8s\tremaining: 6m 40s\n",
      "65:\tlearn: 0.6591055\ttotal: 28.2s\tremaining: 6m 39s\n",
      "66:\tlearn: 0.6585143\ttotal: 28.6s\tremaining: 6m 37s\n",
      "67:\tlearn: 0.6576533\ttotal: 29s\tremaining: 6m 37s\n",
      "68:\tlearn: 0.6573374\ttotal: 29.5s\tremaining: 6m 37s\n",
      "69:\tlearn: 0.6567736\ttotal: 29.9s\tremaining: 6m 37s\n",
      "70:\tlearn: 0.6559762\ttotal: 30.4s\tremaining: 6m 37s\n",
      "71:\tlearn: 0.6553040\ttotal: 30.8s\tremaining: 6m 37s\n",
      "72:\tlearn: 0.6545370\ttotal: 31.3s\tremaining: 6m 37s\n",
      "73:\tlearn: 0.6537984\ttotal: 31.8s\tremaining: 6m 37s\n",
      "74:\tlearn: 0.6531530\ttotal: 32.2s\tremaining: 6m 37s\n",
      "75:\tlearn: 0.6525832\ttotal: 32.6s\tremaining: 6m 36s\n",
      "76:\tlearn: 0.6516415\ttotal: 33.1s\tremaining: 6m 37s\n",
      "77:\tlearn: 0.6509112\ttotal: 33.6s\tremaining: 6m 36s\n",
      "78:\tlearn: 0.6500595\ttotal: 34s\tremaining: 6m 35s\n",
      "79:\tlearn: 0.6490008\ttotal: 34.3s\tremaining: 6m 34s\n",
      "80:\tlearn: 0.6483898\ttotal: 34.7s\tremaining: 6m 33s\n",
      "81:\tlearn: 0.6477855\ttotal: 35s\tremaining: 6m 31s\n",
      "82:\tlearn: 0.6472678\ttotal: 35.4s\tremaining: 6m 30s\n",
      "83:\tlearn: 0.6468334\ttotal: 35.7s\tremaining: 6m 29s\n",
      "84:\tlearn: 0.6460757\ttotal: 36.1s\tremaining: 6m 28s\n",
      "85:\tlearn: 0.6453944\ttotal: 36.4s\tremaining: 6m 27s\n",
      "86:\tlearn: 0.6446498\ttotal: 36.8s\tremaining: 6m 26s\n",
      "87:\tlearn: 0.6441221\ttotal: 37.2s\tremaining: 6m 25s\n",
      "88:\tlearn: 0.6431007\ttotal: 37.7s\tremaining: 6m 25s\n",
      "89:\tlearn: 0.6424747\ttotal: 38.1s\tremaining: 6m 25s\n",
      "90:\tlearn: 0.6417155\ttotal: 38.6s\tremaining: 6m 25s\n",
      "91:\tlearn: 0.6412000\ttotal: 39s\tremaining: 6m 24s\n",
      "92:\tlearn: 0.6405551\ttotal: 39.5s\tremaining: 6m 25s\n",
      "93:\tlearn: 0.6398544\ttotal: 40s\tremaining: 6m 25s\n",
      "94:\tlearn: 0.6389573\ttotal: 40.5s\tremaining: 6m 25s\n",
      "95:\tlearn: 0.6384650\ttotal: 40.9s\tremaining: 6m 25s\n",
      "96:\tlearn: 0.6380169\ttotal: 41.3s\tremaining: 6m 24s\n",
      "97:\tlearn: 0.6375382\ttotal: 41.7s\tremaining: 6m 23s\n",
      "98:\tlearn: 0.6371197\ttotal: 42s\tremaining: 6m 22s\n",
      "99:\tlearn: 0.6364297\ttotal: 42.4s\tremaining: 6m 21s\n",
      "100:\tlearn: 0.6356946\ttotal: 42.7s\tremaining: 6m 20s\n",
      "101:\tlearn: 0.6346337\ttotal: 43.2s\tremaining: 6m 20s\n",
      "102:\tlearn: 0.6340752\ttotal: 43.5s\tremaining: 6m 18s\n",
      "103:\tlearn: 0.6333016\ttotal: 43.9s\tremaining: 6m 18s\n",
      "104:\tlearn: 0.6328780\ttotal: 44.2s\tremaining: 6m 16s\n",
      "105:\tlearn: 0.6325363\ttotal: 44.5s\tremaining: 6m 15s\n",
      "106:\tlearn: 0.6319389\ttotal: 44.9s\tremaining: 6m 14s\n",
      "107:\tlearn: 0.6314474\ttotal: 45.2s\tremaining: 6m 13s\n",
      "108:\tlearn: 0.6306570\ttotal: 45.6s\tremaining: 6m 12s\n",
      "109:\tlearn: 0.6295997\ttotal: 46s\tremaining: 6m 12s\n",
      "110:\tlearn: 0.6292598\ttotal: 46.4s\tremaining: 6m 11s\n",
      "111:\tlearn: 0.6287921\ttotal: 46.8s\tremaining: 6m 11s\n",
      "112:\tlearn: 0.6283675\ttotal: 47.4s\tremaining: 6m 11s\n",
      "113:\tlearn: 0.6277576\ttotal: 47.9s\tremaining: 6m 12s\n",
      "114:\tlearn: 0.6272383\ttotal: 48.4s\tremaining: 6m 12s\n",
      "115:\tlearn: 0.6267371\ttotal: 48.9s\tremaining: 6m 12s\n",
      "116:\tlearn: 0.6262465\ttotal: 49.4s\tremaining: 6m 12s\n",
      "117:\tlearn: 0.6252895\ttotal: 49.9s\tremaining: 6m 12s\n",
      "118:\tlearn: 0.6246693\ttotal: 50.3s\tremaining: 6m 12s\n",
      "119:\tlearn: 0.6238031\ttotal: 50.7s\tremaining: 6m 11s\n",
      "120:\tlearn: 0.6231608\ttotal: 51.1s\tremaining: 6m 11s\n",
      "121:\tlearn: 0.6226453\ttotal: 51.4s\tremaining: 6m 10s\n",
      "122:\tlearn: 0.6221492\ttotal: 51.8s\tremaining: 6m 9s\n",
      "123:\tlearn: 0.6213468\ttotal: 52.1s\tremaining: 6m 7s\n",
      "124:\tlearn: 0.6206423\ttotal: 52.5s\tremaining: 6m 7s\n",
      "125:\tlearn: 0.6199171\ttotal: 52.8s\tremaining: 6m 6s\n",
      "126:\tlearn: 0.6194443\ttotal: 53.2s\tremaining: 6m 5s\n",
      "127:\tlearn: 0.6189226\ttotal: 53.6s\tremaining: 6m 5s\n",
      "128:\tlearn: 0.6184997\ttotal: 53.9s\tremaining: 6m 4s\n",
      "129:\tlearn: 0.6177661\ttotal: 54.3s\tremaining: 6m 3s\n",
      "130:\tlearn: 0.6169815\ttotal: 54.7s\tremaining: 6m 2s\n",
      "131:\tlearn: 0.6162181\ttotal: 55.2s\tremaining: 6m 2s\n",
      "132:\tlearn: 0.6157183\ttotal: 55.6s\tremaining: 6m 2s\n",
      "133:\tlearn: 0.6149667\ttotal: 56.1s\tremaining: 6m 2s\n",
      "134:\tlearn: 0.6143898\ttotal: 56.6s\tremaining: 6m 2s\n",
      "135:\tlearn: 0.6137598\ttotal: 57s\tremaining: 6m 2s\n",
      "136:\tlearn: 0.6131034\ttotal: 57.4s\tremaining: 6m 1s\n",
      "137:\tlearn: 0.6128269\ttotal: 57.8s\tremaining: 6m 1s\n",
      "138:\tlearn: 0.6122485\ttotal: 58.3s\tremaining: 6m 1s\n",
      "139:\tlearn: 0.6116477\ttotal: 58.8s\tremaining: 6m 1s\n",
      "140:\tlearn: 0.6110692\ttotal: 59.1s\tremaining: 6m\n",
      "141:\tlearn: 0.6106588\ttotal: 59.5s\tremaining: 5m 59s\n",
      "142:\tlearn: 0.6102229\ttotal: 59.8s\tremaining: 5m 58s\n",
      "143:\tlearn: 0.6093944\ttotal: 1m\tremaining: 5m 57s\n",
      "144:\tlearn: 0.6088779\ttotal: 1m\tremaining: 5m 56s\n",
      "145:\tlearn: 0.6083548\ttotal: 1m\tremaining: 5m 55s\n",
      "146:\tlearn: 0.6078414\ttotal: 1m 1s\tremaining: 5m 55s\n",
      "147:\tlearn: 0.6074005\ttotal: 1m 1s\tremaining: 5m 54s\n",
      "148:\tlearn: 0.6067157\ttotal: 1m 1s\tremaining: 5m 53s\n",
      "149:\tlearn: 0.6060272\ttotal: 1m 2s\tremaining: 5m 53s\n",
      "150:\tlearn: 0.6053604\ttotal: 1m 2s\tremaining: 5m 52s\n",
      "151:\tlearn: 0.6046562\ttotal: 1m 3s\tremaining: 5m 51s\n",
      "152:\tlearn: 0.6043288\ttotal: 1m 3s\tremaining: 5m 51s\n",
      "153:\tlearn: 0.6039853\ttotal: 1m 3s\tremaining: 5m 50s\n",
      "154:\tlearn: 0.6033075\ttotal: 1m 4s\tremaining: 5m 50s\n",
      "155:\tlearn: 0.6026634\ttotal: 1m 4s\tremaining: 5m 50s\n",
      "156:\tlearn: 0.6018151\ttotal: 1m 5s\tremaining: 5m 50s\n",
      "157:\tlearn: 0.6013195\ttotal: 1m 5s\tremaining: 5m 50s\n"
     ]
    },
    {
     "name": "stdout",
     "output_type": "stream",
     "text": [
      "158:\tlearn: 0.6007288\ttotal: 1m 6s\tremaining: 5m 50s\n",
      "159:\tlearn: 0.6000349\ttotal: 1m 6s\tremaining: 5m 50s\n",
      "160:\tlearn: 0.5994263\ttotal: 1m 7s\tremaining: 5m 50s\n",
      "161:\tlearn: 0.5987013\ttotal: 1m 7s\tremaining: 5m 49s\n",
      "162:\tlearn: 0.5981551\ttotal: 1m 8s\tremaining: 5m 49s\n",
      "163:\tlearn: 0.5976046\ttotal: 1m 8s\tremaining: 5m 48s\n",
      "164:\tlearn: 0.5969955\ttotal: 1m 8s\tremaining: 5m 47s\n",
      "165:\tlearn: 0.5964377\ttotal: 1m 9s\tremaining: 5m 47s\n",
      "166:\tlearn: 0.5956231\ttotal: 1m 9s\tremaining: 5m 46s\n",
      "167:\tlearn: 0.5950186\ttotal: 1m 9s\tremaining: 5m 46s\n",
      "168:\tlearn: 0.5947612\ttotal: 1m 10s\tremaining: 5m 45s\n",
      "169:\tlearn: 0.5944037\ttotal: 1m 10s\tremaining: 5m 44s\n",
      "170:\tlearn: 0.5939843\ttotal: 1m 10s\tremaining: 5m 43s\n",
      "171:\tlearn: 0.5936667\ttotal: 1m 11s\tremaining: 5m 43s\n",
      "172:\tlearn: 0.5931136\ttotal: 1m 11s\tremaining: 5m 42s\n",
      "173:\tlearn: 0.5928115\ttotal: 1m 12s\tremaining: 5m 41s\n",
      "174:\tlearn: 0.5921742\ttotal: 1m 12s\tremaining: 5m 41s\n",
      "175:\tlearn: 0.5917145\ttotal: 1m 12s\tremaining: 5m 41s\n",
      "176:\tlearn: 0.5911991\ttotal: 1m 13s\tremaining: 5m 41s\n",
      "177:\tlearn: 0.5906302\ttotal: 1m 13s\tremaining: 5m 41s\n",
      "178:\tlearn: 0.5902340\ttotal: 1m 14s\tremaining: 5m 41s\n",
      "179:\tlearn: 0.5897906\ttotal: 1m 14s\tremaining: 5m 41s\n",
      "180:\tlearn: 0.5894765\ttotal: 1m 15s\tremaining: 5m 40s\n",
      "181:\tlearn: 0.5891295\ttotal: 1m 15s\tremaining: 5m 40s\n",
      "182:\tlearn: 0.5885533\ttotal: 1m 16s\tremaining: 5m 39s\n",
      "183:\tlearn: 0.5880751\ttotal: 1m 16s\tremaining: 5m 39s\n",
      "184:\tlearn: 0.5877020\ttotal: 1m 16s\tremaining: 5m 38s\n",
      "185:\tlearn: 0.5872617\ttotal: 1m 17s\tremaining: 5m 37s\n",
      "186:\tlearn: 0.5867949\ttotal: 1m 17s\tremaining: 5m 37s\n",
      "187:\tlearn: 0.5860320\ttotal: 1m 18s\tremaining: 5m 37s\n",
      "188:\tlearn: 0.5853865\ttotal: 1m 18s\tremaining: 5m 36s\n",
      "189:\tlearn: 0.5849281\ttotal: 1m 18s\tremaining: 5m 35s\n",
      "190:\tlearn: 0.5847500\ttotal: 1m 19s\tremaining: 5m 34s\n",
      "191:\tlearn: 0.5842072\ttotal: 1m 19s\tremaining: 5m 34s\n",
      "192:\tlearn: 0.5836561\ttotal: 1m 19s\tremaining: 5m 34s\n",
      "193:\tlearn: 0.5831979\ttotal: 1m 20s\tremaining: 5m 33s\n",
      "194:\tlearn: 0.5825424\ttotal: 1m 20s\tremaining: 5m 33s\n",
      "195:\tlearn: 0.5820985\ttotal: 1m 21s\tremaining: 5m 32s\n",
      "196:\tlearn: 0.5816522\ttotal: 1m 21s\tremaining: 5m 32s\n",
      "197:\tlearn: 0.5811291\ttotal: 1m 22s\tremaining: 5m 32s\n",
      "198:\tlearn: 0.5807836\ttotal: 1m 22s\tremaining: 5m 32s\n",
      "199:\tlearn: 0.5801433\ttotal: 1m 23s\tremaining: 5m 32s\n",
      "200:\tlearn: 0.5798296\ttotal: 1m 23s\tremaining: 5m 31s\n",
      "201:\tlearn: 0.5792584\ttotal: 1m 23s\tremaining: 5m 31s\n",
      "202:\tlearn: 0.5788873\ttotal: 1m 24s\tremaining: 5m 31s\n",
      "203:\tlearn: 0.5783768\ttotal: 1m 24s\tremaining: 5m 30s\n",
      "204:\tlearn: 0.5780556\ttotal: 1m 25s\tremaining: 5m 29s\n",
      "205:\tlearn: 0.5777102\ttotal: 1m 25s\tremaining: 5m 29s\n",
      "206:\tlearn: 0.5772351\ttotal: 1m 25s\tremaining: 5m 28s\n",
      "207:\tlearn: 0.5767654\ttotal: 1m 26s\tremaining: 5m 27s\n",
      "208:\tlearn: 0.5759762\ttotal: 1m 26s\tremaining: 5m 27s\n",
      "209:\tlearn: 0.5755224\ttotal: 1m 26s\tremaining: 5m 26s\n",
      "210:\tlearn: 0.5749397\ttotal: 1m 27s\tremaining: 5m 25s\n",
      "211:\tlearn: 0.5746025\ttotal: 1m 27s\tremaining: 5m 25s\n",
      "212:\tlearn: 0.5743644\ttotal: 1m 27s\tremaining: 5m 24s\n",
      "213:\tlearn: 0.5738577\ttotal: 1m 28s\tremaining: 5m 24s\n",
      "214:\tlearn: 0.5733166\ttotal: 1m 28s\tremaining: 5m 23s\n",
      "215:\tlearn: 0.5729114\ttotal: 1m 28s\tremaining: 5m 22s\n",
      "216:\tlearn: 0.5724314\ttotal: 1m 29s\tremaining: 5m 22s\n",
      "217:\tlearn: 0.5719803\ttotal: 1m 29s\tremaining: 5m 22s\n",
      "218:\tlearn: 0.5716539\ttotal: 1m 30s\tremaining: 5m 21s\n",
      "219:\tlearn: 0.5713678\ttotal: 1m 30s\tremaining: 5m 21s\n",
      "220:\tlearn: 0.5709965\ttotal: 1m 31s\tremaining: 5m 21s\n",
      "221:\tlearn: 0.5706370\ttotal: 1m 31s\tremaining: 5m 20s\n",
      "222:\tlearn: 0.5701243\ttotal: 1m 32s\tremaining: 5m 20s\n",
      "223:\tlearn: 0.5697633\ttotal: 1m 32s\tremaining: 5m 20s\n",
      "224:\tlearn: 0.5693979\ttotal: 1m 32s\tremaining: 5m 19s\n",
      "225:\tlearn: 0.5689092\ttotal: 1m 33s\tremaining: 5m 19s\n",
      "226:\tlearn: 0.5684585\ttotal: 1m 33s\tremaining: 5m 18s\n",
      "227:\tlearn: 0.5679991\ttotal: 1m 33s\tremaining: 5m 18s\n",
      "228:\tlearn: 0.5674815\ttotal: 1m 34s\tremaining: 5m 17s\n",
      "229:\tlearn: 0.5670881\ttotal: 1m 34s\tremaining: 5m 17s\n",
      "230:\tlearn: 0.5665551\ttotal: 1m 35s\tremaining: 5m 16s\n",
      "231:\tlearn: 0.5660002\ttotal: 1m 35s\tremaining: 5m 16s\n",
      "232:\tlearn: 0.5656060\ttotal: 1m 35s\tremaining: 5m 15s\n",
      "233:\tlearn: 0.5650655\ttotal: 1m 36s\tremaining: 5m 15s\n",
      "234:\tlearn: 0.5648302\ttotal: 1m 36s\tremaining: 5m 14s\n",
      "235:\tlearn: 0.5645986\ttotal: 1m 37s\tremaining: 5m 14s\n",
      "236:\tlearn: 0.5640818\ttotal: 1m 37s\tremaining: 5m 13s\n",
      "237:\tlearn: 0.5637458\ttotal: 1m 37s\tremaining: 5m 13s\n",
      "238:\tlearn: 0.5632852\ttotal: 1m 38s\tremaining: 5m 13s\n",
      "239:\tlearn: 0.5630096\ttotal: 1m 38s\tremaining: 5m 12s\n",
      "240:\tlearn: 0.5625696\ttotal: 1m 39s\tremaining: 5m 12s\n",
      "241:\tlearn: 0.5622532\ttotal: 1m 39s\tremaining: 5m 12s\n",
      "242:\tlearn: 0.5620716\ttotal: 1m 40s\tremaining: 5m 11s\n",
      "243:\tlearn: 0.5615680\ttotal: 1m 40s\tremaining: 5m 11s\n",
      "244:\tlearn: 0.5612630\ttotal: 1m 40s\tremaining: 5m 11s\n",
      "245:\tlearn: 0.5607555\ttotal: 1m 41s\tremaining: 5m 10s\n",
      "246:\tlearn: 0.5602752\ttotal: 1m 41s\tremaining: 5m 10s\n",
      "247:\tlearn: 0.5596068\ttotal: 1m 42s\tremaining: 5m 10s\n",
      "248:\tlearn: 0.5593201\ttotal: 1m 42s\tremaining: 5m 9s\n",
      "249:\tlearn: 0.5590215\ttotal: 1m 43s\tremaining: 5m 9s\n",
      "250:\tlearn: 0.5584794\ttotal: 1m 43s\tremaining: 5m 8s\n",
      "251:\tlearn: 0.5582846\ttotal: 1m 43s\tremaining: 5m 8s\n",
      "252:\tlearn: 0.5578123\ttotal: 1m 44s\tremaining: 5m 7s\n",
      "253:\tlearn: 0.5574261\ttotal: 1m 44s\tremaining: 5m 7s\n",
      "254:\tlearn: 0.5569198\ttotal: 1m 45s\tremaining: 5m 6s\n",
      "255:\tlearn: 0.5564411\ttotal: 1m 45s\tremaining: 5m 6s\n",
      "256:\tlearn: 0.5560624\ttotal: 1m 45s\tremaining: 5m 5s\n",
      "257:\tlearn: 0.5557313\ttotal: 1m 46s\tremaining: 5m 5s\n",
      "258:\tlearn: 0.5554484\ttotal: 1m 46s\tremaining: 5m 5s\n",
      "259:\tlearn: 0.5550036\ttotal: 1m 47s\tremaining: 5m 4s\n",
      "260:\tlearn: 0.5546747\ttotal: 1m 47s\tremaining: 5m 4s\n",
      "261:\tlearn: 0.5544592\ttotal: 1m 47s\tremaining: 5m 4s\n",
      "262:\tlearn: 0.5541340\ttotal: 1m 48s\tremaining: 5m 3s\n",
      "263:\tlearn: 0.5538413\ttotal: 1m 48s\tremaining: 5m 3s\n",
      "264:\tlearn: 0.5534392\ttotal: 1m 49s\tremaining: 5m 3s\n",
      "265:\tlearn: 0.5529387\ttotal: 1m 49s\tremaining: 5m 2s\n",
      "266:\tlearn: 0.5525209\ttotal: 1m 50s\tremaining: 5m 2s\n",
      "267:\tlearn: 0.5521146\ttotal: 1m 50s\tremaining: 5m 2s\n",
      "268:\tlearn: 0.5518573\ttotal: 1m 50s\tremaining: 5m 1s\n",
      "269:\tlearn: 0.5515944\ttotal: 1m 51s\tremaining: 5m 1s\n",
      "270:\tlearn: 0.5510252\ttotal: 1m 51s\tremaining: 5m\n",
      "271:\tlearn: 0.5507100\ttotal: 1m 52s\tremaining: 4m 59s\n",
      "272:\tlearn: 0.5505490\ttotal: 1m 52s\tremaining: 4m 59s\n",
      "273:\tlearn: 0.5501046\ttotal: 1m 52s\tremaining: 4m 58s\n",
      "274:\tlearn: 0.5495871\ttotal: 1m 53s\tremaining: 4m 58s\n",
      "275:\tlearn: 0.5492680\ttotal: 1m 53s\tremaining: 4m 57s\n",
      "276:\tlearn: 0.5489738\ttotal: 1m 53s\tremaining: 4m 57s\n",
      "277:\tlearn: 0.5483965\ttotal: 1m 54s\tremaining: 4m 57s\n",
      "278:\tlearn: 0.5480282\ttotal: 1m 54s\tremaining: 4m 57s\n",
      "279:\tlearn: 0.5475173\ttotal: 1m 55s\tremaining: 4m 56s\n",
      "280:\tlearn: 0.5471324\ttotal: 1m 55s\tremaining: 4m 56s\n",
      "281:\tlearn: 0.5468940\ttotal: 1m 56s\tremaining: 4m 55s\n",
      "282:\tlearn: 0.5464437\ttotal: 1m 56s\tremaining: 4m 55s\n",
      "283:\tlearn: 0.5461049\ttotal: 1m 57s\tremaining: 4m 55s\n",
      "284:\tlearn: 0.5456900\ttotal: 1m 57s\tremaining: 4m 55s\n",
      "285:\tlearn: 0.5453362\ttotal: 1m 57s\tremaining: 4m 54s\n",
      "286:\tlearn: 0.5449072\ttotal: 1m 58s\tremaining: 4m 54s\n",
      "287:\tlearn: 0.5442336\ttotal: 1m 58s\tremaining: 4m 53s\n",
      "288:\tlearn: 0.5438595\ttotal: 1m 59s\tremaining: 4m 53s\n",
      "289:\tlearn: 0.5434981\ttotal: 1m 59s\tremaining: 4m 52s\n",
      "290:\tlearn: 0.5431267\ttotal: 2m\tremaining: 4m 52s\n",
      "291:\tlearn: 0.5428356\ttotal: 2m\tremaining: 4m 52s\n",
      "292:\tlearn: 0.5423529\ttotal: 2m\tremaining: 4m 51s\n",
      "293:\tlearn: 0.5421160\ttotal: 2m 1s\tremaining: 4m 51s\n",
      "294:\tlearn: 0.5418789\ttotal: 2m 1s\tremaining: 4m 51s\n",
      "295:\tlearn: 0.5415640\ttotal: 2m 2s\tremaining: 4m 50s\n",
      "296:\tlearn: 0.5411409\ttotal: 2m 2s\tremaining: 4m 50s\n",
      "297:\tlearn: 0.5406446\ttotal: 2m 3s\tremaining: 4m 50s\n",
      "298:\tlearn: 0.5401953\ttotal: 2m 3s\tremaining: 4m 49s\n",
      "299:\tlearn: 0.5398029\ttotal: 2m 4s\tremaining: 4m 49s\n",
      "300:\tlearn: 0.5393182\ttotal: 2m 4s\tremaining: 4m 49s\n",
      "301:\tlearn: 0.5389801\ttotal: 2m 4s\tremaining: 4m 48s\n",
      "302:\tlearn: 0.5386338\ttotal: 2m 5s\tremaining: 4m 48s\n",
      "303:\tlearn: 0.5383832\ttotal: 2m 5s\tremaining: 4m 48s\n",
      "304:\tlearn: 0.5380610\ttotal: 2m 6s\tremaining: 4m 47s\n",
      "305:\tlearn: 0.5375735\ttotal: 2m 6s\tremaining: 4m 47s\n",
      "306:\tlearn: 0.5373651\ttotal: 2m 6s\tremaining: 4m 46s\n",
      "307:\tlearn: 0.5368925\ttotal: 2m 7s\tremaining: 4m 46s\n",
      "308:\tlearn: 0.5365358\ttotal: 2m 7s\tremaining: 4m 45s\n",
      "309:\tlearn: 0.5361310\ttotal: 2m 8s\tremaining: 4m 45s\n",
      "310:\tlearn: 0.5359672\ttotal: 2m 8s\tremaining: 4m 45s\n"
     ]
    },
    {
     "name": "stdout",
     "output_type": "stream",
     "text": [
      "311:\tlearn: 0.5355896\ttotal: 2m 9s\tremaining: 4m 44s\n",
      "312:\tlearn: 0.5351825\ttotal: 2m 9s\tremaining: 4m 44s\n",
      "313:\tlearn: 0.5348452\ttotal: 2m 9s\tremaining: 4m 43s\n",
      "314:\tlearn: 0.5346284\ttotal: 2m 10s\tremaining: 4m 43s\n",
      "315:\tlearn: 0.5343079\ttotal: 2m 10s\tremaining: 4m 43s\n",
      "316:\tlearn: 0.5338689\ttotal: 2m 11s\tremaining: 4m 42s\n",
      "317:\tlearn: 0.5335912\ttotal: 2m 11s\tremaining: 4m 42s\n",
      "318:\tlearn: 0.5333277\ttotal: 2m 11s\tremaining: 4m 41s\n",
      "319:\tlearn: 0.5329898\ttotal: 2m 12s\tremaining: 4m 41s\n",
      "320:\tlearn: 0.5327365\ttotal: 2m 12s\tremaining: 4m 40s\n",
      "321:\tlearn: 0.5323081\ttotal: 2m 13s\tremaining: 4m 40s\n",
      "322:\tlearn: 0.5319999\ttotal: 2m 13s\tremaining: 4m 40s\n",
      "323:\tlearn: 0.5317921\ttotal: 2m 14s\tremaining: 4m 39s\n",
      "324:\tlearn: 0.5311622\ttotal: 2m 14s\tremaining: 4m 39s\n",
      "325:\tlearn: 0.5308506\ttotal: 2m 14s\tremaining: 4m 39s\n",
      "326:\tlearn: 0.5303784\ttotal: 2m 15s\tremaining: 4m 38s\n",
      "327:\tlearn: 0.5300288\ttotal: 2m 15s\tremaining: 4m 38s\n",
      "328:\tlearn: 0.5297155\ttotal: 2m 16s\tremaining: 4m 37s\n",
      "329:\tlearn: 0.5294357\ttotal: 2m 16s\tremaining: 4m 37s\n",
      "330:\tlearn: 0.5292709\ttotal: 2m 17s\tremaining: 4m 37s\n",
      "331:\tlearn: 0.5289567\ttotal: 2m 17s\tremaining: 4m 36s\n",
      "332:\tlearn: 0.5287753\ttotal: 2m 17s\tremaining: 4m 36s\n",
      "333:\tlearn: 0.5285474\ttotal: 2m 18s\tremaining: 4m 35s\n",
      "334:\tlearn: 0.5283073\ttotal: 2m 18s\tremaining: 4m 35s\n",
      "335:\tlearn: 0.5280072\ttotal: 2m 19s\tremaining: 4m 35s\n",
      "336:\tlearn: 0.5274988\ttotal: 2m 19s\tremaining: 4m 34s\n",
      "337:\tlearn: 0.5271991\ttotal: 2m 20s\tremaining: 4m 34s\n",
      "338:\tlearn: 0.5268993\ttotal: 2m 20s\tremaining: 4m 34s\n",
      "339:\tlearn: 0.5265514\ttotal: 2m 20s\tremaining: 4m 33s\n",
      "340:\tlearn: 0.5262889\ttotal: 2m 21s\tremaining: 4m 33s\n",
      "341:\tlearn: 0.5258407\ttotal: 2m 21s\tremaining: 4m 32s\n",
      "342:\tlearn: 0.5253859\ttotal: 2m 22s\tremaining: 4m 32s\n",
      "343:\tlearn: 0.5249469\ttotal: 2m 22s\tremaining: 4m 32s\n",
      "344:\tlearn: 0.5245623\ttotal: 2m 23s\tremaining: 4m 32s\n",
      "345:\tlearn: 0.5242429\ttotal: 2m 23s\tremaining: 4m 31s\n",
      "346:\tlearn: 0.5237957\ttotal: 2m 24s\tremaining: 4m 31s\n",
      "347:\tlearn: 0.5233785\ttotal: 2m 24s\tremaining: 4m 31s\n",
      "348:\tlearn: 0.5229027\ttotal: 2m 25s\tremaining: 4m 30s\n",
      "349:\tlearn: 0.5227714\ttotal: 2m 25s\tremaining: 4m 30s\n",
      "350:\tlearn: 0.5225553\ttotal: 2m 26s\tremaining: 4m 30s\n",
      "351:\tlearn: 0.5221474\ttotal: 2m 26s\tremaining: 4m 29s\n",
      "352:\tlearn: 0.5220147\ttotal: 2m 26s\tremaining: 4m 29s\n",
      "353:\tlearn: 0.5217220\ttotal: 2m 27s\tremaining: 4m 28s\n",
      "354:\tlearn: 0.5213230\ttotal: 2m 27s\tremaining: 4m 28s\n",
      "355:\tlearn: 0.5211141\ttotal: 2m 28s\tremaining: 4m 27s\n",
      "356:\tlearn: 0.5208832\ttotal: 2m 28s\tremaining: 4m 27s\n",
      "357:\tlearn: 0.5204775\ttotal: 2m 29s\tremaining: 4m 27s\n",
      "358:\tlearn: 0.5202135\ttotal: 2m 29s\tremaining: 4m 26s\n",
      "359:\tlearn: 0.5199844\ttotal: 2m 29s\tremaining: 4m 26s\n",
      "360:\tlearn: 0.5195110\ttotal: 2m 30s\tremaining: 4m 25s\n",
      "361:\tlearn: 0.5193352\ttotal: 2m 30s\tremaining: 4m 25s\n",
      "362:\tlearn: 0.5191381\ttotal: 2m 31s\tremaining: 4m 25s\n",
      "363:\tlearn: 0.5188329\ttotal: 2m 31s\tremaining: 4m 24s\n",
      "364:\tlearn: 0.5183024\ttotal: 2m 31s\tremaining: 4m 24s\n",
      "365:\tlearn: 0.5180552\ttotal: 2m 32s\tremaining: 4m 24s\n",
      "366:\tlearn: 0.5175646\ttotal: 2m 32s\tremaining: 4m 23s\n",
      "367:\tlearn: 0.5171978\ttotal: 2m 33s\tremaining: 4m 23s\n",
      "368:\tlearn: 0.5169479\ttotal: 2m 33s\tremaining: 4m 22s\n",
      "369:\tlearn: 0.5166936\ttotal: 2m 34s\tremaining: 4m 22s\n",
      "370:\tlearn: 0.5163497\ttotal: 2m 34s\tremaining: 4m 22s\n",
      "371:\tlearn: 0.5160267\ttotal: 2m 35s\tremaining: 4m 21s\n",
      "372:\tlearn: 0.5157957\ttotal: 2m 35s\tremaining: 4m 21s\n",
      "373:\tlearn: 0.5153886\ttotal: 2m 35s\tremaining: 4m 21s\n",
      "374:\tlearn: 0.5150914\ttotal: 2m 36s\tremaining: 4m 20s\n",
      "375:\tlearn: 0.5149191\ttotal: 2m 36s\tremaining: 4m 20s\n",
      "376:\tlearn: 0.5146507\ttotal: 2m 37s\tremaining: 4m 19s\n",
      "377:\tlearn: 0.5142658\ttotal: 2m 37s\tremaining: 4m 19s\n",
      "378:\tlearn: 0.5139594\ttotal: 2m 38s\tremaining: 4m 19s\n",
      "379:\tlearn: 0.5135908\ttotal: 2m 38s\tremaining: 4m 18s\n",
      "380:\tlearn: 0.5133639\ttotal: 2m 39s\tremaining: 4m 18s\n",
      "381:\tlearn: 0.5130487\ttotal: 2m 39s\tremaining: 4m 18s\n",
      "382:\tlearn: 0.5126582\ttotal: 2m 39s\tremaining: 4m 17s\n",
      "383:\tlearn: 0.5123560\ttotal: 2m 40s\tremaining: 4m 17s\n",
      "384:\tlearn: 0.5121197\ttotal: 2m 40s\tremaining: 4m 16s\n",
      "385:\tlearn: 0.5119023\ttotal: 2m 41s\tremaining: 4m 16s\n",
      "386:\tlearn: 0.5115596\ttotal: 2m 41s\tremaining: 4m 16s\n",
      "387:\tlearn: 0.5113376\ttotal: 2m 42s\tremaining: 4m 15s\n",
      "388:\tlearn: 0.5108660\ttotal: 2m 42s\tremaining: 4m 15s\n",
      "389:\tlearn: 0.5105267\ttotal: 2m 42s\tremaining: 4m 14s\n",
      "390:\tlearn: 0.5101233\ttotal: 2m 43s\tremaining: 4m 14s\n",
      "391:\tlearn: 0.5099146\ttotal: 2m 43s\tremaining: 4m 13s\n",
      "392:\tlearn: 0.5096672\ttotal: 2m 44s\tremaining: 4m 13s\n",
      "393:\tlearn: 0.5094410\ttotal: 2m 44s\tremaining: 4m 13s\n",
      "394:\tlearn: 0.5092233\ttotal: 2m 45s\tremaining: 4m 12s\n",
      "395:\tlearn: 0.5090067\ttotal: 2m 45s\tremaining: 4m 12s\n",
      "396:\tlearn: 0.5088108\ttotal: 2m 46s\tremaining: 4m 12s\n",
      "397:\tlearn: 0.5085928\ttotal: 2m 46s\tremaining: 4m 11s\n",
      "398:\tlearn: 0.5082264\ttotal: 2m 47s\tremaining: 4m 11s\n",
      "399:\tlearn: 0.5078682\ttotal: 2m 47s\tremaining: 4m 11s\n",
      "400:\tlearn: 0.5075479\ttotal: 2m 47s\tremaining: 4m 10s\n",
      "401:\tlearn: 0.5072049\ttotal: 2m 48s\tremaining: 4m 10s\n",
      "402:\tlearn: 0.5069590\ttotal: 2m 48s\tremaining: 4m 10s\n",
      "403:\tlearn: 0.5068287\ttotal: 2m 49s\tremaining: 4m 9s\n",
      "404:\tlearn: 0.5064837\ttotal: 2m 49s\tremaining: 4m 9s\n",
      "405:\tlearn: 0.5063252\ttotal: 2m 50s\tremaining: 4m 8s\n",
      "406:\tlearn: 0.5061147\ttotal: 2m 50s\tremaining: 4m 8s\n",
      "407:\tlearn: 0.5058352\ttotal: 2m 51s\tremaining: 4m 8s\n",
      "408:\tlearn: 0.5055616\ttotal: 2m 51s\tremaining: 4m 7s\n",
      "409:\tlearn: 0.5052369\ttotal: 2m 52s\tremaining: 4m 7s\n",
      "410:\tlearn: 0.5045920\ttotal: 2m 52s\tremaining: 4m 7s\n",
      "411:\tlearn: 0.5043938\ttotal: 2m 53s\tremaining: 4m 6s\n",
      "412:\tlearn: 0.5040081\ttotal: 2m 53s\tremaining: 4m 6s\n",
      "413:\tlearn: 0.5038460\ttotal: 2m 54s\tremaining: 4m 6s\n",
      "414:\tlearn: 0.5035979\ttotal: 2m 54s\tremaining: 4m 5s\n",
      "415:\tlearn: 0.5034408\ttotal: 2m 54s\tremaining: 4m 5s\n",
      "416:\tlearn: 0.5032950\ttotal: 2m 55s\tremaining: 4m 5s\n",
      "417:\tlearn: 0.5031088\ttotal: 2m 55s\tremaining: 4m 4s\n",
      "418:\tlearn: 0.5028670\ttotal: 2m 56s\tremaining: 4m 4s\n",
      "419:\tlearn: 0.5024687\ttotal: 2m 56s\tremaining: 4m 4s\n",
      "420:\tlearn: 0.5021705\ttotal: 2m 57s\tremaining: 4m 3s\n",
      "421:\tlearn: 0.5016974\ttotal: 2m 57s\tremaining: 4m 3s\n",
      "422:\tlearn: 0.5014666\ttotal: 2m 58s\tremaining: 4m 3s\n",
      "423:\tlearn: 0.5012039\ttotal: 2m 58s\tremaining: 4m 2s\n",
      "424:\tlearn: 0.5008584\ttotal: 2m 59s\tremaining: 4m 2s\n",
      "425:\tlearn: 0.5007002\ttotal: 2m 59s\tremaining: 4m 1s\n",
      "426:\tlearn: 0.5003905\ttotal: 3m\tremaining: 4m 1s\n",
      "427:\tlearn: 0.5001955\ttotal: 3m\tremaining: 4m 1s\n",
      "428:\tlearn: 0.5000585\ttotal: 3m\tremaining: 4m\n",
      "429:\tlearn: 0.4998163\ttotal: 3m 1s\tremaining: 4m\n",
      "430:\tlearn: 0.4996241\ttotal: 3m 1s\tremaining: 3m 59s\n",
      "431:\tlearn: 0.4994229\ttotal: 3m 2s\tremaining: 3m 59s\n",
      "432:\tlearn: 0.4991052\ttotal: 3m 2s\tremaining: 3m 59s\n",
      "433:\tlearn: 0.4988403\ttotal: 3m 3s\tremaining: 3m 58s\n",
      "434:\tlearn: 0.4985752\ttotal: 3m 3s\tremaining: 3m 58s\n",
      "435:\tlearn: 0.4982347\ttotal: 3m 3s\tremaining: 3m 57s\n",
      "436:\tlearn: 0.4979480\ttotal: 3m 4s\tremaining: 3m 57s\n",
      "437:\tlearn: 0.4976853\ttotal: 3m 4s\tremaining: 3m 57s\n",
      "438:\tlearn: 0.4973206\ttotal: 3m 5s\tremaining: 3m 56s\n",
      "439:\tlearn: 0.4969943\ttotal: 3m 5s\tremaining: 3m 56s\n",
      "440:\tlearn: 0.4967648\ttotal: 3m 6s\tremaining: 3m 56s\n",
      "441:\tlearn: 0.4965168\ttotal: 3m 6s\tremaining: 3m 55s\n",
      "442:\tlearn: 0.4963057\ttotal: 3m 7s\tremaining: 3m 55s\n",
      "443:\tlearn: 0.4958118\ttotal: 3m 7s\tremaining: 3m 55s\n",
      "444:\tlearn: 0.4955187\ttotal: 3m 8s\tremaining: 3m 54s\n",
      "445:\tlearn: 0.4952255\ttotal: 3m 8s\tremaining: 3m 54s\n",
      "446:\tlearn: 0.4947562\ttotal: 3m 9s\tremaining: 3m 54s\n",
      "447:\tlearn: 0.4945440\ttotal: 3m 9s\tremaining: 3m 53s\n",
      "448:\tlearn: 0.4943662\ttotal: 3m 10s\tremaining: 3m 53s\n",
      "449:\tlearn: 0.4941396\ttotal: 3m 10s\tremaining: 3m 52s\n",
      "450:\tlearn: 0.4937935\ttotal: 3m 11s\tremaining: 3m 52s\n",
      "451:\tlearn: 0.4935223\ttotal: 3m 11s\tremaining: 3m 52s\n",
      "452:\tlearn: 0.4931142\ttotal: 3m 12s\tremaining: 3m 51s\n",
      "453:\tlearn: 0.4928782\ttotal: 3m 12s\tremaining: 3m 51s\n",
      "454:\tlearn: 0.4926320\ttotal: 3m 12s\tremaining: 3m 51s\n",
      "455:\tlearn: 0.4923826\ttotal: 3m 13s\tremaining: 3m 50s\n",
      "456:\tlearn: 0.4921659\ttotal: 3m 13s\tremaining: 3m 50s\n",
      "457:\tlearn: 0.4918271\ttotal: 3m 14s\tremaining: 3m 50s\n",
      "458:\tlearn: 0.4915590\ttotal: 3m 14s\tremaining: 3m 49s\n",
      "459:\tlearn: 0.4913537\ttotal: 3m 15s\tremaining: 3m 49s\n",
      "460:\tlearn: 0.4911455\ttotal: 3m 15s\tremaining: 3m 48s\n",
      "461:\tlearn: 0.4908589\ttotal: 3m 16s\tremaining: 3m 48s\n",
      "462:\tlearn: 0.4907154\ttotal: 3m 16s\tremaining: 3m 48s\n",
      "463:\tlearn: 0.4905005\ttotal: 3m 17s\tremaining: 3m 47s\n"
     ]
    },
    {
     "name": "stdout",
     "output_type": "stream",
     "text": [
      "464:\tlearn: 0.4901854\ttotal: 3m 17s\tremaining: 3m 47s\n",
      "465:\tlearn: 0.4899648\ttotal: 3m 18s\tremaining: 3m 47s\n",
      "466:\tlearn: 0.4898025\ttotal: 3m 18s\tremaining: 3m 46s\n",
      "467:\tlearn: 0.4896457\ttotal: 3m 19s\tremaining: 3m 46s\n",
      "468:\tlearn: 0.4895201\ttotal: 3m 19s\tremaining: 3m 45s\n",
      "469:\tlearn: 0.4891360\ttotal: 3m 20s\tremaining: 3m 45s\n",
      "470:\tlearn: 0.4887660\ttotal: 3m 20s\tremaining: 3m 45s\n",
      "471:\tlearn: 0.4885013\ttotal: 3m 21s\tremaining: 3m 45s\n",
      "472:\tlearn: 0.4881714\ttotal: 3m 21s\tremaining: 3m 44s\n",
      "473:\tlearn: 0.4877958\ttotal: 3m 22s\tremaining: 3m 44s\n",
      "474:\tlearn: 0.4874663\ttotal: 3m 22s\tremaining: 3m 44s\n",
      "475:\tlearn: 0.4871450\ttotal: 3m 23s\tremaining: 3m 43s\n",
      "476:\tlearn: 0.4869342\ttotal: 3m 23s\tremaining: 3m 43s\n",
      "477:\tlearn: 0.4865946\ttotal: 3m 24s\tremaining: 3m 42s\n",
      "478:\tlearn: 0.4861662\ttotal: 3m 24s\tremaining: 3m 42s\n",
      "479:\tlearn: 0.4859924\ttotal: 3m 25s\tremaining: 3m 42s\n",
      "480:\tlearn: 0.4856579\ttotal: 3m 25s\tremaining: 3m 41s\n",
      "481:\tlearn: 0.4854332\ttotal: 3m 26s\tremaining: 3m 41s\n",
      "482:\tlearn: 0.4852172\ttotal: 3m 26s\tremaining: 3m 41s\n",
      "483:\tlearn: 0.4849409\ttotal: 3m 27s\tremaining: 3m 40s\n",
      "484:\tlearn: 0.4846716\ttotal: 3m 27s\tremaining: 3m 40s\n",
      "485:\tlearn: 0.4844482\ttotal: 3m 28s\tremaining: 3m 40s\n",
      "486:\tlearn: 0.4840190\ttotal: 3m 28s\tremaining: 3m 39s\n",
      "487:\tlearn: 0.4839540\ttotal: 3m 29s\tremaining: 3m 39s\n",
      "488:\tlearn: 0.4837469\ttotal: 3m 29s\tremaining: 3m 38s\n",
      "489:\tlearn: 0.4834408\ttotal: 3m 29s\tremaining: 3m 38s\n",
      "490:\tlearn: 0.4831893\ttotal: 3m 30s\tremaining: 3m 38s\n",
      "491:\tlearn: 0.4828600\ttotal: 3m 30s\tremaining: 3m 37s\n",
      "492:\tlearn: 0.4825475\ttotal: 3m 31s\tremaining: 3m 37s\n",
      "493:\tlearn: 0.4823897\ttotal: 3m 31s\tremaining: 3m 36s\n",
      "494:\tlearn: 0.4822059\ttotal: 3m 32s\tremaining: 3m 36s\n",
      "495:\tlearn: 0.4819740\ttotal: 3m 32s\tremaining: 3m 36s\n",
      "496:\tlearn: 0.4816851\ttotal: 3m 33s\tremaining: 3m 35s\n",
      "497:\tlearn: 0.4814265\ttotal: 3m 33s\tremaining: 3m 35s\n",
      "498:\tlearn: 0.4812460\ttotal: 3m 34s\tremaining: 3m 34s\n",
      "499:\tlearn: 0.4809451\ttotal: 3m 34s\tremaining: 3m 34s\n",
      "500:\tlearn: 0.4807136\ttotal: 3m 34s\tremaining: 3m 34s\n",
      "501:\tlearn: 0.4804861\ttotal: 3m 35s\tremaining: 3m 33s\n",
      "502:\tlearn: 0.4800996\ttotal: 3m 35s\tremaining: 3m 33s\n",
      "503:\tlearn: 0.4798731\ttotal: 3m 36s\tremaining: 3m 33s\n",
      "504:\tlearn: 0.4794729\ttotal: 3m 36s\tremaining: 3m 32s\n",
      "505:\tlearn: 0.4792471\ttotal: 3m 37s\tremaining: 3m 32s\n",
      "506:\tlearn: 0.4790668\ttotal: 3m 37s\tremaining: 3m 31s\n",
      "507:\tlearn: 0.4788810\ttotal: 3m 38s\tremaining: 3m 31s\n",
      "508:\tlearn: 0.4786732\ttotal: 3m 38s\tremaining: 3m 31s\n",
      "509:\tlearn: 0.4783734\ttotal: 3m 39s\tremaining: 3m 30s\n",
      "510:\tlearn: 0.4782204\ttotal: 3m 39s\tremaining: 3m 30s\n",
      "511:\tlearn: 0.4780944\ttotal: 3m 40s\tremaining: 3m 29s\n",
      "512:\tlearn: 0.4777829\ttotal: 3m 40s\tremaining: 3m 29s\n",
      "513:\tlearn: 0.4774862\ttotal: 3m 41s\tremaining: 3m 29s\n",
      "514:\tlearn: 0.4772053\ttotal: 3m 41s\tremaining: 3m 28s\n",
      "515:\tlearn: 0.4768998\ttotal: 3m 42s\tremaining: 3m 28s\n",
      "516:\tlearn: 0.4766407\ttotal: 3m 42s\tremaining: 3m 28s\n",
      "517:\tlearn: 0.4763232\ttotal: 3m 43s\tremaining: 3m 27s\n",
      "518:\tlearn: 0.4759562\ttotal: 3m 43s\tremaining: 3m 27s\n",
      "519:\tlearn: 0.4756256\ttotal: 3m 44s\tremaining: 3m 27s\n",
      "520:\tlearn: 0.4754083\ttotal: 3m 45s\tremaining: 3m 26s\n",
      "521:\tlearn: 0.4752018\ttotal: 3m 45s\tremaining: 3m 26s\n",
      "522:\tlearn: 0.4750097\ttotal: 3m 46s\tremaining: 3m 26s\n",
      "523:\tlearn: 0.4746516\ttotal: 3m 46s\tremaining: 3m 25s\n",
      "524:\tlearn: 0.4744560\ttotal: 3m 47s\tremaining: 3m 25s\n",
      "525:\tlearn: 0.4741473\ttotal: 3m 47s\tremaining: 3m 25s\n",
      "526:\tlearn: 0.4738329\ttotal: 3m 48s\tremaining: 3m 24s\n",
      "527:\tlearn: 0.4735613\ttotal: 3m 48s\tremaining: 3m 24s\n",
      "528:\tlearn: 0.4732780\ttotal: 3m 49s\tremaining: 3m 24s\n",
      "529:\tlearn: 0.4729931\ttotal: 3m 49s\tremaining: 3m 23s\n",
      "530:\tlearn: 0.4727624\ttotal: 3m 50s\tremaining: 3m 23s\n",
      "531:\tlearn: 0.4725227\ttotal: 3m 50s\tremaining: 3m 23s\n",
      "532:\tlearn: 0.4721528\ttotal: 3m 51s\tremaining: 3m 22s\n",
      "533:\tlearn: 0.4718205\ttotal: 3m 51s\tremaining: 3m 22s\n",
      "534:\tlearn: 0.4716234\ttotal: 3m 52s\tremaining: 3m 21s\n",
      "535:\tlearn: 0.4714092\ttotal: 3m 52s\tremaining: 3m 21s\n",
      "536:\tlearn: 0.4711690\ttotal: 3m 53s\tremaining: 3m 21s\n",
      "537:\tlearn: 0.4708776\ttotal: 3m 53s\tremaining: 3m 20s\n",
      "538:\tlearn: 0.4705628\ttotal: 3m 54s\tremaining: 3m 20s\n",
      "539:\tlearn: 0.4704220\ttotal: 3m 54s\tremaining: 3m 20s\n",
      "540:\tlearn: 0.4702298\ttotal: 3m 55s\tremaining: 3m 19s\n",
      "541:\tlearn: 0.4700691\ttotal: 3m 55s\tremaining: 3m 19s\n",
      "542:\tlearn: 0.4698671\ttotal: 3m 56s\tremaining: 3m 18s\n",
      "543:\tlearn: 0.4695184\ttotal: 3m 56s\tremaining: 3m 18s\n",
      "544:\tlearn: 0.4692984\ttotal: 3m 57s\tremaining: 3m 18s\n",
      "545:\tlearn: 0.4688640\ttotal: 3m 57s\tremaining: 3m 17s\n",
      "546:\tlearn: 0.4686841\ttotal: 3m 58s\tremaining: 3m 17s\n",
      "547:\tlearn: 0.4683441\ttotal: 3m 58s\tremaining: 3m 17s\n",
      "548:\tlearn: 0.4681433\ttotal: 3m 59s\tremaining: 3m 16s\n",
      "549:\tlearn: 0.4678106\ttotal: 3m 59s\tremaining: 3m 16s\n",
      "550:\tlearn: 0.4674796\ttotal: 4m\tremaining: 3m 15s\n",
      "551:\tlearn: 0.4672309\ttotal: 4m\tremaining: 3m 15s\n",
      "552:\tlearn: 0.4670378\ttotal: 4m 1s\tremaining: 3m 15s\n",
      "553:\tlearn: 0.4668176\ttotal: 4m 1s\tremaining: 3m 14s\n",
      "554:\tlearn: 0.4666942\ttotal: 4m 2s\tremaining: 3m 14s\n",
      "555:\tlearn: 0.4665591\ttotal: 4m 2s\tremaining: 3m 13s\n",
      "556:\tlearn: 0.4663786\ttotal: 4m 3s\tremaining: 3m 13s\n",
      "557:\tlearn: 0.4662590\ttotal: 4m 3s\tremaining: 3m 13s\n",
      "558:\tlearn: 0.4660164\ttotal: 4m 4s\tremaining: 3m 12s\n",
      "559:\tlearn: 0.4657934\ttotal: 4m 4s\tremaining: 3m 12s\n",
      "560:\tlearn: 0.4655825\ttotal: 4m 5s\tremaining: 3m 11s\n",
      "561:\tlearn: 0.4653374\ttotal: 4m 5s\tremaining: 3m 11s\n",
      "562:\tlearn: 0.4649243\ttotal: 4m 6s\tremaining: 3m 11s\n",
      "563:\tlearn: 0.4644703\ttotal: 4m 6s\tremaining: 3m 10s\n",
      "564:\tlearn: 0.4641780\ttotal: 4m 7s\tremaining: 3m 10s\n",
      "565:\tlearn: 0.4640416\ttotal: 4m 7s\tremaining: 3m 10s\n",
      "566:\tlearn: 0.4638295\ttotal: 4m 8s\tremaining: 3m 9s\n",
      "567:\tlearn: 0.4636181\ttotal: 4m 8s\tremaining: 3m 9s\n",
      "568:\tlearn: 0.4634068\ttotal: 4m 9s\tremaining: 3m 8s\n",
      "569:\tlearn: 0.4630332\ttotal: 4m 9s\tremaining: 3m 8s\n",
      "570:\tlearn: 0.4628874\ttotal: 4m 10s\tremaining: 3m 8s\n",
      "571:\tlearn: 0.4626958\ttotal: 4m 10s\tremaining: 3m 7s\n",
      "572:\tlearn: 0.4624031\ttotal: 4m 11s\tremaining: 3m 7s\n",
      "573:\tlearn: 0.4621250\ttotal: 4m 11s\tremaining: 3m 7s\n",
      "574:\tlearn: 0.4619551\ttotal: 4m 12s\tremaining: 3m 6s\n",
      "575:\tlearn: 0.4617398\ttotal: 4m 12s\tremaining: 3m 6s\n",
      "576:\tlearn: 0.4613944\ttotal: 4m 13s\tremaining: 3m 5s\n",
      "577:\tlearn: 0.4612190\ttotal: 4m 13s\tremaining: 3m 5s\n",
      "578:\tlearn: 0.4609941\ttotal: 4m 14s\tremaining: 3m 4s\n",
      "579:\tlearn: 0.4607011\ttotal: 4m 14s\tremaining: 3m 4s\n",
      "580:\tlearn: 0.4604268\ttotal: 4m 15s\tremaining: 3m 4s\n",
      "581:\tlearn: 0.4601756\ttotal: 4m 16s\tremaining: 3m 3s\n",
      "582:\tlearn: 0.4599655\ttotal: 4m 16s\tremaining: 3m 3s\n",
      "583:\tlearn: 0.4596172\ttotal: 4m 17s\tremaining: 3m 3s\n",
      "584:\tlearn: 0.4594708\ttotal: 4m 17s\tremaining: 3m 2s\n",
      "585:\tlearn: 0.4592274\ttotal: 4m 18s\tremaining: 3m 2s\n",
      "586:\tlearn: 0.4590396\ttotal: 4m 18s\tremaining: 3m 1s\n",
      "587:\tlearn: 0.4589241\ttotal: 4m 18s\tremaining: 3m 1s\n",
      "588:\tlearn: 0.4587375\ttotal: 4m 19s\tremaining: 3m 1s\n",
      "589:\tlearn: 0.4584144\ttotal: 4m 19s\tremaining: 3m\n",
      "590:\tlearn: 0.4580968\ttotal: 4m 20s\tremaining: 3m\n",
      "591:\tlearn: 0.4579125\ttotal: 4m 20s\tremaining: 2m 59s\n",
      "592:\tlearn: 0.4577072\ttotal: 4m 21s\tremaining: 2m 59s\n",
      "593:\tlearn: 0.4574509\ttotal: 4m 21s\tremaining: 2m 59s\n",
      "594:\tlearn: 0.4571744\ttotal: 4m 22s\tremaining: 2m 58s\n",
      "595:\tlearn: 0.4569392\ttotal: 4m 23s\tremaining: 2m 58s\n",
      "596:\tlearn: 0.4567136\ttotal: 4m 23s\tremaining: 2m 57s\n",
      "597:\tlearn: 0.4563096\ttotal: 4m 24s\tremaining: 2m 57s\n",
      "598:\tlearn: 0.4560830\ttotal: 4m 24s\tremaining: 2m 57s\n",
      "599:\tlearn: 0.4557144\ttotal: 4m 25s\tremaining: 2m 56s\n",
      "600:\tlearn: 0.4554927\ttotal: 4m 25s\tremaining: 2m 56s\n",
      "601:\tlearn: 0.4552309\ttotal: 4m 26s\tremaining: 2m 55s\n",
      "602:\tlearn: 0.4551431\ttotal: 4m 26s\tremaining: 2m 55s\n",
      "603:\tlearn: 0.4549291\ttotal: 4m 27s\tremaining: 2m 55s\n",
      "604:\tlearn: 0.4547787\ttotal: 4m 27s\tremaining: 2m 54s\n",
      "605:\tlearn: 0.4544800\ttotal: 4m 28s\tremaining: 2m 54s\n",
      "606:\tlearn: 0.4541727\ttotal: 4m 28s\tremaining: 2m 53s\n",
      "607:\tlearn: 0.4540636\ttotal: 4m 28s\tremaining: 2m 53s\n",
      "608:\tlearn: 0.4538590\ttotal: 4m 29s\tremaining: 2m 53s\n",
      "609:\tlearn: 0.4536447\ttotal: 4m 29s\tremaining: 2m 52s\n",
      "610:\tlearn: 0.4533211\ttotal: 4m 30s\tremaining: 2m 52s\n",
      "611:\tlearn: 0.4530981\ttotal: 4m 31s\tremaining: 2m 51s\n",
      "612:\tlearn: 0.4529511\ttotal: 4m 31s\tremaining: 2m 51s\n",
      "613:\tlearn: 0.4527074\ttotal: 4m 32s\tremaining: 2m 51s\n",
      "614:\tlearn: 0.4525297\ttotal: 4m 32s\tremaining: 2m 50s\n",
      "615:\tlearn: 0.4522821\ttotal: 4m 33s\tremaining: 2m 50s\n",
      "616:\tlearn: 0.4520633\ttotal: 4m 33s\tremaining: 2m 49s\n"
     ]
    },
    {
     "name": "stdout",
     "output_type": "stream",
     "text": [
      "617:\tlearn: 0.4518979\ttotal: 4m 34s\tremaining: 2m 49s\n",
      "618:\tlearn: 0.4516382\ttotal: 4m 34s\tremaining: 2m 49s\n",
      "619:\tlearn: 0.4514064\ttotal: 4m 35s\tremaining: 2m 48s\n",
      "620:\tlearn: 0.4512029\ttotal: 4m 35s\tremaining: 2m 48s\n",
      "621:\tlearn: 0.4511246\ttotal: 4m 36s\tremaining: 2m 47s\n",
      "622:\tlearn: 0.4508958\ttotal: 4m 36s\tremaining: 2m 47s\n",
      "623:\tlearn: 0.4506096\ttotal: 4m 37s\tremaining: 2m 46s\n",
      "624:\tlearn: 0.4502489\ttotal: 4m 37s\tremaining: 2m 46s\n",
      "625:\tlearn: 0.4501422\ttotal: 4m 38s\tremaining: 2m 46s\n",
      "626:\tlearn: 0.4500397\ttotal: 4m 38s\tremaining: 2m 45s\n",
      "627:\tlearn: 0.4498623\ttotal: 4m 38s\tremaining: 2m 45s\n",
      "628:\tlearn: 0.4496331\ttotal: 4m 39s\tremaining: 2m 44s\n",
      "629:\tlearn: 0.4494100\ttotal: 4m 39s\tremaining: 2m 44s\n",
      "630:\tlearn: 0.4492406\ttotal: 4m 40s\tremaining: 2m 43s\n",
      "631:\tlearn: 0.4489056\ttotal: 4m 40s\tremaining: 2m 43s\n",
      "632:\tlearn: 0.4488052\ttotal: 4m 41s\tremaining: 2m 43s\n",
      "633:\tlearn: 0.4486012\ttotal: 4m 41s\tremaining: 2m 42s\n",
      "634:\tlearn: 0.4483552\ttotal: 4m 42s\tremaining: 2m 42s\n",
      "635:\tlearn: 0.4482811\ttotal: 4m 42s\tremaining: 2m 41s\n",
      "636:\tlearn: 0.4480832\ttotal: 4m 43s\tremaining: 2m 41s\n",
      "637:\tlearn: 0.4479348\ttotal: 4m 43s\tremaining: 2m 40s\n",
      "638:\tlearn: 0.4477007\ttotal: 4m 44s\tremaining: 2m 40s\n",
      "639:\tlearn: 0.4473826\ttotal: 4m 44s\tremaining: 2m 40s\n",
      "640:\tlearn: 0.4470382\ttotal: 4m 45s\tremaining: 2m 39s\n",
      "641:\tlearn: 0.4467843\ttotal: 4m 45s\tremaining: 2m 39s\n",
      "642:\tlearn: 0.4465778\ttotal: 4m 46s\tremaining: 2m 39s\n",
      "643:\tlearn: 0.4462144\ttotal: 4m 47s\tremaining: 2m 38s\n",
      "644:\tlearn: 0.4458884\ttotal: 4m 47s\tremaining: 2m 38s\n",
      "645:\tlearn: 0.4456744\ttotal: 4m 48s\tremaining: 2m 37s\n",
      "646:\tlearn: 0.4453892\ttotal: 4m 48s\tremaining: 2m 37s\n",
      "647:\tlearn: 0.4450763\ttotal: 4m 49s\tremaining: 2m 37s\n",
      "648:\tlearn: 0.4448086\ttotal: 4m 49s\tremaining: 2m 36s\n",
      "649:\tlearn: 0.4445880\ttotal: 4m 50s\tremaining: 2m 36s\n",
      "650:\tlearn: 0.4443363\ttotal: 4m 50s\tremaining: 2m 35s\n",
      "651:\tlearn: 0.4441062\ttotal: 4m 51s\tremaining: 2m 35s\n",
      "652:\tlearn: 0.4439442\ttotal: 4m 51s\tremaining: 2m 34s\n",
      "653:\tlearn: 0.4436170\ttotal: 4m 52s\tremaining: 2m 34s\n",
      "654:\tlearn: 0.4432587\ttotal: 4m 52s\tremaining: 2m 34s\n",
      "655:\tlearn: 0.4430393\ttotal: 4m 53s\tremaining: 2m 33s\n",
      "656:\tlearn: 0.4427482\ttotal: 4m 53s\tremaining: 2m 33s\n",
      "657:\tlearn: 0.4425785\ttotal: 4m 54s\tremaining: 2m 32s\n",
      "658:\tlearn: 0.4423909\ttotal: 4m 54s\tremaining: 2m 32s\n",
      "659:\tlearn: 0.4422202\ttotal: 4m 55s\tremaining: 2m 32s\n",
      "660:\tlearn: 0.4419403\ttotal: 4m 55s\tremaining: 2m 31s\n",
      "661:\tlearn: 0.4417283\ttotal: 4m 56s\tremaining: 2m 31s\n",
      "662:\tlearn: 0.4415123\ttotal: 4m 56s\tremaining: 2m 30s\n",
      "663:\tlearn: 0.4413804\ttotal: 4m 57s\tremaining: 2m 30s\n",
      "664:\tlearn: 0.4412242\ttotal: 4m 57s\tremaining: 2m 30s\n",
      "665:\tlearn: 0.4410733\ttotal: 4m 58s\tremaining: 2m 29s\n",
      "666:\tlearn: 0.4407604\ttotal: 4m 58s\tremaining: 2m 29s\n",
      "667:\tlearn: 0.4406095\ttotal: 4m 59s\tremaining: 2m 28s\n",
      "668:\tlearn: 0.4404855\ttotal: 4m 59s\tremaining: 2m 28s\n",
      "669:\tlearn: 0.4403160\ttotal: 5m\tremaining: 2m 27s\n",
      "670:\tlearn: 0.4399612\ttotal: 5m\tremaining: 2m 27s\n",
      "671:\tlearn: 0.4397194\ttotal: 5m 1s\tremaining: 2m 27s\n",
      "672:\tlearn: 0.4395354\ttotal: 5m 1s\tremaining: 2m 26s\n",
      "673:\tlearn: 0.4393290\ttotal: 5m 2s\tremaining: 2m 26s\n",
      "674:\tlearn: 0.4391537\ttotal: 5m 2s\tremaining: 2m 25s\n",
      "675:\tlearn: 0.4389745\ttotal: 5m 3s\tremaining: 2m 25s\n",
      "676:\tlearn: 0.4386935\ttotal: 5m 3s\tremaining: 2m 24s\n",
      "677:\tlearn: 0.4385042\ttotal: 5m 4s\tremaining: 2m 24s\n",
      "678:\tlearn: 0.4382245\ttotal: 5m 4s\tremaining: 2m 24s\n",
      "679:\tlearn: 0.4380591\ttotal: 5m 5s\tremaining: 2m 23s\n",
      "680:\tlearn: 0.4378314\ttotal: 5m 5s\tremaining: 2m 23s\n",
      "681:\tlearn: 0.4375121\ttotal: 5m 6s\tremaining: 2m 22s\n",
      "682:\tlearn: 0.4373758\ttotal: 5m 6s\tremaining: 2m 22s\n",
      "683:\tlearn: 0.4372868\ttotal: 5m 7s\tremaining: 2m 21s\n",
      "684:\tlearn: 0.4372075\ttotal: 5m 7s\tremaining: 2m 21s\n",
      "685:\tlearn: 0.4371566\ttotal: 5m 8s\tremaining: 2m 21s\n",
      "686:\tlearn: 0.4369900\ttotal: 5m 8s\tremaining: 2m 20s\n",
      "687:\tlearn: 0.4367134\ttotal: 5m 9s\tremaining: 2m 20s\n",
      "688:\tlearn: 0.4366053\ttotal: 5m 9s\tremaining: 2m 19s\n",
      "689:\tlearn: 0.4363962\ttotal: 5m 10s\tremaining: 2m 19s\n",
      "690:\tlearn: 0.4361298\ttotal: 5m 10s\tremaining: 2m 18s\n",
      "691:\tlearn: 0.4360245\ttotal: 5m 11s\tremaining: 2m 18s\n",
      "692:\tlearn: 0.4356867\ttotal: 5m 11s\tremaining: 2m 18s\n",
      "693:\tlearn: 0.4352765\ttotal: 5m 12s\tremaining: 2m 17s\n",
      "694:\tlearn: 0.4351262\ttotal: 5m 12s\tremaining: 2m 17s\n",
      "695:\tlearn: 0.4349267\ttotal: 5m 13s\tremaining: 2m 16s\n",
      "696:\tlearn: 0.4346242\ttotal: 5m 13s\tremaining: 2m 16s\n",
      "697:\tlearn: 0.4345309\ttotal: 5m 14s\tremaining: 2m 15s\n",
      "698:\tlearn: 0.4342731\ttotal: 5m 14s\tremaining: 2m 15s\n",
      "699:\tlearn: 0.4341052\ttotal: 5m 15s\tremaining: 2m 15s\n",
      "700:\tlearn: 0.4340343\ttotal: 5m 15s\tremaining: 2m 14s\n",
      "701:\tlearn: 0.4338093\ttotal: 5m 16s\tremaining: 2m 14s\n",
      "702:\tlearn: 0.4335675\ttotal: 5m 16s\tremaining: 2m 13s\n",
      "703:\tlearn: 0.4334821\ttotal: 5m 17s\tremaining: 2m 13s\n",
      "704:\tlearn: 0.4333555\ttotal: 5m 17s\tremaining: 2m 13s\n",
      "705:\tlearn: 0.4331915\ttotal: 5m 18s\tremaining: 2m 12s\n",
      "706:\tlearn: 0.4328930\ttotal: 5m 19s\tremaining: 2m 12s\n",
      "707:\tlearn: 0.4327455\ttotal: 5m 19s\tremaining: 2m 11s\n",
      "708:\tlearn: 0.4325024\ttotal: 5m 20s\tremaining: 2m 11s\n",
      "709:\tlearn: 0.4323304\ttotal: 5m 20s\tremaining: 2m 10s\n",
      "710:\tlearn: 0.4320800\ttotal: 5m 21s\tremaining: 2m 10s\n",
      "711:\tlearn: 0.4318475\ttotal: 5m 21s\tremaining: 2m 10s\n",
      "712:\tlearn: 0.4316697\ttotal: 5m 22s\tremaining: 2m 9s\n",
      "713:\tlearn: 0.4313724\ttotal: 5m 22s\tremaining: 2m 9s\n",
      "714:\tlearn: 0.4312068\ttotal: 5m 23s\tremaining: 2m 8s\n",
      "715:\tlearn: 0.4309509\ttotal: 5m 23s\tremaining: 2m 8s\n",
      "716:\tlearn: 0.4307736\ttotal: 5m 24s\tremaining: 2m 8s\n",
      "717:\tlearn: 0.4304924\ttotal: 5m 25s\tremaining: 2m 7s\n",
      "718:\tlearn: 0.4300127\ttotal: 5m 25s\tremaining: 2m 7s\n",
      "719:\tlearn: 0.4298472\ttotal: 5m 26s\tremaining: 2m 6s\n",
      "720:\tlearn: 0.4295914\ttotal: 5m 26s\tremaining: 2m 6s\n",
      "721:\tlearn: 0.4292078\ttotal: 5m 27s\tremaining: 2m 6s\n",
      "722:\tlearn: 0.4290017\ttotal: 5m 27s\tremaining: 2m 5s\n",
      "723:\tlearn: 0.4287549\ttotal: 5m 28s\tremaining: 2m 5s\n",
      "724:\tlearn: 0.4285491\ttotal: 5m 29s\tremaining: 2m 4s\n",
      "725:\tlearn: 0.4283516\ttotal: 5m 29s\tremaining: 2m 4s\n",
      "726:\tlearn: 0.4281367\ttotal: 5m 30s\tremaining: 2m 3s\n",
      "727:\tlearn: 0.4279153\ttotal: 5m 30s\tremaining: 2m 3s\n",
      "728:\tlearn: 0.4278419\ttotal: 5m 30s\tremaining: 2m 3s\n",
      "729:\tlearn: 0.4275844\ttotal: 5m 31s\tremaining: 2m 2s\n",
      "730:\tlearn: 0.4273556\ttotal: 5m 32s\tremaining: 2m 2s\n",
      "731:\tlearn: 0.4271405\ttotal: 5m 32s\tremaining: 2m 1s\n",
      "732:\tlearn: 0.4269672\ttotal: 5m 33s\tremaining: 2m 1s\n",
      "733:\tlearn: 0.4267582\ttotal: 5m 33s\tremaining: 2m 1s\n",
      "734:\tlearn: 0.4265170\ttotal: 5m 34s\tremaining: 2m\n",
      "735:\tlearn: 0.4264218\ttotal: 5m 34s\tremaining: 2m\n",
      "736:\tlearn: 0.4262108\ttotal: 5m 35s\tremaining: 1m 59s\n",
      "737:\tlearn: 0.4261287\ttotal: 5m 35s\tremaining: 1m 59s\n",
      "738:\tlearn: 0.4259979\ttotal: 5m 36s\tremaining: 1m 58s\n",
      "739:\tlearn: 0.4257660\ttotal: 5m 37s\tremaining: 1m 58s\n",
      "740:\tlearn: 0.4255741\ttotal: 5m 37s\tremaining: 1m 58s\n",
      "741:\tlearn: 0.4254368\ttotal: 5m 38s\tremaining: 1m 57s\n",
      "742:\tlearn: 0.4253494\ttotal: 5m 38s\tremaining: 1m 57s\n",
      "743:\tlearn: 0.4251645\ttotal: 5m 39s\tremaining: 1m 56s\n",
      "744:\tlearn: 0.4250293\ttotal: 5m 39s\tremaining: 1m 56s\n",
      "745:\tlearn: 0.4248406\ttotal: 5m 40s\tremaining: 1m 55s\n",
      "746:\tlearn: 0.4246284\ttotal: 5m 40s\tremaining: 1m 55s\n",
      "747:\tlearn: 0.4245566\ttotal: 5m 41s\tremaining: 1m 54s\n",
      "748:\tlearn: 0.4241917\ttotal: 5m 41s\tremaining: 1m 54s\n",
      "749:\tlearn: 0.4240390\ttotal: 5m 42s\tremaining: 1m 54s\n",
      "750:\tlearn: 0.4238462\ttotal: 5m 42s\tremaining: 1m 53s\n",
      "751:\tlearn: 0.4237620\ttotal: 5m 43s\tremaining: 1m 53s\n",
      "752:\tlearn: 0.4233578\ttotal: 5m 43s\tremaining: 1m 52s\n",
      "753:\tlearn: 0.4231969\ttotal: 5m 44s\tremaining: 1m 52s\n",
      "754:\tlearn: 0.4230786\ttotal: 5m 44s\tremaining: 1m 51s\n",
      "755:\tlearn: 0.4229289\ttotal: 5m 45s\tremaining: 1m 51s\n",
      "756:\tlearn: 0.4227202\ttotal: 5m 45s\tremaining: 1m 50s\n",
      "757:\tlearn: 0.4225630\ttotal: 5m 46s\tremaining: 1m 50s\n",
      "758:\tlearn: 0.4224404\ttotal: 5m 46s\tremaining: 1m 50s\n",
      "759:\tlearn: 0.4223544\ttotal: 5m 47s\tremaining: 1m 49s\n",
      "760:\tlearn: 0.4222169\ttotal: 5m 47s\tremaining: 1m 49s\n",
      "761:\tlearn: 0.4219125\ttotal: 5m 48s\tremaining: 1m 48s\n",
      "762:\tlearn: 0.4218278\ttotal: 5m 48s\tremaining: 1m 48s\n",
      "763:\tlearn: 0.4217081\ttotal: 5m 49s\tremaining: 1m 47s\n",
      "764:\tlearn: 0.4214890\ttotal: 5m 49s\tremaining: 1m 47s\n",
      "765:\tlearn: 0.4213832\ttotal: 5m 50s\tremaining: 1m 46s\n",
      "766:\tlearn: 0.4212010\ttotal: 5m 50s\tremaining: 1m 46s\n",
      "767:\tlearn: 0.4210374\ttotal: 5m 51s\tremaining: 1m 46s\n",
      "768:\tlearn: 0.4207815\ttotal: 5m 51s\tremaining: 1m 45s\n",
      "769:\tlearn: 0.4206587\ttotal: 5m 52s\tremaining: 1m 45s\n"
     ]
    },
    {
     "name": "stdout",
     "output_type": "stream",
     "text": [
      "770:\tlearn: 0.4203546\ttotal: 5m 52s\tremaining: 1m 44s\n",
      "771:\tlearn: 0.4201268\ttotal: 5m 53s\tremaining: 1m 44s\n",
      "772:\tlearn: 0.4198041\ttotal: 5m 53s\tremaining: 1m 43s\n",
      "773:\tlearn: 0.4196307\ttotal: 5m 54s\tremaining: 1m 43s\n",
      "774:\tlearn: 0.4193942\ttotal: 5m 54s\tremaining: 1m 42s\n",
      "775:\tlearn: 0.4192550\ttotal: 5m 55s\tremaining: 1m 42s\n",
      "776:\tlearn: 0.4191321\ttotal: 5m 55s\tremaining: 1m 42s\n",
      "777:\tlearn: 0.4189665\ttotal: 5m 56s\tremaining: 1m 41s\n",
      "778:\tlearn: 0.4189097\ttotal: 5m 56s\tremaining: 1m 41s\n",
      "779:\tlearn: 0.4186192\ttotal: 5m 56s\tremaining: 1m 40s\n",
      "780:\tlearn: 0.4184425\ttotal: 5m 57s\tremaining: 1m 40s\n",
      "781:\tlearn: 0.4182372\ttotal: 5m 57s\tremaining: 1m 39s\n",
      "782:\tlearn: 0.4181038\ttotal: 5m 58s\tremaining: 1m 39s\n",
      "783:\tlearn: 0.4178817\ttotal: 5m 58s\tremaining: 1m 38s\n",
      "784:\tlearn: 0.4177055\ttotal: 5m 59s\tremaining: 1m 38s\n",
      "785:\tlearn: 0.4174232\ttotal: 5m 59s\tremaining: 1m 38s\n",
      "786:\tlearn: 0.4173130\ttotal: 6m\tremaining: 1m 37s\n",
      "787:\tlearn: 0.4169943\ttotal: 6m 1s\tremaining: 1m 37s\n",
      "788:\tlearn: 0.4167696\ttotal: 6m 1s\tremaining: 1m 36s\n",
      "789:\tlearn: 0.4166182\ttotal: 6m 2s\tremaining: 1m 36s\n",
      "790:\tlearn: 0.4164585\ttotal: 6m 2s\tremaining: 1m 35s\n",
      "791:\tlearn: 0.4163739\ttotal: 6m 2s\tremaining: 1m 35s\n",
      "792:\tlearn: 0.4161151\ttotal: 6m 3s\tremaining: 1m 34s\n",
      "793:\tlearn: 0.4158749\ttotal: 6m 4s\tremaining: 1m 34s\n",
      "794:\tlearn: 0.4156839\ttotal: 6m 4s\tremaining: 1m 34s\n",
      "795:\tlearn: 0.4155045\ttotal: 6m 5s\tremaining: 1m 33s\n",
      "796:\tlearn: 0.4152510\ttotal: 6m 5s\tremaining: 1m 33s\n",
      "797:\tlearn: 0.4151202\ttotal: 6m 6s\tremaining: 1m 32s\n",
      "798:\tlearn: 0.4149296\ttotal: 6m 6s\tremaining: 1m 32s\n",
      "799:\tlearn: 0.4148333\ttotal: 6m 7s\tremaining: 1m 31s\n",
      "800:\tlearn: 0.4145456\ttotal: 6m 7s\tremaining: 1m 31s\n",
      "801:\tlearn: 0.4143562\ttotal: 6m 8s\tremaining: 1m 30s\n",
      "802:\tlearn: 0.4142320\ttotal: 6m 8s\tremaining: 1m 30s\n",
      "803:\tlearn: 0.4141343\ttotal: 6m 9s\tremaining: 1m 30s\n",
      "804:\tlearn: 0.4140314\ttotal: 6m 9s\tremaining: 1m 29s\n",
      "805:\tlearn: 0.4138320\ttotal: 6m 10s\tremaining: 1m 29s\n",
      "806:\tlearn: 0.4136075\ttotal: 6m 10s\tremaining: 1m 28s\n",
      "807:\tlearn: 0.4134838\ttotal: 6m 11s\tremaining: 1m 28s\n",
      "808:\tlearn: 0.4133780\ttotal: 6m 11s\tremaining: 1m 27s\n",
      "809:\tlearn: 0.4132143\ttotal: 6m 12s\tremaining: 1m 27s\n",
      "810:\tlearn: 0.4130905\ttotal: 6m 12s\tremaining: 1m 26s\n",
      "811:\tlearn: 0.4128853\ttotal: 6m 12s\tremaining: 1m 26s\n",
      "812:\tlearn: 0.4127433\ttotal: 6m 13s\tremaining: 1m 25s\n",
      "813:\tlearn: 0.4125703\ttotal: 6m 13s\tremaining: 1m 25s\n",
      "814:\tlearn: 0.4124493\ttotal: 6m 14s\tremaining: 1m 24s\n",
      "815:\tlearn: 0.4122548\ttotal: 6m 14s\tremaining: 1m 24s\n",
      "816:\tlearn: 0.4120427\ttotal: 6m 15s\tremaining: 1m 24s\n",
      "817:\tlearn: 0.4119693\ttotal: 6m 15s\tremaining: 1m 23s\n",
      "818:\tlearn: 0.4118147\ttotal: 6m 16s\tremaining: 1m 23s\n",
      "819:\tlearn: 0.4117222\ttotal: 6m 16s\tremaining: 1m 22s\n",
      "820:\tlearn: 0.4115533\ttotal: 6m 17s\tremaining: 1m 22s\n",
      "821:\tlearn: 0.4113907\ttotal: 6m 17s\tremaining: 1m 21s\n",
      "822:\tlearn: 0.4112410\ttotal: 6m 18s\tremaining: 1m 21s\n",
      "823:\tlearn: 0.4109545\ttotal: 6m 18s\tremaining: 1m 20s\n",
      "824:\tlearn: 0.4108606\ttotal: 6m 19s\tremaining: 1m 20s\n",
      "825:\tlearn: 0.4107242\ttotal: 6m 19s\tremaining: 1m 19s\n",
      "826:\tlearn: 0.4104908\ttotal: 6m 20s\tremaining: 1m 19s\n",
      "827:\tlearn: 0.4102789\ttotal: 6m 20s\tremaining: 1m 19s\n",
      "828:\tlearn: 0.4101720\ttotal: 6m 21s\tremaining: 1m 18s\n",
      "829:\tlearn: 0.4100690\ttotal: 6m 21s\tremaining: 1m 18s\n",
      "830:\tlearn: 0.4099048\ttotal: 6m 22s\tremaining: 1m 17s\n",
      "831:\tlearn: 0.4097354\ttotal: 6m 22s\tremaining: 1m 17s\n",
      "832:\tlearn: 0.4096088\ttotal: 6m 23s\tremaining: 1m 16s\n",
      "833:\tlearn: 0.4095152\ttotal: 6m 23s\tremaining: 1m 16s\n",
      "834:\tlearn: 0.4093770\ttotal: 6m 24s\tremaining: 1m 15s\n",
      "835:\tlearn: 0.4092581\ttotal: 6m 24s\tremaining: 1m 15s\n",
      "836:\tlearn: 0.4091891\ttotal: 6m 25s\tremaining: 1m 14s\n",
      "837:\tlearn: 0.4089498\ttotal: 6m 25s\tremaining: 1m 14s\n",
      "838:\tlearn: 0.4088909\ttotal: 6m 25s\tremaining: 1m 14s\n",
      "839:\tlearn: 0.4085977\ttotal: 6m 26s\tremaining: 1m 13s\n",
      "840:\tlearn: 0.4083734\ttotal: 6m 26s\tremaining: 1m 13s\n",
      "841:\tlearn: 0.4081915\ttotal: 6m 27s\tremaining: 1m 12s\n",
      "842:\tlearn: 0.4080108\ttotal: 6m 27s\tremaining: 1m 12s\n",
      "843:\tlearn: 0.4077610\ttotal: 6m 28s\tremaining: 1m 11s\n",
      "844:\tlearn: 0.4076317\ttotal: 6m 28s\tremaining: 1m 11s\n",
      "845:\tlearn: 0.4075191\ttotal: 6m 29s\tremaining: 1m 10s\n",
      "846:\tlearn: 0.4073105\ttotal: 6m 29s\tremaining: 1m 10s\n",
      "847:\tlearn: 0.4071698\ttotal: 6m 30s\tremaining: 1m 9s\n",
      "848:\tlearn: 0.4069460\ttotal: 6m 30s\tremaining: 1m 9s\n",
      "849:\tlearn: 0.4067743\ttotal: 6m 31s\tremaining: 1m 9s\n",
      "850:\tlearn: 0.4066121\ttotal: 6m 31s\tremaining: 1m 8s\n",
      "851:\tlearn: 0.4064370\ttotal: 6m 32s\tremaining: 1m 8s\n",
      "852:\tlearn: 0.4063136\ttotal: 6m 32s\tremaining: 1m 7s\n",
      "853:\tlearn: 0.4060821\ttotal: 6m 33s\tremaining: 1m 7s\n",
      "854:\tlearn: 0.4059372\ttotal: 6m 33s\tremaining: 1m 6s\n",
      "855:\tlearn: 0.4058778\ttotal: 6m 34s\tremaining: 1m 6s\n",
      "856:\tlearn: 0.4057855\ttotal: 6m 34s\tremaining: 1m 5s\n",
      "857:\tlearn: 0.4056735\ttotal: 6m 35s\tremaining: 1m 5s\n",
      "858:\tlearn: 0.4054715\ttotal: 6m 35s\tremaining: 1m 4s\n",
      "859:\tlearn: 0.4053194\ttotal: 6m 36s\tremaining: 1m 4s\n",
      "860:\tlearn: 0.4050982\ttotal: 6m 36s\tremaining: 1m 4s\n",
      "861:\tlearn: 0.4049729\ttotal: 6m 37s\tremaining: 1m 3s\n",
      "862:\tlearn: 0.4048425\ttotal: 6m 37s\tremaining: 1m 3s\n",
      "863:\tlearn: 0.4047273\ttotal: 6m 38s\tremaining: 1m 2s\n",
      "864:\tlearn: 0.4046397\ttotal: 6m 38s\tremaining: 1m 2s\n",
      "865:\tlearn: 0.4044460\ttotal: 6m 39s\tremaining: 1m 1s\n",
      "866:\tlearn: 0.4043525\ttotal: 6m 39s\tremaining: 1m 1s\n",
      "867:\tlearn: 0.4041893\ttotal: 6m 40s\tremaining: 1m\n",
      "868:\tlearn: 0.4040688\ttotal: 6m 40s\tremaining: 1m\n",
      "869:\tlearn: 0.4039043\ttotal: 6m 40s\tremaining: 59.9s\n",
      "870:\tlearn: 0.4037991\ttotal: 6m 41s\tremaining: 59.5s\n",
      "871:\tlearn: 0.4035995\ttotal: 6m 41s\tremaining: 59s\n",
      "872:\tlearn: 0.4033423\ttotal: 6m 42s\tremaining: 58.5s\n",
      "873:\tlearn: 0.4032505\ttotal: 6m 42s\tremaining: 58.1s\n",
      "874:\tlearn: 0.4031772\ttotal: 6m 43s\tremaining: 57.6s\n",
      "875:\tlearn: 0.4030545\ttotal: 6m 43s\tremaining: 57.2s\n",
      "876:\tlearn: 0.4029301\ttotal: 6m 44s\tremaining: 56.7s\n",
      "877:\tlearn: 0.4027951\ttotal: 6m 44s\tremaining: 56.3s\n",
      "878:\tlearn: 0.4025356\ttotal: 6m 45s\tremaining: 55.8s\n",
      "879:\tlearn: 0.4024165\ttotal: 6m 45s\tremaining: 55.3s\n",
      "880:\tlearn: 0.4022663\ttotal: 6m 46s\tremaining: 54.9s\n",
      "881:\tlearn: 0.4020922\ttotal: 6m 46s\tremaining: 54.4s\n",
      "882:\tlearn: 0.4020364\ttotal: 6m 47s\tremaining: 54s\n",
      "883:\tlearn: 0.4018515\ttotal: 6m 47s\tremaining: 53.5s\n",
      "884:\tlearn: 0.4017112\ttotal: 6m 48s\tremaining: 53s\n",
      "885:\tlearn: 0.4015981\ttotal: 6m 48s\tremaining: 52.6s\n",
      "886:\tlearn: 0.4014052\ttotal: 6m 49s\tremaining: 52.1s\n",
      "887:\tlearn: 0.4013614\ttotal: 6m 49s\tremaining: 51.6s\n",
      "888:\tlearn: 0.4012743\ttotal: 6m 49s\tremaining: 51.2s\n",
      "889:\tlearn: 0.4011629\ttotal: 6m 50s\tremaining: 50.7s\n",
      "890:\tlearn: 0.4010009\ttotal: 6m 50s\tremaining: 50.2s\n",
      "891:\tlearn: 0.4008457\ttotal: 6m 51s\tremaining: 49.8s\n",
      "892:\tlearn: 0.4007184\ttotal: 6m 51s\tremaining: 49.3s\n",
      "893:\tlearn: 0.4005878\ttotal: 6m 52s\tremaining: 48.9s\n",
      "894:\tlearn: 0.4004213\ttotal: 6m 52s\tremaining: 48.4s\n",
      "895:\tlearn: 0.4002236\ttotal: 6m 53s\tremaining: 48s\n",
      "896:\tlearn: 0.4001123\ttotal: 6m 53s\tremaining: 47.5s\n",
      "897:\tlearn: 0.4000006\ttotal: 6m 54s\tremaining: 47s\n",
      "898:\tlearn: 0.3998506\ttotal: 6m 54s\tremaining: 46.6s\n",
      "899:\tlearn: 0.3997612\ttotal: 6m 55s\tremaining: 46.1s\n",
      "900:\tlearn: 0.3994992\ttotal: 6m 55s\tremaining: 45.7s\n",
      "901:\tlearn: 0.3993264\ttotal: 6m 56s\tremaining: 45.2s\n",
      "902:\tlearn: 0.3991331\ttotal: 6m 56s\tremaining: 44.8s\n",
      "903:\tlearn: 0.3989088\ttotal: 6m 57s\tremaining: 44.3s\n",
      "904:\tlearn: 0.3986553\ttotal: 6m 57s\tremaining: 43.9s\n",
      "905:\tlearn: 0.3984058\ttotal: 6m 58s\tremaining: 43.4s\n",
      "906:\tlearn: 0.3982688\ttotal: 6m 58s\tremaining: 42.9s\n",
      "907:\tlearn: 0.3980446\ttotal: 6m 59s\tremaining: 42.5s\n",
      "908:\tlearn: 0.3979802\ttotal: 6m 59s\tremaining: 42s\n",
      "909:\tlearn: 0.3978569\ttotal: 7m\tremaining: 41.6s\n",
      "910:\tlearn: 0.3978322\ttotal: 7m\tremaining: 41.1s\n",
      "911:\tlearn: 0.3976780\ttotal: 7m 1s\tremaining: 40.6s\n",
      "912:\tlearn: 0.3976002\ttotal: 7m 1s\tremaining: 40.2s\n",
      "913:\tlearn: 0.3975133\ttotal: 7m 2s\tremaining: 39.7s\n",
      "914:\tlearn: 0.3973809\ttotal: 7m 2s\tremaining: 39.3s\n",
      "915:\tlearn: 0.3972504\ttotal: 7m 3s\tremaining: 38.8s\n",
      "916:\tlearn: 0.3971467\ttotal: 7m 3s\tremaining: 38.3s\n",
      "917:\tlearn: 0.3970533\ttotal: 7m 3s\tremaining: 37.9s\n",
      "918:\tlearn: 0.3969451\ttotal: 7m 4s\tremaining: 37.4s\n",
      "919:\tlearn: 0.3968273\ttotal: 7m 4s\tremaining: 36.9s\n",
      "920:\tlearn: 0.3966309\ttotal: 7m 5s\tremaining: 36.5s\n",
      "921:\tlearn: 0.3964035\ttotal: 7m 5s\tremaining: 36s\n",
      "922:\tlearn: 0.3962847\ttotal: 7m 6s\tremaining: 35.6s\n",
      "923:\tlearn: 0.3961390\ttotal: 7m 6s\tremaining: 35.1s\n",
      "924:\tlearn: 0.3960133\ttotal: 7m 7s\tremaining: 34.6s\n"
     ]
    },
    {
     "name": "stdout",
     "output_type": "stream",
     "text": [
      "925:\tlearn: 0.3959337\ttotal: 7m 7s\tremaining: 34.2s\n",
      "926:\tlearn: 0.3956921\ttotal: 7m 8s\tremaining: 33.7s\n",
      "927:\tlearn: 0.3955266\ttotal: 7m 8s\tremaining: 33.3s\n",
      "928:\tlearn: 0.3953486\ttotal: 7m 9s\tremaining: 32.8s\n",
      "929:\tlearn: 0.3952262\ttotal: 7m 9s\tremaining: 32.3s\n",
      "930:\tlearn: 0.3950224\ttotal: 7m 10s\tremaining: 31.9s\n",
      "931:\tlearn: 0.3948761\ttotal: 7m 10s\tremaining: 31.4s\n",
      "932:\tlearn: 0.3946297\ttotal: 7m 11s\tremaining: 31s\n",
      "933:\tlearn: 0.3943368\ttotal: 7m 11s\tremaining: 30.5s\n",
      "934:\tlearn: 0.3941919\ttotal: 7m 12s\tremaining: 30s\n",
      "935:\tlearn: 0.3939919\ttotal: 7m 12s\tremaining: 29.6s\n",
      "936:\tlearn: 0.3939144\ttotal: 7m 13s\tremaining: 29.1s\n",
      "937:\tlearn: 0.3938095\ttotal: 7m 13s\tremaining: 28.7s\n",
      "938:\tlearn: 0.3937080\ttotal: 7m 13s\tremaining: 28.2s\n",
      "939:\tlearn: 0.3936182\ttotal: 7m 14s\tremaining: 27.7s\n",
      "940:\tlearn: 0.3935362\ttotal: 7m 14s\tremaining: 27.3s\n",
      "941:\tlearn: 0.3934507\ttotal: 7m 15s\tremaining: 26.8s\n",
      "942:\tlearn: 0.3932492\ttotal: 7m 15s\tremaining: 26.3s\n",
      "943:\tlearn: 0.3930985\ttotal: 7m 16s\tremaining: 25.9s\n",
      "944:\tlearn: 0.3928591\ttotal: 7m 16s\tremaining: 25.4s\n",
      "945:\tlearn: 0.3927232\ttotal: 7m 17s\tremaining: 25s\n",
      "946:\tlearn: 0.3925390\ttotal: 7m 17s\tremaining: 24.5s\n",
      "947:\tlearn: 0.3924268\ttotal: 7m 18s\tremaining: 24s\n",
      "948:\tlearn: 0.3921771\ttotal: 7m 18s\tremaining: 23.6s\n",
      "949:\tlearn: 0.3919337\ttotal: 7m 19s\tremaining: 23.1s\n",
      "950:\tlearn: 0.3918167\ttotal: 7m 19s\tremaining: 22.7s\n",
      "951:\tlearn: 0.3916636\ttotal: 7m 20s\tremaining: 22.2s\n",
      "952:\tlearn: 0.3915319\ttotal: 7m 20s\tremaining: 21.7s\n",
      "953:\tlearn: 0.3914141\ttotal: 7m 21s\tremaining: 21.3s\n",
      "954:\tlearn: 0.3913109\ttotal: 7m 21s\tremaining: 20.8s\n",
      "955:\tlearn: 0.3911343\ttotal: 7m 22s\tremaining: 20.4s\n",
      "956:\tlearn: 0.3909634\ttotal: 7m 22s\tremaining: 19.9s\n",
      "957:\tlearn: 0.3908152\ttotal: 7m 23s\tremaining: 19.4s\n",
      "958:\tlearn: 0.3905904\ttotal: 7m 23s\tremaining: 19s\n",
      "959:\tlearn: 0.3904682\ttotal: 7m 24s\tremaining: 18.5s\n",
      "960:\tlearn: 0.3904119\ttotal: 7m 24s\tremaining: 18s\n",
      "961:\tlearn: 0.3902145\ttotal: 7m 25s\tremaining: 17.6s\n",
      "962:\tlearn: 0.3899756\ttotal: 7m 25s\tremaining: 17.1s\n",
      "963:\tlearn: 0.3898118\ttotal: 7m 26s\tremaining: 16.7s\n",
      "964:\tlearn: 0.3896374\ttotal: 7m 26s\tremaining: 16.2s\n",
      "965:\tlearn: 0.3895103\ttotal: 7m 27s\tremaining: 15.7s\n",
      "966:\tlearn: 0.3894532\ttotal: 7m 27s\tremaining: 15.3s\n",
      "967:\tlearn: 0.3892491\ttotal: 7m 28s\tremaining: 14.8s\n",
      "968:\tlearn: 0.3891074\ttotal: 7m 28s\tremaining: 14.4s\n",
      "969:\tlearn: 0.3889906\ttotal: 7m 29s\tremaining: 13.9s\n",
      "970:\tlearn: 0.3887926\ttotal: 7m 29s\tremaining: 13.4s\n",
      "971:\tlearn: 0.3886593\ttotal: 7m 30s\tremaining: 13s\n",
      "972:\tlearn: 0.3884984\ttotal: 7m 30s\tremaining: 12.5s\n",
      "973:\tlearn: 0.3884011\ttotal: 7m 31s\tremaining: 12s\n",
      "974:\tlearn: 0.3883132\ttotal: 7m 31s\tremaining: 11.6s\n",
      "975:\tlearn: 0.3881452\ttotal: 7m 31s\tremaining: 11.1s\n",
      "976:\tlearn: 0.3880107\ttotal: 7m 32s\tremaining: 10.7s\n",
      "977:\tlearn: 0.3879380\ttotal: 7m 32s\tremaining: 10.2s\n",
      "978:\tlearn: 0.3877113\ttotal: 7m 33s\tremaining: 9.73s\n",
      "979:\tlearn: 0.3874821\ttotal: 7m 33s\tremaining: 9.26s\n",
      "980:\tlearn: 0.3873476\ttotal: 7m 34s\tremaining: 8.8s\n",
      "981:\tlearn: 0.3871667\ttotal: 7m 35s\tremaining: 8.34s\n",
      "982:\tlearn: 0.3869675\ttotal: 7m 35s\tremaining: 7.88s\n",
      "983:\tlearn: 0.3868290\ttotal: 7m 35s\tremaining: 7.41s\n",
      "984:\tlearn: 0.3866823\ttotal: 7m 36s\tremaining: 6.95s\n",
      "985:\tlearn: 0.3865847\ttotal: 7m 36s\tremaining: 6.49s\n",
      "986:\tlearn: 0.3863977\ttotal: 7m 37s\tremaining: 6.02s\n",
      "987:\tlearn: 0.3862481\ttotal: 7m 37s\tremaining: 5.56s\n",
      "988:\tlearn: 0.3859673\ttotal: 7m 38s\tremaining: 5.1s\n",
      "989:\tlearn: 0.3858003\ttotal: 7m 38s\tremaining: 4.63s\n",
      "990:\tlearn: 0.3857604\ttotal: 7m 39s\tremaining: 4.17s\n",
      "991:\tlearn: 0.3856246\ttotal: 7m 39s\tremaining: 3.71s\n",
      "992:\tlearn: 0.3854852\ttotal: 7m 40s\tremaining: 3.24s\n",
      "993:\tlearn: 0.3853503\ttotal: 7m 40s\tremaining: 2.78s\n",
      "994:\tlearn: 0.3852390\ttotal: 7m 41s\tremaining: 2.32s\n",
      "995:\tlearn: 0.3850300\ttotal: 7m 41s\tremaining: 1.85s\n",
      "996:\tlearn: 0.3849103\ttotal: 7m 42s\tremaining: 1.39s\n",
      "997:\tlearn: 0.3847659\ttotal: 7m 42s\tremaining: 927ms\n",
      "998:\tlearn: 0.3846045\ttotal: 7m 43s\tremaining: 464ms\n",
      "999:\tlearn: 0.3844997\ttotal: 7m 43s\tremaining: 0us\n"
     ]
    },
    {
     "data": {
      "text/plain": [
       "<catboost.core.CatBoostClassifier at 0x17a70da08b0>"
      ]
     },
     "execution_count": 16,
     "metadata": {},
     "output_type": "execute_result"
    }
   ],
   "source": [
    "cb.fit(x_train, y_train)"
   ]
  },
  {
   "cell_type": "code",
   "execution_count": 18,
   "id": "162e6c19",
   "metadata": {
    "scrolled": true
   },
   "outputs": [
    {
     "data": {
      "text/plain": [
       "0.8707015715713587"
      ]
     },
     "execution_count": 18,
     "metadata": {},
     "output_type": "execute_result"
    }
   ],
   "source": [
    "cb.score(x_train, y_train)"
   ]
  },
  {
   "cell_type": "code",
   "execution_count": 17,
   "id": "a32e86f8",
   "metadata": {},
   "outputs": [
    {
     "data": {
      "text/plain": [
       "0.7933310177144842"
      ]
     },
     "execution_count": 17,
     "metadata": {},
     "output_type": "execute_result"
    }
   ],
   "source": [
    "cb.score(x_test, y_test)"
   ]
  },
  {
   "cell_type": "markdown",
   "id": "14c13e7d",
   "metadata": {},
   "source": [
    "## 1-5. XGBoost"
   ]
  },
  {
   "cell_type": "code",
   "execution_count": 5,
   "id": "4c34408c",
   "metadata": {},
   "outputs": [],
   "source": [
    "xgb = XGBClassifier()"
   ]
  },
  {
   "cell_type": "code",
   "execution_count": 6,
   "id": "96cafbb3",
   "metadata": {},
   "outputs": [
    {
     "name": "stdout",
     "output_type": "stream",
     "text": [
      "0.9522839900915713 0.8075411438253678\n"
     ]
    }
   ],
   "source": [
    "scores = cross_validate(xgb, x_train, y_train, return_train_score = True, n_jobs = -1)\n",
    "print(np.mean(scores[\"train_score\"]), np.mean(scores[\"test_score\"]))"
   ]
  },
  {
   "cell_type": "code",
   "execution_count": 20,
   "id": "f235f007",
   "metadata": {},
   "outputs": [
    {
     "data": {
      "text/html": [
       "<style>#sk-container-id-3 {color: black;background-color: white;}#sk-container-id-3 pre{padding: 0;}#sk-container-id-3 div.sk-toggleable {background-color: white;}#sk-container-id-3 label.sk-toggleable__label {cursor: pointer;display: block;width: 100%;margin-bottom: 0;padding: 0.3em;box-sizing: border-box;text-align: center;}#sk-container-id-3 label.sk-toggleable__label-arrow:before {content: \"▸\";float: left;margin-right: 0.25em;color: #696969;}#sk-container-id-3 label.sk-toggleable__label-arrow:hover:before {color: black;}#sk-container-id-3 div.sk-estimator:hover label.sk-toggleable__label-arrow:before {color: black;}#sk-container-id-3 div.sk-toggleable__content {max-height: 0;max-width: 0;overflow: hidden;text-align: left;background-color: #f0f8ff;}#sk-container-id-3 div.sk-toggleable__content pre {margin: 0.2em;color: black;border-radius: 0.25em;background-color: #f0f8ff;}#sk-container-id-3 input.sk-toggleable__control:checked~div.sk-toggleable__content {max-height: 200px;max-width: 100%;overflow: auto;}#sk-container-id-3 input.sk-toggleable__control:checked~label.sk-toggleable__label-arrow:before {content: \"▾\";}#sk-container-id-3 div.sk-estimator input.sk-toggleable__control:checked~label.sk-toggleable__label {background-color: #d4ebff;}#sk-container-id-3 div.sk-label input.sk-toggleable__control:checked~label.sk-toggleable__label {background-color: #d4ebff;}#sk-container-id-3 input.sk-hidden--visually {border: 0;clip: rect(1px 1px 1px 1px);clip: rect(1px, 1px, 1px, 1px);height: 1px;margin: -1px;overflow: hidden;padding: 0;position: absolute;width: 1px;}#sk-container-id-3 div.sk-estimator {font-family: monospace;background-color: #f0f8ff;border: 1px dotted black;border-radius: 0.25em;box-sizing: border-box;margin-bottom: 0.5em;}#sk-container-id-3 div.sk-estimator:hover {background-color: #d4ebff;}#sk-container-id-3 div.sk-parallel-item::after {content: \"\";width: 100%;border-bottom: 1px solid gray;flex-grow: 1;}#sk-container-id-3 div.sk-label:hover label.sk-toggleable__label {background-color: #d4ebff;}#sk-container-id-3 div.sk-serial::before {content: \"\";position: absolute;border-left: 1px solid gray;box-sizing: border-box;top: 0;bottom: 0;left: 50%;z-index: 0;}#sk-container-id-3 div.sk-serial {display: flex;flex-direction: column;align-items: center;background-color: white;padding-right: 0.2em;padding-left: 0.2em;position: relative;}#sk-container-id-3 div.sk-item {position: relative;z-index: 1;}#sk-container-id-3 div.sk-parallel {display: flex;align-items: stretch;justify-content: center;background-color: white;position: relative;}#sk-container-id-3 div.sk-item::before, #sk-container-id-3 div.sk-parallel-item::before {content: \"\";position: absolute;border-left: 1px solid gray;box-sizing: border-box;top: 0;bottom: 0;left: 50%;z-index: -1;}#sk-container-id-3 div.sk-parallel-item {display: flex;flex-direction: column;z-index: 1;position: relative;background-color: white;}#sk-container-id-3 div.sk-parallel-item:first-child::after {align-self: flex-end;width: 50%;}#sk-container-id-3 div.sk-parallel-item:last-child::after {align-self: flex-start;width: 50%;}#sk-container-id-3 div.sk-parallel-item:only-child::after {width: 0;}#sk-container-id-3 div.sk-dashed-wrapped {border: 1px dashed gray;margin: 0 0.4em 0.5em 0.4em;box-sizing: border-box;padding-bottom: 0.4em;background-color: white;}#sk-container-id-3 div.sk-label label {font-family: monospace;font-weight: bold;display: inline-block;line-height: 1.2em;}#sk-container-id-3 div.sk-label-container {text-align: center;}#sk-container-id-3 div.sk-container {/* jupyter's `normalize.less` sets `[hidden] { display: none; }` but bootstrap.min.css set `[hidden] { display: none !important; }` so we also need the `!important` here to be able to override the default hidden behavior on the sphinx rendered scikit-learn.org. See: https://github.com/scikit-learn/scikit-learn/issues/21755 */display: inline-block !important;position: relative;}#sk-container-id-3 div.sk-text-repr-fallback {display: none;}</style><div id=\"sk-container-id-3\" class=\"sk-top-container\"><div class=\"sk-text-repr-fallback\"><pre>XGBClassifier(base_score=None, booster=None, callbacks=None,\n",
       "              colsample_bylevel=None, colsample_bynode=None,\n",
       "              colsample_bytree=None, early_stopping_rounds=None,\n",
       "              enable_categorical=False, eval_metric=None, feature_types=None,\n",
       "              gamma=None, gpu_id=None, grow_policy=None, importance_type=None,\n",
       "              interaction_constraints=None, learning_rate=None, max_bin=None,\n",
       "              max_cat_threshold=None, max_cat_to_onehot=None,\n",
       "              max_delta_step=None, max_depth=None, max_leaves=None,\n",
       "              min_child_weight=None, missing=nan, monotone_constraints=None,\n",
       "              n_estimators=100, n_jobs=None, num_parallel_tree=None,\n",
       "              objective=&#x27;multi:softprob&#x27;, predictor=None, ...)</pre><b>In a Jupyter environment, please rerun this cell to show the HTML representation or trust the notebook. <br />On GitHub, the HTML representation is unable to render, please try loading this page with nbviewer.org.</b></div><div class=\"sk-container\" hidden><div class=\"sk-item\"><div class=\"sk-estimator sk-toggleable\"><input class=\"sk-toggleable__control sk-hidden--visually\" id=\"sk-estimator-id-3\" type=\"checkbox\" checked><label for=\"sk-estimator-id-3\" class=\"sk-toggleable__label sk-toggleable__label-arrow\">XGBClassifier</label><div class=\"sk-toggleable__content\"><pre>XGBClassifier(base_score=None, booster=None, callbacks=None,\n",
       "              colsample_bylevel=None, colsample_bynode=None,\n",
       "              colsample_bytree=None, early_stopping_rounds=None,\n",
       "              enable_categorical=False, eval_metric=None, feature_types=None,\n",
       "              gamma=None, gpu_id=None, grow_policy=None, importance_type=None,\n",
       "              interaction_constraints=None, learning_rate=None, max_bin=None,\n",
       "              max_cat_threshold=None, max_cat_to_onehot=None,\n",
       "              max_delta_step=None, max_depth=None, max_leaves=None,\n",
       "              min_child_weight=None, missing=nan, monotone_constraints=None,\n",
       "              n_estimators=100, n_jobs=None, num_parallel_tree=None,\n",
       "              objective=&#x27;multi:softprob&#x27;, predictor=None, ...)</pre></div></div></div></div></div>"
      ],
      "text/plain": [
       "XGBClassifier(base_score=None, booster=None, callbacks=None,\n",
       "              colsample_bylevel=None, colsample_bynode=None,\n",
       "              colsample_bytree=None, early_stopping_rounds=None,\n",
       "              enable_categorical=False, eval_metric=None, feature_types=None,\n",
       "              gamma=None, gpu_id=None, grow_policy=None, importance_type=None,\n",
       "              interaction_constraints=None, learning_rate=None, max_bin=None,\n",
       "              max_cat_threshold=None, max_cat_to_onehot=None,\n",
       "              max_delta_step=None, max_depth=None, max_leaves=None,\n",
       "              min_child_weight=None, missing=nan, monotone_constraints=None,\n",
       "              n_estimators=100, n_jobs=None, num_parallel_tree=None,\n",
       "              objective='multi:softprob', predictor=None, ...)"
      ]
     },
     "execution_count": 20,
     "metadata": {},
     "output_type": "execute_result"
    }
   ],
   "source": [
    "xgb.fit(x_train, y_train)"
   ]
  },
  {
   "cell_type": "code",
   "execution_count": 21,
   "id": "4cbef8b4",
   "metadata": {},
   "outputs": [
    {
     "data": {
      "text/plain": [
       "0.9379027284520342"
      ]
     },
     "execution_count": 21,
     "metadata": {},
     "output_type": "execute_result"
    }
   ],
   "source": [
    "xgb.score(x_train, y_train)"
   ]
  },
  {
   "cell_type": "code",
   "execution_count": 22,
   "id": "15b53a2b",
   "metadata": {},
   "outputs": [
    {
     "data": {
      "text/plain": [
       "0.8139731057410807"
      ]
     },
     "execution_count": 22,
     "metadata": {},
     "output_type": "execute_result"
    }
   ],
   "source": [
    "xgb.score(x_test, y_test)"
   ]
  },
  {
   "cell_type": "markdown",
   "id": "6db32ecd",
   "metadata": {},
   "source": [
    "## 1-6. LightGBM"
   ]
  },
  {
   "cell_type": "code",
   "execution_count": 22,
   "id": "f2b5ab1f",
   "metadata": {},
   "outputs": [],
   "source": [
    "lgbm = LGBMClassifier(learning_rate = 0.0003, n_estimators = 10000)"
   ]
  },
  {
   "cell_type": "code",
   "execution_count": 8,
   "id": "58014791",
   "metadata": {},
   "outputs": [
    {
     "name": "stdout",
     "output_type": "stream",
     "text": [
      "0.8810582042951269 0.7808307435771672\n"
     ]
    }
   ],
   "source": [
    "scores = cross_validate(lgbm, x_train, y_train, return_train_score = True, n_jobs = -1)\n",
    "print(np.mean(scores[\"train_score\"]), np.mean(scores[\"test_score\"]))"
   ]
  },
  {
   "cell_type": "code",
   "execution_count": 23,
   "id": "1690e60a",
   "metadata": {},
   "outputs": [
    {
     "data": {
      "text/html": [
       "<style>#sk-container-id-5 {color: black;background-color: white;}#sk-container-id-5 pre{padding: 0;}#sk-container-id-5 div.sk-toggleable {background-color: white;}#sk-container-id-5 label.sk-toggleable__label {cursor: pointer;display: block;width: 100%;margin-bottom: 0;padding: 0.3em;box-sizing: border-box;text-align: center;}#sk-container-id-5 label.sk-toggleable__label-arrow:before {content: \"▸\";float: left;margin-right: 0.25em;color: #696969;}#sk-container-id-5 label.sk-toggleable__label-arrow:hover:before {color: black;}#sk-container-id-5 div.sk-estimator:hover label.sk-toggleable__label-arrow:before {color: black;}#sk-container-id-5 div.sk-toggleable__content {max-height: 0;max-width: 0;overflow: hidden;text-align: left;background-color: #f0f8ff;}#sk-container-id-5 div.sk-toggleable__content pre {margin: 0.2em;color: black;border-radius: 0.25em;background-color: #f0f8ff;}#sk-container-id-5 input.sk-toggleable__control:checked~div.sk-toggleable__content {max-height: 200px;max-width: 100%;overflow: auto;}#sk-container-id-5 input.sk-toggleable__control:checked~label.sk-toggleable__label-arrow:before {content: \"▾\";}#sk-container-id-5 div.sk-estimator input.sk-toggleable__control:checked~label.sk-toggleable__label {background-color: #d4ebff;}#sk-container-id-5 div.sk-label input.sk-toggleable__control:checked~label.sk-toggleable__label {background-color: #d4ebff;}#sk-container-id-5 input.sk-hidden--visually {border: 0;clip: rect(1px 1px 1px 1px);clip: rect(1px, 1px, 1px, 1px);height: 1px;margin: -1px;overflow: hidden;padding: 0;position: absolute;width: 1px;}#sk-container-id-5 div.sk-estimator {font-family: monospace;background-color: #f0f8ff;border: 1px dotted black;border-radius: 0.25em;box-sizing: border-box;margin-bottom: 0.5em;}#sk-container-id-5 div.sk-estimator:hover {background-color: #d4ebff;}#sk-container-id-5 div.sk-parallel-item::after {content: \"\";width: 100%;border-bottom: 1px solid gray;flex-grow: 1;}#sk-container-id-5 div.sk-label:hover label.sk-toggleable__label {background-color: #d4ebff;}#sk-container-id-5 div.sk-serial::before {content: \"\";position: absolute;border-left: 1px solid gray;box-sizing: border-box;top: 0;bottom: 0;left: 50%;z-index: 0;}#sk-container-id-5 div.sk-serial {display: flex;flex-direction: column;align-items: center;background-color: white;padding-right: 0.2em;padding-left: 0.2em;position: relative;}#sk-container-id-5 div.sk-item {position: relative;z-index: 1;}#sk-container-id-5 div.sk-parallel {display: flex;align-items: stretch;justify-content: center;background-color: white;position: relative;}#sk-container-id-5 div.sk-item::before, #sk-container-id-5 div.sk-parallel-item::before {content: \"\";position: absolute;border-left: 1px solid gray;box-sizing: border-box;top: 0;bottom: 0;left: 50%;z-index: -1;}#sk-container-id-5 div.sk-parallel-item {display: flex;flex-direction: column;z-index: 1;position: relative;background-color: white;}#sk-container-id-5 div.sk-parallel-item:first-child::after {align-self: flex-end;width: 50%;}#sk-container-id-5 div.sk-parallel-item:last-child::after {align-self: flex-start;width: 50%;}#sk-container-id-5 div.sk-parallel-item:only-child::after {width: 0;}#sk-container-id-5 div.sk-dashed-wrapped {border: 1px dashed gray;margin: 0 0.4em 0.5em 0.4em;box-sizing: border-box;padding-bottom: 0.4em;background-color: white;}#sk-container-id-5 div.sk-label label {font-family: monospace;font-weight: bold;display: inline-block;line-height: 1.2em;}#sk-container-id-5 div.sk-label-container {text-align: center;}#sk-container-id-5 div.sk-container {/* jupyter's `normalize.less` sets `[hidden] { display: none; }` but bootstrap.min.css set `[hidden] { display: none !important; }` so we also need the `!important` here to be able to override the default hidden behavior on the sphinx rendered scikit-learn.org. See: https://github.com/scikit-learn/scikit-learn/issues/21755 */display: inline-block !important;position: relative;}#sk-container-id-5 div.sk-text-repr-fallback {display: none;}</style><div id=\"sk-container-id-5\" class=\"sk-top-container\"><div class=\"sk-text-repr-fallback\"><pre>LGBMClassifier(learning_rate=0.0003, n_estimators=10000)</pre><b>In a Jupyter environment, please rerun this cell to show the HTML representation or trust the notebook. <br />On GitHub, the HTML representation is unable to render, please try loading this page with nbviewer.org.</b></div><div class=\"sk-container\" hidden><div class=\"sk-item\"><div class=\"sk-estimator sk-toggleable\"><input class=\"sk-toggleable__control sk-hidden--visually\" id=\"sk-estimator-id-12\" type=\"checkbox\" checked><label for=\"sk-estimator-id-12\" class=\"sk-toggleable__label sk-toggleable__label-arrow\">LGBMClassifier</label><div class=\"sk-toggleable__content\"><pre>LGBMClassifier(learning_rate=0.0003, n_estimators=10000)</pre></div></div></div></div></div>"
      ],
      "text/plain": [
       "LGBMClassifier(learning_rate=0.0003, n_estimators=10000)"
      ]
     },
     "execution_count": 23,
     "metadata": {},
     "output_type": "execute_result"
    }
   ],
   "source": [
    "lgbm.fit(x_train, y_train)"
   ]
  },
  {
   "cell_type": "code",
   "execution_count": 24,
   "id": "9c4ef09c",
   "metadata": {},
   "outputs": [
    {
     "data": {
      "text/plain": [
       "0.7673478935839908"
      ]
     },
     "execution_count": 24,
     "metadata": {},
     "output_type": "execute_result"
    }
   ],
   "source": [
    "lgbm.score(x_train, y_train)"
   ]
  },
  {
   "cell_type": "code",
   "execution_count": 25,
   "id": "0641abcb",
   "metadata": {},
   "outputs": [
    {
     "data": {
      "text/plain": [
       "0.7385997122016573"
      ]
     },
     "execution_count": 25,
     "metadata": {},
     "output_type": "execute_result"
    }
   ],
   "source": [
    "lgbm.score(x_test, y_test)"
   ]
  },
  {
   "cell_type": "markdown",
   "id": "45e8854b",
   "metadata": {},
   "source": [
    "## 1-7. PCA 주성분 분석"
   ]
  },
  {
   "cell_type": "markdown",
   "id": "1ee265eb",
   "metadata": {},
   "source": [
    "### 스케일링"
   ]
  },
  {
   "cell_type": "code",
   "execution_count": 68,
   "id": "98f0cfa2",
   "metadata": {},
   "outputs": [],
   "source": [
    "rb = RobustScaler()\n",
    "scaled_x = rb.fit_transform(x)"
   ]
  },
  {
   "cell_type": "markdown",
   "id": "e25fa35c",
   "metadata": {},
   "source": [
    "### PCA"
   ]
  },
  {
   "cell_type": "code",
   "execution_count": 71,
   "id": "6e375218",
   "metadata": {
    "ExecuteTime": {
     "end_time": "2023-02-08T06:10:04.751798Z",
     "start_time": "2023-02-08T06:09:04.336682Z"
    }
   },
   "outputs": [
    {
     "data": {
      "text/plain": [
       "0      0.823536\n",
       "1      0.845935\n",
       "2      0.863830\n",
       "3      0.875720\n",
       "4      0.884367\n",
       "         ...   \n",
       "503    1.000000\n",
       "504    1.000000\n",
       "505    1.000000\n",
       "506    1.000000\n",
       "507    1.000000\n",
       "Length: 508, dtype: float64"
      ]
     },
     "execution_count": 71,
     "metadata": {},
     "output_type": "execute_result"
    }
   ],
   "source": [
    "# pca\n",
    "pca = PCA()\n",
    "pca.fit(x)\n",
    "pd.Series(np.cumsum(pca.explained_variance_ratio_))[:]"
   ]
  },
  {
   "cell_type": "code",
   "execution_count": 95,
   "id": "32878eda",
   "metadata": {
    "ExecuteTime": {
     "end_time": "2023-02-08T06:43:42.980559Z",
     "start_time": "2023-02-08T06:43:42.973117Z"
    },
    "scrolled": true
   },
   "outputs": [
    {
     "data": {
      "text/plain": [
       "0.9999999999999998"
      ]
     },
     "execution_count": 95,
     "metadata": {},
     "output_type": "execute_result"
    }
   ],
   "source": [
    "pd.Series(np.cumsum(pca.explained_variance_ratio_))[507]"
   ]
  },
  {
   "cell_type": "code",
   "execution_count": 96,
   "id": "3cc4f084",
   "metadata": {
    "ExecuteTime": {
     "end_time": "2023-02-08T06:45:46.477910Z",
     "start_time": "2023-02-08T06:44:01.302974Z"
    }
   },
   "outputs": [],
   "source": [
    "n_pca = PCA(507)\n",
    "arr_pca = n_pca.fit_transform(x)"
   ]
  },
  {
   "cell_type": "code",
   "execution_count": 97,
   "id": "11319f0c",
   "metadata": {
    "ExecuteTime": {
     "end_time": "2023-02-08T06:45:46.544505Z",
     "start_time": "2023-02-08T06:45:46.501934Z"
    }
   },
   "outputs": [],
   "source": [
    "col = [f\"components_{i}\" for i in range(0, 507)]"
   ]
  },
  {
   "cell_type": "code",
   "execution_count": 98,
   "id": "c8d5e40f",
   "metadata": {
    "ExecuteTime": {
     "end_time": "2023-02-08T06:45:46.597947Z",
     "start_time": "2023-02-08T06:45:46.568503Z"
    }
   },
   "outputs": [],
   "source": [
    "pca_x = pd.DataFrame(arr_pca, columns = col)"
   ]
  },
  {
   "cell_type": "markdown",
   "id": "f073d717",
   "metadata": {},
   "source": [
    "### 훈련용, 검증용 데이터 나누기"
   ]
  },
  {
   "cell_type": "code",
   "execution_count": 99,
   "id": "cc879def",
   "metadata": {
    "ExecuteTime": {
     "end_time": "2023-02-08T06:45:48.466234Z",
     "start_time": "2023-02-08T06:45:46.602481Z"
    }
   },
   "outputs": [],
   "source": [
    "x_train, x_test, y_train, y_test = train_test_split(pca_x, y, test_size = 0.3, random_state = 8, stratify = y)"
   ]
  },
  {
   "cell_type": "code",
   "execution_count": 100,
   "id": "7457526f",
   "metadata": {
    "ExecuteTime": {
     "end_time": "2023-02-08T06:45:48.476081Z",
     "start_time": "2023-02-08T06:45:48.468353Z"
    }
   },
   "outputs": [
    {
     "data": {
      "text/plain": [
       "((47023, 507), (47023,), (20153, 507), (20153,))"
      ]
     },
     "execution_count": 100,
     "metadata": {},
     "output_type": "execute_result"
    }
   ],
   "source": [
    "x_train.shape, y_train.shape, x_test.shape, y_test.shape"
   ]
  },
  {
   "cell_type": "markdown",
   "id": "190c1ec2",
   "metadata": {},
   "source": [
    "### 학습 및 검증"
   ]
  },
  {
   "cell_type": "code",
   "execution_count": 101,
   "id": "abc13779",
   "metadata": {},
   "outputs": [],
   "source": [
    "et5 = ExtraTreesClassifier()"
   ]
  },
  {
   "cell_type": "code",
   "execution_count": 102,
   "id": "710057b6",
   "metadata": {},
   "outputs": [],
   "source": [
    "scores5 = cross_validate(et5, x_train, y_train, return_train_score = True, n_jobs = -1)"
   ]
  },
  {
   "cell_type": "code",
   "execution_count": 103,
   "id": "d0885ddd",
   "metadata": {},
   "outputs": [
    {
     "name": "stdout",
     "output_type": "stream",
     "text": [
      "1.0 0.7035494504922968\n"
     ]
    }
   ],
   "source": [
    "print(np.mean(scores5[\"train_score\"]), np.mean(scores5[\"test_score\"]))"
   ]
  },
  {
   "cell_type": "code",
   "execution_count": 104,
   "id": "43487da9",
   "metadata": {
    "scrolled": true
   },
   "outputs": [
    {
     "data": {
      "text/html": [
       "<style>#sk-container-id-6 {color: black;background-color: white;}#sk-container-id-6 pre{padding: 0;}#sk-container-id-6 div.sk-toggleable {background-color: white;}#sk-container-id-6 label.sk-toggleable__label {cursor: pointer;display: block;width: 100%;margin-bottom: 0;padding: 0.3em;box-sizing: border-box;text-align: center;}#sk-container-id-6 label.sk-toggleable__label-arrow:before {content: \"▸\";float: left;margin-right: 0.25em;color: #696969;}#sk-container-id-6 label.sk-toggleable__label-arrow:hover:before {color: black;}#sk-container-id-6 div.sk-estimator:hover label.sk-toggleable__label-arrow:before {color: black;}#sk-container-id-6 div.sk-toggleable__content {max-height: 0;max-width: 0;overflow: hidden;text-align: left;background-color: #f0f8ff;}#sk-container-id-6 div.sk-toggleable__content pre {margin: 0.2em;color: black;border-radius: 0.25em;background-color: #f0f8ff;}#sk-container-id-6 input.sk-toggleable__control:checked~div.sk-toggleable__content {max-height: 200px;max-width: 100%;overflow: auto;}#sk-container-id-6 input.sk-toggleable__control:checked~label.sk-toggleable__label-arrow:before {content: \"▾\";}#sk-container-id-6 div.sk-estimator input.sk-toggleable__control:checked~label.sk-toggleable__label {background-color: #d4ebff;}#sk-container-id-6 div.sk-label input.sk-toggleable__control:checked~label.sk-toggleable__label {background-color: #d4ebff;}#sk-container-id-6 input.sk-hidden--visually {border: 0;clip: rect(1px 1px 1px 1px);clip: rect(1px, 1px, 1px, 1px);height: 1px;margin: -1px;overflow: hidden;padding: 0;position: absolute;width: 1px;}#sk-container-id-6 div.sk-estimator {font-family: monospace;background-color: #f0f8ff;border: 1px dotted black;border-radius: 0.25em;box-sizing: border-box;margin-bottom: 0.5em;}#sk-container-id-6 div.sk-estimator:hover {background-color: #d4ebff;}#sk-container-id-6 div.sk-parallel-item::after {content: \"\";width: 100%;border-bottom: 1px solid gray;flex-grow: 1;}#sk-container-id-6 div.sk-label:hover label.sk-toggleable__label {background-color: #d4ebff;}#sk-container-id-6 div.sk-serial::before {content: \"\";position: absolute;border-left: 1px solid gray;box-sizing: border-box;top: 0;bottom: 0;left: 50%;z-index: 0;}#sk-container-id-6 div.sk-serial {display: flex;flex-direction: column;align-items: center;background-color: white;padding-right: 0.2em;padding-left: 0.2em;position: relative;}#sk-container-id-6 div.sk-item {position: relative;z-index: 1;}#sk-container-id-6 div.sk-parallel {display: flex;align-items: stretch;justify-content: center;background-color: white;position: relative;}#sk-container-id-6 div.sk-item::before, #sk-container-id-6 div.sk-parallel-item::before {content: \"\";position: absolute;border-left: 1px solid gray;box-sizing: border-box;top: 0;bottom: 0;left: 50%;z-index: -1;}#sk-container-id-6 div.sk-parallel-item {display: flex;flex-direction: column;z-index: 1;position: relative;background-color: white;}#sk-container-id-6 div.sk-parallel-item:first-child::after {align-self: flex-end;width: 50%;}#sk-container-id-6 div.sk-parallel-item:last-child::after {align-self: flex-start;width: 50%;}#sk-container-id-6 div.sk-parallel-item:only-child::after {width: 0;}#sk-container-id-6 div.sk-dashed-wrapped {border: 1px dashed gray;margin: 0 0.4em 0.5em 0.4em;box-sizing: border-box;padding-bottom: 0.4em;background-color: white;}#sk-container-id-6 div.sk-label label {font-family: monospace;font-weight: bold;display: inline-block;line-height: 1.2em;}#sk-container-id-6 div.sk-label-container {text-align: center;}#sk-container-id-6 div.sk-container {/* jupyter's `normalize.less` sets `[hidden] { display: none; }` but bootstrap.min.css set `[hidden] { display: none !important; }` so we also need the `!important` here to be able to override the default hidden behavior on the sphinx rendered scikit-learn.org. See: https://github.com/scikit-learn/scikit-learn/issues/21755 */display: inline-block !important;position: relative;}#sk-container-id-6 div.sk-text-repr-fallback {display: none;}</style><div id=\"sk-container-id-6\" class=\"sk-top-container\"><div class=\"sk-text-repr-fallback\"><pre>ExtraTreesClassifier()</pre><b>In a Jupyter environment, please rerun this cell to show the HTML representation or trust the notebook. <br />On GitHub, the HTML representation is unable to render, please try loading this page with nbviewer.org.</b></div><div class=\"sk-container\" hidden><div class=\"sk-item\"><div class=\"sk-estimator sk-toggleable\"><input class=\"sk-toggleable__control sk-hidden--visually\" id=\"sk-estimator-id-6\" type=\"checkbox\" checked><label for=\"sk-estimator-id-6\" class=\"sk-toggleable__label sk-toggleable__label-arrow\">ExtraTreesClassifier</label><div class=\"sk-toggleable__content\"><pre>ExtraTreesClassifier()</pre></div></div></div></div></div>"
      ],
      "text/plain": [
       "ExtraTreesClassifier()"
      ]
     },
     "execution_count": 104,
     "metadata": {},
     "output_type": "execute_result"
    }
   ],
   "source": [
    "et5.fit(x_train, y_train)"
   ]
  },
  {
   "cell_type": "code",
   "execution_count": 105,
   "id": "e67a32c8",
   "metadata": {},
   "outputs": [
    {
     "data": {
      "text/plain": [
       "1.0"
      ]
     },
     "execution_count": 105,
     "metadata": {},
     "output_type": "execute_result"
    }
   ],
   "source": [
    "et5.score(x_train, y_train)"
   ]
  },
  {
   "cell_type": "code",
   "execution_count": 106,
   "id": "79a1b911",
   "metadata": {},
   "outputs": [
    {
     "data": {
      "text/plain": [
       "0.7106138043963678"
      ]
     },
     "execution_count": 106,
     "metadata": {},
     "output_type": "execute_result"
    }
   ],
   "source": [
    "et5.score(x_test, y_test)"
   ]
  },
  {
   "cell_type": "markdown",
   "id": "d0c22a89",
   "metadata": {},
   "source": [
    "## 1-8. 서포트벡터머신"
   ]
  },
  {
   "cell_type": "code",
   "execution_count": 7,
   "id": "901ce567",
   "metadata": {},
   "outputs": [],
   "source": [
    "svm_model = SVC(random_state=8)"
   ]
  },
  {
   "cell_type": "code",
   "execution_count": 8,
   "id": "43d6b20d",
   "metadata": {},
   "outputs": [
    {
     "data": {
      "text/plain": [
       "SVC(random_state=8)"
      ]
     },
     "execution_count": 8,
     "metadata": {},
     "output_type": "execute_result"
    }
   ],
   "source": [
    "svm_model.fit(x_train, y_train)"
   ]
  },
  {
   "cell_type": "code",
   "execution_count": 9,
   "id": "c7acf3f1",
   "metadata": {},
   "outputs": [],
   "source": [
    "y_pred = svm_model.predict(x_test)"
   ]
  },
  {
   "cell_type": "code",
   "execution_count": 10,
   "id": "3201734e",
   "metadata": {
    "scrolled": false
   },
   "outputs": [
    {
     "name": "stdout",
     "output_type": "stream",
     "text": [
      "[[5440 3236    0    0]\n",
      " [2067 8084    0    0]\n",
      " [  61 1120    0    2]\n",
      " [  27  107    0    9]]\n"
     ]
    }
   ],
   "source": [
    "svm_mat = confusion_matrix(y_test, y_pred)\n",
    "print(svm_mat)"
   ]
  },
  {
   "cell_type": "code",
   "execution_count": 11,
   "id": "f5373ed9",
   "metadata": {
    "scrolled": false
   },
   "outputs": [
    {
     "name": "stdout",
     "output_type": "stream",
     "text": [
      "              precision    recall  f1-score   support\n",
      "\n",
      "           0       0.72      0.63      0.67      8676\n",
      "           1       0.64      0.80      0.71     10151\n",
      "           2       0.00      0.00      0.00      1183\n",
      "           3       0.82      0.06      0.12       143\n",
      "\n",
      "    accuracy                           0.67     20153\n",
      "   macro avg       0.54      0.37      0.37     20153\n",
      "weighted avg       0.64      0.67      0.65     20153\n",
      "\n"
     ]
    },
    {
     "name": "stderr",
     "output_type": "stream",
     "text": [
      "C:\\Users\\ITSC\\anaconda3\\lib\\site-packages\\sklearn\\metrics\\_classification.py:1318: UndefinedMetricWarning: Precision and F-score are ill-defined and being set to 0.0 in labels with no predicted samples. Use `zero_division` parameter to control this behavior.\n",
      "  _warn_prf(average, modifier, msg_start, len(result))\n",
      "C:\\Users\\ITSC\\anaconda3\\lib\\site-packages\\sklearn\\metrics\\_classification.py:1318: UndefinedMetricWarning: Precision and F-score are ill-defined and being set to 0.0 in labels with no predicted samples. Use `zero_division` parameter to control this behavior.\n",
      "  _warn_prf(average, modifier, msg_start, len(result))\n",
      "C:\\Users\\ITSC\\anaconda3\\lib\\site-packages\\sklearn\\metrics\\_classification.py:1318: UndefinedMetricWarning: Precision and F-score are ill-defined and being set to 0.0 in labels with no predicted samples. Use `zero_division` parameter to control this behavior.\n",
      "  _warn_prf(average, modifier, msg_start, len(result))\n"
     ]
    }
   ],
   "source": [
    "svm_report = classification_report(y_test, y_pred)\n",
    "print(svm_report)"
   ]
  },
  {
   "cell_type": "markdown",
   "id": "ad63a726",
   "metadata": {},
   "source": [
    "- 베이스라인으로 트리 기반의 여러 분류 모델을 돌려본 결과, 교차검증 정확도는\n",
    "    - KNeighborsClassifier : 0.652\n",
    "    - RandomForestClassifier : 0.794\n",
    "    - ExtraTreesClassifier : 0.818\n",
    "    - CatBoostClassifier : 성능 이슈로 실패\n",
    "    - XGBClassifier : 0.808\n",
    "    - LightGBM : 0.781\n",
    "    - PCA : 0.711\n",
    "    - SVM : 0.67\n",
    "- 엑스트라트리의 성능이 가장 좋은 것으로 나타남 (엑스트라트리는 임의의 변수를 선택해서 학습 진행)\n",
    "- 하지만 모든 모델에서 과대적합이 일어난 것이 보임. 파라미터 튜닝 필요\n",
    "- 파라미터 튜닝에 앞서, 피처 선별을 다시 하고자 함"
   ]
  },
  {
   "cell_type": "markdown",
   "id": "eb90d419",
   "metadata": {},
   "source": [
    "# 2. 피처 선별\n",
    "- 피처 선별\n",
    "    - 분류모델 시 feature_importances가 높게 나왔던 피처들만 사용\n",
    "- 교차검증 점수가 가장 높았던 엑스트라트리 이용"
   ]
  },
  {
   "cell_type": "markdown",
   "id": "ac578cfd",
   "metadata": {},
   "source": [
    "### 피처 선별"
   ]
  },
  {
   "cell_type": "code",
   "execution_count": 7,
   "id": "5e2e8532",
   "metadata": {},
   "outputs": [],
   "source": [
    "# feature importances\n",
    "col_lst = x_train.columns.tolist()\n",
    "feat_imp = et.feature_importances_.tolist()\n",
    "\n",
    "feature_importances = pd.DataFrame({\n",
    "    \"column\" : col_lst,\n",
    "    \"importance\" : feat_imp\n",
    "})"
   ]
  },
  {
   "cell_type": "code",
   "execution_count": 9,
   "id": "0428ff84",
   "metadata": {
    "scrolled": true
   },
   "outputs": [],
   "source": [
    "feat_imp = feature_importances[feature_importances[\"importance\"] > 0.0001].iloc[:,0].tolist()"
   ]
  },
  {
   "cell_type": "code",
   "execution_count": 9,
   "id": "8a04e0a0",
   "metadata": {
    "scrolled": true
   },
   "outputs": [
    {
     "data": {
      "text/plain": [
       "776"
      ]
     },
     "execution_count": 9,
     "metadata": {},
     "output_type": "execute_result"
    }
   ],
   "source": [
    "len(feat_imp)"
   ]
  },
  {
   "cell_type": "markdown",
   "id": "8f6e686e",
   "metadata": {},
   "source": [
    "### 학습 및 검증"
   ]
  },
  {
   "cell_type": "code",
   "execution_count": 10,
   "id": "6d4579ea",
   "metadata": {},
   "outputs": [],
   "source": [
    "x = ndf[feat_imp]\n",
    "y = ndf[\"PM10_y_bin\"]\n",
    "\n",
    "x_train, x_test, y_train, y_test = train_test_split(x, y, test_size = 0.3, random_state = 8, stratify = y)"
   ]
  },
  {
   "cell_type": "code",
   "execution_count": 175,
   "id": "63ae36f2",
   "metadata": {},
   "outputs": [],
   "source": [
    "et2 = ExtraTreesClassifier(n_jobs = -1, random_state = 8)"
   ]
  },
  {
   "cell_type": "code",
   "execution_count": 176,
   "id": "519c5114",
   "metadata": {},
   "outputs": [
    {
     "name": "stdout",
     "output_type": "stream",
     "text": [
      "1.0 0.8210026319294492\n"
     ]
    }
   ],
   "source": [
    "scores2 = cross_validate(et2, x_train, y_train, return_train_score = True, n_jobs = -1)\n",
    "print(np.mean(scores2[\"train_score\"]), np.mean(scores2[\"test_score\"]))"
   ]
  },
  {
   "cell_type": "code",
   "execution_count": 177,
   "id": "a8bd101d",
   "metadata": {
    "scrolled": false
   },
   "outputs": [
    {
     "data": {
      "text/html": [
       "<style>#sk-container-id-12 {color: black;background-color: white;}#sk-container-id-12 pre{padding: 0;}#sk-container-id-12 div.sk-toggleable {background-color: white;}#sk-container-id-12 label.sk-toggleable__label {cursor: pointer;display: block;width: 100%;margin-bottom: 0;padding: 0.3em;box-sizing: border-box;text-align: center;}#sk-container-id-12 label.sk-toggleable__label-arrow:before {content: \"▸\";float: left;margin-right: 0.25em;color: #696969;}#sk-container-id-12 label.sk-toggleable__label-arrow:hover:before {color: black;}#sk-container-id-12 div.sk-estimator:hover label.sk-toggleable__label-arrow:before {color: black;}#sk-container-id-12 div.sk-toggleable__content {max-height: 0;max-width: 0;overflow: hidden;text-align: left;background-color: #f0f8ff;}#sk-container-id-12 div.sk-toggleable__content pre {margin: 0.2em;color: black;border-radius: 0.25em;background-color: #f0f8ff;}#sk-container-id-12 input.sk-toggleable__control:checked~div.sk-toggleable__content {max-height: 200px;max-width: 100%;overflow: auto;}#sk-container-id-12 input.sk-toggleable__control:checked~label.sk-toggleable__label-arrow:before {content: \"▾\";}#sk-container-id-12 div.sk-estimator input.sk-toggleable__control:checked~label.sk-toggleable__label {background-color: #d4ebff;}#sk-container-id-12 div.sk-label input.sk-toggleable__control:checked~label.sk-toggleable__label {background-color: #d4ebff;}#sk-container-id-12 input.sk-hidden--visually {border: 0;clip: rect(1px 1px 1px 1px);clip: rect(1px, 1px, 1px, 1px);height: 1px;margin: -1px;overflow: hidden;padding: 0;position: absolute;width: 1px;}#sk-container-id-12 div.sk-estimator {font-family: monospace;background-color: #f0f8ff;border: 1px dotted black;border-radius: 0.25em;box-sizing: border-box;margin-bottom: 0.5em;}#sk-container-id-12 div.sk-estimator:hover {background-color: #d4ebff;}#sk-container-id-12 div.sk-parallel-item::after {content: \"\";width: 100%;border-bottom: 1px solid gray;flex-grow: 1;}#sk-container-id-12 div.sk-label:hover label.sk-toggleable__label {background-color: #d4ebff;}#sk-container-id-12 div.sk-serial::before {content: \"\";position: absolute;border-left: 1px solid gray;box-sizing: border-box;top: 0;bottom: 0;left: 50%;z-index: 0;}#sk-container-id-12 div.sk-serial {display: flex;flex-direction: column;align-items: center;background-color: white;padding-right: 0.2em;padding-left: 0.2em;position: relative;}#sk-container-id-12 div.sk-item {position: relative;z-index: 1;}#sk-container-id-12 div.sk-parallel {display: flex;align-items: stretch;justify-content: center;background-color: white;position: relative;}#sk-container-id-12 div.sk-item::before, #sk-container-id-12 div.sk-parallel-item::before {content: \"\";position: absolute;border-left: 1px solid gray;box-sizing: border-box;top: 0;bottom: 0;left: 50%;z-index: -1;}#sk-container-id-12 div.sk-parallel-item {display: flex;flex-direction: column;z-index: 1;position: relative;background-color: white;}#sk-container-id-12 div.sk-parallel-item:first-child::after {align-self: flex-end;width: 50%;}#sk-container-id-12 div.sk-parallel-item:last-child::after {align-self: flex-start;width: 50%;}#sk-container-id-12 div.sk-parallel-item:only-child::after {width: 0;}#sk-container-id-12 div.sk-dashed-wrapped {border: 1px dashed gray;margin: 0 0.4em 0.5em 0.4em;box-sizing: border-box;padding-bottom: 0.4em;background-color: white;}#sk-container-id-12 div.sk-label label {font-family: monospace;font-weight: bold;display: inline-block;line-height: 1.2em;}#sk-container-id-12 div.sk-label-container {text-align: center;}#sk-container-id-12 div.sk-container {/* jupyter's `normalize.less` sets `[hidden] { display: none; }` but bootstrap.min.css set `[hidden] { display: none !important; }` so we also need the `!important` here to be able to override the default hidden behavior on the sphinx rendered scikit-learn.org. See: https://github.com/scikit-learn/scikit-learn/issues/21755 */display: inline-block !important;position: relative;}#sk-container-id-12 div.sk-text-repr-fallback {display: none;}</style><div id=\"sk-container-id-12\" class=\"sk-top-container\"><div class=\"sk-text-repr-fallback\"><pre>ExtraTreesClassifier(n_jobs=-1, random_state=8)</pre><b>In a Jupyter environment, please rerun this cell to show the HTML representation or trust the notebook. <br />On GitHub, the HTML representation is unable to render, please try loading this page with nbviewer.org.</b></div><div class=\"sk-container\" hidden><div class=\"sk-item\"><div class=\"sk-estimator sk-toggleable\"><input class=\"sk-toggleable__control sk-hidden--visually\" id=\"sk-estimator-id-12\" type=\"checkbox\" checked><label for=\"sk-estimator-id-12\" class=\"sk-toggleable__label sk-toggleable__label-arrow\">ExtraTreesClassifier</label><div class=\"sk-toggleable__content\"><pre>ExtraTreesClassifier(n_jobs=-1, random_state=8)</pre></div></div></div></div></div>"
      ],
      "text/plain": [
       "ExtraTreesClassifier(n_jobs=-1, random_state=8)"
      ]
     },
     "execution_count": 177,
     "metadata": {},
     "output_type": "execute_result"
    }
   ],
   "source": [
    "et2.fit(x_train, y_train)"
   ]
  },
  {
   "cell_type": "code",
   "execution_count": 178,
   "id": "eb25fabc",
   "metadata": {
    "scrolled": true
   },
   "outputs": [
    {
     "data": {
      "text/plain": [
       "1.0"
      ]
     },
     "execution_count": 178,
     "metadata": {},
     "output_type": "execute_result"
    }
   ],
   "source": [
    "et2.score(x_train, y_train)"
   ]
  },
  {
   "cell_type": "code",
   "execution_count": 179,
   "id": "f63e28cc",
   "metadata": {
    "scrolled": true
   },
   "outputs": [
    {
     "data": {
      "text/plain": [
       "0.8362526670967102"
      ]
     },
     "execution_count": 179,
     "metadata": {},
     "output_type": "execute_result"
    }
   ],
   "source": [
    "et2.score(x_test, y_test)"
   ]
  },
  {
   "cell_type": "code",
   "execution_count": 114,
   "id": "e976a966",
   "metadata": {},
   "outputs": [
    {
     "data": {
      "text/plain": [
       "0.83054632064705"
      ]
     },
     "execution_count": 114,
     "metadata": {},
     "output_type": "execute_result"
    }
   ],
   "source": [
    "et_pred = et2.predict(x_test)\n",
    "accuracy_score(y_test, et_pred)"
   ]
  },
  {
   "cell_type": "markdown",
   "id": "5ad88b3d",
   "metadata": {},
   "source": [
    "- feature_importances를 따라 피처를 선별한 결과, 성능이 소폭 개선됨\n",
    "    - 0.0001 -> 0.8245\n",
    "    - 0.00009 -> 0.8235\n",
    "    - 0.00007 -> 0.8225\n",
    "    - 0.00005 -> 0.8243\n",
    "    - 0.00001 -> 0.8230\n",
    "- 앞으로 선별된 피처를 사용하도록 하겠음"
   ]
  },
  {
   "cell_type": "markdown",
   "id": "f85cd43f",
   "metadata": {},
   "source": [
    "# 3. 하이퍼파라미터 튜닝\n",
    "- 교차검증 점수가 높은 랜덤포레스트, 엑스트라트리 사용"
   ]
  },
  {
   "cell_type": "markdown",
   "id": "777167af",
   "metadata": {},
   "source": [
    "### 랜덤서치 함수 생성"
   ]
  },
  {
   "cell_type": "code",
   "execution_count": 60,
   "id": "bd7ce27c",
   "metadata": {},
   "outputs": [],
   "source": [
    "def randomized_search_cls(model, params, n_iter = 10, log_y = None):\n",
    "    '''하이퍼 파라미터 랜덤 튜닝 함수'''\n",
    "    from sklearn.model_selection import RandomizedSearchCV\n",
    "    from sklearn.metrics import accuracy_score\n",
    "    \n",
    "    rscv = RandomizedSearchCV(model,\n",
    "                              params,\n",
    "                              n_iter = n_iter)\n",
    "    rscv.fit(x_train, y_train)\n",
    "    best_model = rscv.best_estimator_\n",
    "    best_score = rscv.best_score_\n",
    "    print(f\"훈련 점수 : {best_score : .3f}\")\n",
    "    \n",
    "    y_pred = best_model.predict(scaled_test)\n",
    "    if log_y:\n",
    "        y_pred = np.expm1(best_model.predict(x_test))\n",
    "    accuracy = accuracy_score(y_test, y_pred)\n",
    "    print(f\"ACCURACY : {accuracy : .3f}\")\n",
    "    \n",
    "    return best_model"
   ]
  },
  {
   "cell_type": "markdown",
   "id": "91844ac0",
   "metadata": {},
   "source": [
    "### 파라미터 지정"
   ]
  },
  {
   "cell_type": "code",
   "execution_count": 61,
   "id": "8a9eb3de",
   "metadata": {},
   "outputs": [],
   "source": [
    "params = dict(\n",
    "    max_depth = [None, 2, 4, 6, 8, 10, 12],\n",
    "    min_samples_split = [2, 3, 4, 5, 6, 7, 8, 9, 10],\n",
    "    min_samples_leaf = [1, .1, .01, .02, .03, .04, .05],\n",
    "    min_weight_fraction_leaf = [0.0, .0005, .005, .05, .1, .15, .2],\n",
    "    max_features = [1.0, .95, .9, .85, .8, .75, .7],\n",
    "    max_leaf_nodes = [None, 10, 15, 20, 25, 30, 35, 40, 45, 50],\n",
    "    min_impurity_decrease = [0.0, .0005, .005, .05, .1, .15, .2],\n",
    "    )"
   ]
  },
  {
   "cell_type": "markdown",
   "id": "82bb4fd5",
   "metadata": {},
   "source": [
    "## 3-1. 랜덤포레스트"
   ]
  },
  {
   "cell_type": "code",
   "execution_count": 185,
   "id": "ec18a687",
   "metadata": {},
   "outputs": [
    {
     "name": "stdout",
     "output_type": "stream",
     "text": [
      "accuracy : 0.7484245521758547\n",
      "최상의 매개변수 : {'max_depth': 32, 'min_impurity_decrease': 0.00010830837443257038, 'min_samples_split': 9}\n",
      "최상의 교차검증 점수 : 0.7482510637730141\n"
     ]
    }
   ],
   "source": [
    "# 랜덤서치 객체 생성\n",
    "rs_rf = RandomizedSearchCV(RandomForestClassifier(random_state = 8), params, n_iter = 100, n_jobs = -1, random_state = 8)\n",
    "\n",
    "# 모델 학습\n",
    "rs_rf.fit(x_train, y_train)\n",
    "\n",
    "# 정확도\n",
    "score = rs_rf.score(x_test, y_test)\n",
    "\n",
    "# 최상의 매개변수 조합\n",
    "rs_rf_best_params = rs_rf.best_params_\n",
    "\n",
    "# 최상의 교차검증 점수\n",
    "rs_rf_result = np.max(rs_rf.cv_results_[\"mean_test_score\"])\n",
    "\n",
    "print(f\"accuracy : {score}\")\n",
    "print(f\"최상의 매개변수 : {rs_rf_best_params}\")\n",
    "print(f\"최상의 교차검증 점수 : {rs_rf_result}\")"
   ]
  },
  {
   "cell_type": "code",
   "execution_count": null,
   "id": "d71dbea4",
   "metadata": {},
   "outputs": [],
   "source": [
    "rf7 = RandomForestClassifier(max_depth = 32, min_impurity_decrease = 0.0001, min_samples_split = 9)\n",
    "\n",
    "scores7 = cross_validate(rf7, x_train, y_train, return_train_score = True, n_jobs = -1)\n",
    "print(np.mean(scores7[\"train_score\"]), np.mean(scores7[\"test_score\"]))"
   ]
  },
  {
   "cell_type": "markdown",
   "id": "54ddccbb",
   "metadata": {},
   "source": [
    "## 3-2. 엑스트라트리"
   ]
  },
  {
   "cell_type": "code",
   "execution_count": 14,
   "id": "511d2346",
   "metadata": {},
   "outputs": [
    {
     "name": "stdout",
     "output_type": "stream",
     "text": [
      "accuracy : 0.6899220959658612\n",
      "최상의 매개변수 : {'max_depth': 20, 'min_impurity_decrease': 0.00010242272665406818, 'min_samples_leaf': 9, 'min_samples_split': 24}\n",
      "최상의 교차검증 점수 : 0.691087444323917\n",
      "CPU times: total: 34.9 s\n",
      "Wall time: 51min 3s\n"
     ]
    }
   ],
   "source": [
    "%%time\n",
    "params = {\n",
    "    \"max_depth\" : randint(10, 50),\n",
    "    \"min_impurity_decrease\" : uniform(0.0001, 0.001),\n",
    "    \"min_samples_split\" : randint(2, 50),\n",
    "    \"min_samples_leaf\" : randint(2, 50)\n",
    "}\n",
    "\n",
    "# 랜덤서치 객체 생성\n",
    "rs_et = RandomizedSearchCV(ExtraTreesClassifier(random_state = 8), params, n_iter = 500, n_jobs = -1, random_state = 8)\n",
    "\n",
    "# 모델 학습\n",
    "rs_et.fit(x_train, y_train)\n",
    "\n",
    "# 정확도\n",
    "score = rs_et.score(x_test, y_test)\n",
    "\n",
    "# 최상의 매개변수 조합\n",
    "rs_et_best_params = rs_et.best_params_\n",
    "\n",
    "# 최상의 교차검증 점수\n",
    "rs_et_result = np.max(rs_et.cv_results_[\"mean_test_score\"])\n",
    "\n",
    "print(f\"accuracy : {score}\")\n",
    "print(f\"최상의 매개변수 : {rs_et_best_params}\")\n",
    "print(f\"최상의 교차검증 점수 : {rs_et_result}\")"
   ]
  },
  {
   "cell_type": "code",
   "execution_count": null,
   "id": "3eb4d5bb",
   "metadata": {},
   "outputs": [],
   "source": [
    "et7 = ExtraTreesClassifier(max_depth = 20, min_impurity_decrease = 0.0001, min_samples_leaf = 9, min_samples_split = 24)\n",
    "\n",
    "scores7 = cross_validate(et7, x_train, y_train, return_train_score = True, n_jobs = -1)\n",
    "print(np.mean(scores7[\"train_score\"]), np.mean(scores7[\"test_score\"]))"
   ]
  },
  {
   "cell_type": "markdown",
   "id": "8a95a2d8",
   "metadata": {},
   "source": [
    "- 하이퍼파라미터 튜닝은 성능상 이슈로, 최적의 하이퍼파라미터를 찾을 수 없어 포기\n",
    "- 다만, n_estimator를 올리고, min_impurity_decrease를 낮췄을 때 과대적합이 방지되는 것을 확인함\n",
    "    - 성능 문제로 성능을 이전 모델보다 끌어올리는 데는 실패했지만 이 부분을 참고해서 하이퍼파라미터 튜닝을 성공한다면 성능이 개선될 것으로 추정"
   ]
  },
  {
   "cell_type": "markdown",
   "id": "71dd14c2",
   "metadata": {},
   "source": [
    "# 4. 보팅"
   ]
  },
  {
   "cell_type": "markdown",
   "id": "0bbbfbda",
   "metadata": {},
   "source": [
    "## 4-1. 하드 보팅"
   ]
  },
  {
   "cell_type": "code",
   "execution_count": null,
   "id": "78209f38",
   "metadata": {},
   "outputs": [],
   "source": [
    "classifiers = [RandomForestClassifier, ExtraTreesClassifier, XGBClassifier]\n",
    "for classifier in classifiers:\n",
    "    classifier.fit(x_train, y_train)\n",
    "    pred = classifier.predict(x_test)\n",
    "    class_name = classifier.__class__.__name__\n",
    "    print(\"{0} 정확도 : {1:.4f}\".format(class_name, accuracy_score(y_test, pred)))"
   ]
  },
  {
   "cell_type": "code",
   "execution_count": 12,
   "id": "75e28b97",
   "metadata": {},
   "outputs": [
    {
     "data": {
      "text/html": [
       "<style>#sk-container-id-1 {color: black;background-color: white;}#sk-container-id-1 pre{padding: 0;}#sk-container-id-1 div.sk-toggleable {background-color: white;}#sk-container-id-1 label.sk-toggleable__label {cursor: pointer;display: block;width: 100%;margin-bottom: 0;padding: 0.3em;box-sizing: border-box;text-align: center;}#sk-container-id-1 label.sk-toggleable__label-arrow:before {content: \"▸\";float: left;margin-right: 0.25em;color: #696969;}#sk-container-id-1 label.sk-toggleable__label-arrow:hover:before {color: black;}#sk-container-id-1 div.sk-estimator:hover label.sk-toggleable__label-arrow:before {color: black;}#sk-container-id-1 div.sk-toggleable__content {max-height: 0;max-width: 0;overflow: hidden;text-align: left;background-color: #f0f8ff;}#sk-container-id-1 div.sk-toggleable__content pre {margin: 0.2em;color: black;border-radius: 0.25em;background-color: #f0f8ff;}#sk-container-id-1 input.sk-toggleable__control:checked~div.sk-toggleable__content {max-height: 200px;max-width: 100%;overflow: auto;}#sk-container-id-1 input.sk-toggleable__control:checked~label.sk-toggleable__label-arrow:before {content: \"▾\";}#sk-container-id-1 div.sk-estimator input.sk-toggleable__control:checked~label.sk-toggleable__label {background-color: #d4ebff;}#sk-container-id-1 div.sk-label input.sk-toggleable__control:checked~label.sk-toggleable__label {background-color: #d4ebff;}#sk-container-id-1 input.sk-hidden--visually {border: 0;clip: rect(1px 1px 1px 1px);clip: rect(1px, 1px, 1px, 1px);height: 1px;margin: -1px;overflow: hidden;padding: 0;position: absolute;width: 1px;}#sk-container-id-1 div.sk-estimator {font-family: monospace;background-color: #f0f8ff;border: 1px dotted black;border-radius: 0.25em;box-sizing: border-box;margin-bottom: 0.5em;}#sk-container-id-1 div.sk-estimator:hover {background-color: #d4ebff;}#sk-container-id-1 div.sk-parallel-item::after {content: \"\";width: 100%;border-bottom: 1px solid gray;flex-grow: 1;}#sk-container-id-1 div.sk-label:hover label.sk-toggleable__label {background-color: #d4ebff;}#sk-container-id-1 div.sk-serial::before {content: \"\";position: absolute;border-left: 1px solid gray;box-sizing: border-box;top: 0;bottom: 0;left: 50%;z-index: 0;}#sk-container-id-1 div.sk-serial {display: flex;flex-direction: column;align-items: center;background-color: white;padding-right: 0.2em;padding-left: 0.2em;position: relative;}#sk-container-id-1 div.sk-item {position: relative;z-index: 1;}#sk-container-id-1 div.sk-parallel {display: flex;align-items: stretch;justify-content: center;background-color: white;position: relative;}#sk-container-id-1 div.sk-item::before, #sk-container-id-1 div.sk-parallel-item::before {content: \"\";position: absolute;border-left: 1px solid gray;box-sizing: border-box;top: 0;bottom: 0;left: 50%;z-index: -1;}#sk-container-id-1 div.sk-parallel-item {display: flex;flex-direction: column;z-index: 1;position: relative;background-color: white;}#sk-container-id-1 div.sk-parallel-item:first-child::after {align-self: flex-end;width: 50%;}#sk-container-id-1 div.sk-parallel-item:last-child::after {align-self: flex-start;width: 50%;}#sk-container-id-1 div.sk-parallel-item:only-child::after {width: 0;}#sk-container-id-1 div.sk-dashed-wrapped {border: 1px dashed gray;margin: 0 0.4em 0.5em 0.4em;box-sizing: border-box;padding-bottom: 0.4em;background-color: white;}#sk-container-id-1 div.sk-label label {font-family: monospace;font-weight: bold;display: inline-block;line-height: 1.2em;}#sk-container-id-1 div.sk-label-container {text-align: center;}#sk-container-id-1 div.sk-container {/* jupyter's `normalize.less` sets `[hidden] { display: none; }` but bootstrap.min.css set `[hidden] { display: none !important; }` so we also need the `!important` here to be able to override the default hidden behavior on the sphinx rendered scikit-learn.org. See: https://github.com/scikit-learn/scikit-learn/issues/21755 */display: inline-block !important;position: relative;}#sk-container-id-1 div.sk-text-repr-fallback {display: none;}</style><div id=\"sk-container-id-1\" class=\"sk-top-container\"><div class=\"sk-text-repr-fallback\"><pre>VotingClassifier(estimators=[(&#x27;rf&#x27;,\n",
       "                              RandomForestClassifier(n_jobs=-1,\n",
       "                                                     random_state=8)),\n",
       "                             (&#x27;etc&#x27;,\n",
       "                              ExtraTreesClassifier(n_jobs=-1, random_state=8)),\n",
       "                             (&#x27;xgb&#x27;,\n",
       "                              XGBClassifier(base_score=None, booster=None,\n",
       "                                            callbacks=None,\n",
       "                                            colsample_bylevel=None,\n",
       "                                            colsample_bynode=None,\n",
       "                                            colsample_bytree=None,\n",
       "                                            early_stopping_rounds=None,\n",
       "                                            enable_categorical=False,\n",
       "                                            eval_metric=None,\n",
       "                                            feature_t...\n",
       "                                            gpu_id=None, grow_policy=None,\n",
       "                                            importance_type=None,\n",
       "                                            interaction_constraints=None,\n",
       "                                            learning_rate=None, max_bin=None,\n",
       "                                            max_cat_threshold=None,\n",
       "                                            max_cat_to_onehot=None,\n",
       "                                            max_delta_step=None, max_depth=None,\n",
       "                                            max_leaves=None,\n",
       "                                            min_child_weight=None, missing=nan,\n",
       "                                            monotone_constraints=None,\n",
       "                                            n_estimators=100, n_jobs=-1,\n",
       "                                            num_parallel_tree=None,\n",
       "                                            predictor=None, random_state=8, ...))])</pre><b>In a Jupyter environment, please rerun this cell to show the HTML representation or trust the notebook. <br />On GitHub, the HTML representation is unable to render, please try loading this page with nbviewer.org.</b></div><div class=\"sk-container\" hidden><div class=\"sk-item sk-dashed-wrapped\"><div class=\"sk-label-container\"><div class=\"sk-label sk-toggleable\"><input class=\"sk-toggleable__control sk-hidden--visually\" id=\"sk-estimator-id-1\" type=\"checkbox\" ><label for=\"sk-estimator-id-1\" class=\"sk-toggleable__label sk-toggleable__label-arrow\">VotingClassifier</label><div class=\"sk-toggleable__content\"><pre>VotingClassifier(estimators=[(&#x27;rf&#x27;,\n",
       "                              RandomForestClassifier(n_jobs=-1,\n",
       "                                                     random_state=8)),\n",
       "                             (&#x27;etc&#x27;,\n",
       "                              ExtraTreesClassifier(n_jobs=-1, random_state=8)),\n",
       "                             (&#x27;xgb&#x27;,\n",
       "                              XGBClassifier(base_score=None, booster=None,\n",
       "                                            callbacks=None,\n",
       "                                            colsample_bylevel=None,\n",
       "                                            colsample_bynode=None,\n",
       "                                            colsample_bytree=None,\n",
       "                                            early_stopping_rounds=None,\n",
       "                                            enable_categorical=False,\n",
       "                                            eval_metric=None,\n",
       "                                            feature_t...\n",
       "                                            gpu_id=None, grow_policy=None,\n",
       "                                            importance_type=None,\n",
       "                                            interaction_constraints=None,\n",
       "                                            learning_rate=None, max_bin=None,\n",
       "                                            max_cat_threshold=None,\n",
       "                                            max_cat_to_onehot=None,\n",
       "                                            max_delta_step=None, max_depth=None,\n",
       "                                            max_leaves=None,\n",
       "                                            min_child_weight=None, missing=nan,\n",
       "                                            monotone_constraints=None,\n",
       "                                            n_estimators=100, n_jobs=-1,\n",
       "                                            num_parallel_tree=None,\n",
       "                                            predictor=None, random_state=8, ...))])</pre></div></div></div><div class=\"sk-parallel\"><div class=\"sk-parallel-item\"><div class=\"sk-item\"><div class=\"sk-label-container\"><div class=\"sk-label sk-toggleable\"><label>rf</label></div></div><div class=\"sk-serial\"><div class=\"sk-item\"><div class=\"sk-estimator sk-toggleable\"><input class=\"sk-toggleable__control sk-hidden--visually\" id=\"sk-estimator-id-2\" type=\"checkbox\" ><label for=\"sk-estimator-id-2\" class=\"sk-toggleable__label sk-toggleable__label-arrow\">RandomForestClassifier</label><div class=\"sk-toggleable__content\"><pre>RandomForestClassifier(n_jobs=-1, random_state=8)</pre></div></div></div></div></div></div><div class=\"sk-parallel-item\"><div class=\"sk-item\"><div class=\"sk-label-container\"><div class=\"sk-label sk-toggleable\"><label>etc</label></div></div><div class=\"sk-serial\"><div class=\"sk-item\"><div class=\"sk-estimator sk-toggleable\"><input class=\"sk-toggleable__control sk-hidden--visually\" id=\"sk-estimator-id-3\" type=\"checkbox\" ><label for=\"sk-estimator-id-3\" class=\"sk-toggleable__label sk-toggleable__label-arrow\">ExtraTreesClassifier</label><div class=\"sk-toggleable__content\"><pre>ExtraTreesClassifier(n_jobs=-1, random_state=8)</pre></div></div></div></div></div></div><div class=\"sk-parallel-item\"><div class=\"sk-item\"><div class=\"sk-label-container\"><div class=\"sk-label sk-toggleable\"><label>xgb</label></div></div><div class=\"sk-serial\"><div class=\"sk-item\"><div class=\"sk-estimator sk-toggleable\"><input class=\"sk-toggleable__control sk-hidden--visually\" id=\"sk-estimator-id-4\" type=\"checkbox\" ><label for=\"sk-estimator-id-4\" class=\"sk-toggleable__label sk-toggleable__label-arrow\">XGBClassifier</label><div class=\"sk-toggleable__content\"><pre>XGBClassifier(base_score=None, booster=None, callbacks=None,\n",
       "              colsample_bylevel=None, colsample_bynode=None,\n",
       "              colsample_bytree=None, early_stopping_rounds=None,\n",
       "              enable_categorical=False, eval_metric=None, feature_types=None,\n",
       "              gamma=None, gpu_id=None, grow_policy=None, importance_type=None,\n",
       "              interaction_constraints=None, learning_rate=None, max_bin=None,\n",
       "              max_cat_threshold=None, max_cat_to_onehot=None,\n",
       "              max_delta_step=None, max_depth=None, max_leaves=None,\n",
       "              min_child_weight=None, missing=nan, monotone_constraints=None,\n",
       "              n_estimators=100, n_jobs=-1, num_parallel_tree=None,\n",
       "              predictor=None, random_state=8, ...)</pre></div></div></div></div></div></div></div></div></div></div>"
      ],
      "text/plain": [
       "VotingClassifier(estimators=[('rf',\n",
       "                              RandomForestClassifier(n_jobs=-1,\n",
       "                                                     random_state=8)),\n",
       "                             ('etc',\n",
       "                              ExtraTreesClassifier(n_jobs=-1, random_state=8)),\n",
       "                             ('xgb',\n",
       "                              XGBClassifier(base_score=None, booster=None,\n",
       "                                            callbacks=None,\n",
       "                                            colsample_bylevel=None,\n",
       "                                            colsample_bynode=None,\n",
       "                                            colsample_bytree=None,\n",
       "                                            early_stopping_rounds=None,\n",
       "                                            enable_categorical=False,\n",
       "                                            eval_metric=None,\n",
       "                                            feature_t...\n",
       "                                            gpu_id=None, grow_policy=None,\n",
       "                                            importance_type=None,\n",
       "                                            interaction_constraints=None,\n",
       "                                            learning_rate=None, max_bin=None,\n",
       "                                            max_cat_threshold=None,\n",
       "                                            max_cat_to_onehot=None,\n",
       "                                            max_delta_step=None, max_depth=None,\n",
       "                                            max_leaves=None,\n",
       "                                            min_child_weight=None, missing=nan,\n",
       "                                            monotone_constraints=None,\n",
       "                                            n_estimators=100, n_jobs=-1,\n",
       "                                            num_parallel_tree=None,\n",
       "                                            predictor=None, random_state=8, ...))])"
      ]
     },
     "execution_count": 12,
     "metadata": {},
     "output_type": "execute_result"
    }
   ],
   "source": [
    "clf1 = RandomForestClassifier(random_state = 8, n_jobs = -1)\n",
    "clf2 = ExtraTreesClassifier(random_state = 8, n_jobs = -1)\n",
    "clf3 = XGBClassifier(random_state = 8, n_jobs = -1)\n",
    "\n",
    "voting_model = VotingClassifier(estimators = [\n",
    "    (\"rf\", clf1), (\"etc\", clf2), (\"xgb\", clf3)],\n",
    "                               voting = \"hard\")\n",
    "\n",
    "voting_model.fit(x_train, y_train)"
   ]
  },
  {
   "cell_type": "code",
   "execution_count": 15,
   "id": "bd962e0c",
   "metadata": {},
   "outputs": [],
   "source": [
    "scores8 = cross_validate(voting_model, x_train, y_train, scoring = \"accuracy\", cv = 5)"
   ]
  },
  {
   "cell_type": "code",
   "execution_count": 18,
   "id": "a580adf3",
   "metadata": {},
   "outputs": [
    {
     "data": {
      "text/plain": [
       "0.8122409141449192"
      ]
     },
     "execution_count": 18,
     "metadata": {},
     "output_type": "execute_result"
    }
   ],
   "source": [
    "np.mean(scores8[\"test_score\"])"
   ]
  },
  {
   "cell_type": "code",
   "execution_count": 13,
   "id": "cc8c886e",
   "metadata": {
    "scrolled": true
   },
   "outputs": [
    {
     "data": {
      "text/plain": [
       "0.9999787338111137"
      ]
     },
     "execution_count": 13,
     "metadata": {},
     "output_type": "execute_result"
    }
   ],
   "source": [
    "voting_model.score(x_train, y_train)"
   ]
  },
  {
   "cell_type": "code",
   "execution_count": 14,
   "id": "6c6a4836",
   "metadata": {
    "scrolled": true
   },
   "outputs": [
    {
     "data": {
      "text/plain": [
       "0.8272217535850742"
      ]
     },
     "execution_count": 14,
     "metadata": {},
     "output_type": "execute_result"
    }
   ],
   "source": [
    "voting_model.score(x_test, y_test)"
   ]
  },
  {
   "cell_type": "markdown",
   "id": "71bb65a4",
   "metadata": {},
   "source": [
    "## 4-2. 소프트 보팅"
   ]
  },
  {
   "cell_type": "code",
   "execution_count": 19,
   "id": "670650e7",
   "metadata": {},
   "outputs": [
    {
     "data": {
      "text/html": [
       "<style>#sk-container-id-2 {color: black;background-color: white;}#sk-container-id-2 pre{padding: 0;}#sk-container-id-2 div.sk-toggleable {background-color: white;}#sk-container-id-2 label.sk-toggleable__label {cursor: pointer;display: block;width: 100%;margin-bottom: 0;padding: 0.3em;box-sizing: border-box;text-align: center;}#sk-container-id-2 label.sk-toggleable__label-arrow:before {content: \"▸\";float: left;margin-right: 0.25em;color: #696969;}#sk-container-id-2 label.sk-toggleable__label-arrow:hover:before {color: black;}#sk-container-id-2 div.sk-estimator:hover label.sk-toggleable__label-arrow:before {color: black;}#sk-container-id-2 div.sk-toggleable__content {max-height: 0;max-width: 0;overflow: hidden;text-align: left;background-color: #f0f8ff;}#sk-container-id-2 div.sk-toggleable__content pre {margin: 0.2em;color: black;border-radius: 0.25em;background-color: #f0f8ff;}#sk-container-id-2 input.sk-toggleable__control:checked~div.sk-toggleable__content {max-height: 200px;max-width: 100%;overflow: auto;}#sk-container-id-2 input.sk-toggleable__control:checked~label.sk-toggleable__label-arrow:before {content: \"▾\";}#sk-container-id-2 div.sk-estimator input.sk-toggleable__control:checked~label.sk-toggleable__label {background-color: #d4ebff;}#sk-container-id-2 div.sk-label input.sk-toggleable__control:checked~label.sk-toggleable__label {background-color: #d4ebff;}#sk-container-id-2 input.sk-hidden--visually {border: 0;clip: rect(1px 1px 1px 1px);clip: rect(1px, 1px, 1px, 1px);height: 1px;margin: -1px;overflow: hidden;padding: 0;position: absolute;width: 1px;}#sk-container-id-2 div.sk-estimator {font-family: monospace;background-color: #f0f8ff;border: 1px dotted black;border-radius: 0.25em;box-sizing: border-box;margin-bottom: 0.5em;}#sk-container-id-2 div.sk-estimator:hover {background-color: #d4ebff;}#sk-container-id-2 div.sk-parallel-item::after {content: \"\";width: 100%;border-bottom: 1px solid gray;flex-grow: 1;}#sk-container-id-2 div.sk-label:hover label.sk-toggleable__label {background-color: #d4ebff;}#sk-container-id-2 div.sk-serial::before {content: \"\";position: absolute;border-left: 1px solid gray;box-sizing: border-box;top: 0;bottom: 0;left: 50%;z-index: 0;}#sk-container-id-2 div.sk-serial {display: flex;flex-direction: column;align-items: center;background-color: white;padding-right: 0.2em;padding-left: 0.2em;position: relative;}#sk-container-id-2 div.sk-item {position: relative;z-index: 1;}#sk-container-id-2 div.sk-parallel {display: flex;align-items: stretch;justify-content: center;background-color: white;position: relative;}#sk-container-id-2 div.sk-item::before, #sk-container-id-2 div.sk-parallel-item::before {content: \"\";position: absolute;border-left: 1px solid gray;box-sizing: border-box;top: 0;bottom: 0;left: 50%;z-index: -1;}#sk-container-id-2 div.sk-parallel-item {display: flex;flex-direction: column;z-index: 1;position: relative;background-color: white;}#sk-container-id-2 div.sk-parallel-item:first-child::after {align-self: flex-end;width: 50%;}#sk-container-id-2 div.sk-parallel-item:last-child::after {align-self: flex-start;width: 50%;}#sk-container-id-2 div.sk-parallel-item:only-child::after {width: 0;}#sk-container-id-2 div.sk-dashed-wrapped {border: 1px dashed gray;margin: 0 0.4em 0.5em 0.4em;box-sizing: border-box;padding-bottom: 0.4em;background-color: white;}#sk-container-id-2 div.sk-label label {font-family: monospace;font-weight: bold;display: inline-block;line-height: 1.2em;}#sk-container-id-2 div.sk-label-container {text-align: center;}#sk-container-id-2 div.sk-container {/* jupyter's `normalize.less` sets `[hidden] { display: none; }` but bootstrap.min.css set `[hidden] { display: none !important; }` so we also need the `!important` here to be able to override the default hidden behavior on the sphinx rendered scikit-learn.org. See: https://github.com/scikit-learn/scikit-learn/issues/21755 */display: inline-block !important;position: relative;}#sk-container-id-2 div.sk-text-repr-fallback {display: none;}</style><div id=\"sk-container-id-2\" class=\"sk-top-container\"><div class=\"sk-text-repr-fallback\"><pre>VotingClassifier(estimators=[(&#x27;rf&#x27;,\n",
       "                              RandomForestClassifier(n_jobs=-1,\n",
       "                                                     random_state=8)),\n",
       "                             (&#x27;etc&#x27;,\n",
       "                              ExtraTreesClassifier(n_jobs=-1, random_state=8)),\n",
       "                             (&#x27;xgb&#x27;,\n",
       "                              XGBClassifier(base_score=None, booster=None,\n",
       "                                            callbacks=None,\n",
       "                                            colsample_bylevel=None,\n",
       "                                            colsample_bynode=None,\n",
       "                                            colsample_bytree=None,\n",
       "                                            early_stopping_rounds=None,\n",
       "                                            enable_categorical=False,\n",
       "                                            eval_metric=None,\n",
       "                                            feature_t...\n",
       "                                            gpu_id=None, grow_policy=None,\n",
       "                                            importance_type=None,\n",
       "                                            interaction_constraints=None,\n",
       "                                            learning_rate=None, max_bin=None,\n",
       "                                            max_cat_threshold=None,\n",
       "                                            max_cat_to_onehot=None,\n",
       "                                            max_delta_step=None, max_depth=None,\n",
       "                                            max_leaves=None,\n",
       "                                            min_child_weight=None, missing=nan,\n",
       "                                            monotone_constraints=None,\n",
       "                                            n_estimators=100, n_jobs=-1,\n",
       "                                            num_parallel_tree=None,\n",
       "                                            predictor=None, random_state=8, ...))],\n",
       "                 voting=&#x27;soft&#x27;)</pre><b>In a Jupyter environment, please rerun this cell to show the HTML representation or trust the notebook. <br />On GitHub, the HTML representation is unable to render, please try loading this page with nbviewer.org.</b></div><div class=\"sk-container\" hidden><div class=\"sk-item sk-dashed-wrapped\"><div class=\"sk-label-container\"><div class=\"sk-label sk-toggleable\"><input class=\"sk-toggleable__control sk-hidden--visually\" id=\"sk-estimator-id-5\" type=\"checkbox\" ><label for=\"sk-estimator-id-5\" class=\"sk-toggleable__label sk-toggleable__label-arrow\">VotingClassifier</label><div class=\"sk-toggleable__content\"><pre>VotingClassifier(estimators=[(&#x27;rf&#x27;,\n",
       "                              RandomForestClassifier(n_jobs=-1,\n",
       "                                                     random_state=8)),\n",
       "                             (&#x27;etc&#x27;,\n",
       "                              ExtraTreesClassifier(n_jobs=-1, random_state=8)),\n",
       "                             (&#x27;xgb&#x27;,\n",
       "                              XGBClassifier(base_score=None, booster=None,\n",
       "                                            callbacks=None,\n",
       "                                            colsample_bylevel=None,\n",
       "                                            colsample_bynode=None,\n",
       "                                            colsample_bytree=None,\n",
       "                                            early_stopping_rounds=None,\n",
       "                                            enable_categorical=False,\n",
       "                                            eval_metric=None,\n",
       "                                            feature_t...\n",
       "                                            gpu_id=None, grow_policy=None,\n",
       "                                            importance_type=None,\n",
       "                                            interaction_constraints=None,\n",
       "                                            learning_rate=None, max_bin=None,\n",
       "                                            max_cat_threshold=None,\n",
       "                                            max_cat_to_onehot=None,\n",
       "                                            max_delta_step=None, max_depth=None,\n",
       "                                            max_leaves=None,\n",
       "                                            min_child_weight=None, missing=nan,\n",
       "                                            monotone_constraints=None,\n",
       "                                            n_estimators=100, n_jobs=-1,\n",
       "                                            num_parallel_tree=None,\n",
       "                                            predictor=None, random_state=8, ...))],\n",
       "                 voting=&#x27;soft&#x27;)</pre></div></div></div><div class=\"sk-parallel\"><div class=\"sk-parallel-item\"><div class=\"sk-item\"><div class=\"sk-label-container\"><div class=\"sk-label sk-toggleable\"><label>rf</label></div></div><div class=\"sk-serial\"><div class=\"sk-item\"><div class=\"sk-estimator sk-toggleable\"><input class=\"sk-toggleable__control sk-hidden--visually\" id=\"sk-estimator-id-6\" type=\"checkbox\" ><label for=\"sk-estimator-id-6\" class=\"sk-toggleable__label sk-toggleable__label-arrow\">RandomForestClassifier</label><div class=\"sk-toggleable__content\"><pre>RandomForestClassifier(n_jobs=-1, random_state=8)</pre></div></div></div></div></div></div><div class=\"sk-parallel-item\"><div class=\"sk-item\"><div class=\"sk-label-container\"><div class=\"sk-label sk-toggleable\"><label>etc</label></div></div><div class=\"sk-serial\"><div class=\"sk-item\"><div class=\"sk-estimator sk-toggleable\"><input class=\"sk-toggleable__control sk-hidden--visually\" id=\"sk-estimator-id-7\" type=\"checkbox\" ><label for=\"sk-estimator-id-7\" class=\"sk-toggleable__label sk-toggleable__label-arrow\">ExtraTreesClassifier</label><div class=\"sk-toggleable__content\"><pre>ExtraTreesClassifier(n_jobs=-1, random_state=8)</pre></div></div></div></div></div></div><div class=\"sk-parallel-item\"><div class=\"sk-item\"><div class=\"sk-label-container\"><div class=\"sk-label sk-toggleable\"><label>xgb</label></div></div><div class=\"sk-serial\"><div class=\"sk-item\"><div class=\"sk-estimator sk-toggleable\"><input class=\"sk-toggleable__control sk-hidden--visually\" id=\"sk-estimator-id-8\" type=\"checkbox\" ><label for=\"sk-estimator-id-8\" class=\"sk-toggleable__label sk-toggleable__label-arrow\">XGBClassifier</label><div class=\"sk-toggleable__content\"><pre>XGBClassifier(base_score=None, booster=None, callbacks=None,\n",
       "              colsample_bylevel=None, colsample_bynode=None,\n",
       "              colsample_bytree=None, early_stopping_rounds=None,\n",
       "              enable_categorical=False, eval_metric=None, feature_types=None,\n",
       "              gamma=None, gpu_id=None, grow_policy=None, importance_type=None,\n",
       "              interaction_constraints=None, learning_rate=None, max_bin=None,\n",
       "              max_cat_threshold=None, max_cat_to_onehot=None,\n",
       "              max_delta_step=None, max_depth=None, max_leaves=None,\n",
       "              min_child_weight=None, missing=nan, monotone_constraints=None,\n",
       "              n_estimators=100, n_jobs=-1, num_parallel_tree=None,\n",
       "              predictor=None, random_state=8, ...)</pre></div></div></div></div></div></div></div></div></div></div>"
      ],
      "text/plain": [
       "VotingClassifier(estimators=[('rf',\n",
       "                              RandomForestClassifier(n_jobs=-1,\n",
       "                                                     random_state=8)),\n",
       "                             ('etc',\n",
       "                              ExtraTreesClassifier(n_jobs=-1, random_state=8)),\n",
       "                             ('xgb',\n",
       "                              XGBClassifier(base_score=None, booster=None,\n",
       "                                            callbacks=None,\n",
       "                                            colsample_bylevel=None,\n",
       "                                            colsample_bynode=None,\n",
       "                                            colsample_bytree=None,\n",
       "                                            early_stopping_rounds=None,\n",
       "                                            enable_categorical=False,\n",
       "                                            eval_metric=None,\n",
       "                                            feature_t...\n",
       "                                            gpu_id=None, grow_policy=None,\n",
       "                                            importance_type=None,\n",
       "                                            interaction_constraints=None,\n",
       "                                            learning_rate=None, max_bin=None,\n",
       "                                            max_cat_threshold=None,\n",
       "                                            max_cat_to_onehot=None,\n",
       "                                            max_delta_step=None, max_depth=None,\n",
       "                                            max_leaves=None,\n",
       "                                            min_child_weight=None, missing=nan,\n",
       "                                            monotone_constraints=None,\n",
       "                                            n_estimators=100, n_jobs=-1,\n",
       "                                            num_parallel_tree=None,\n",
       "                                            predictor=None, random_state=8, ...))],\n",
       "                 voting='soft')"
      ]
     },
     "execution_count": 19,
     "metadata": {},
     "output_type": "execute_result"
    }
   ],
   "source": [
    "clf1 = RandomForestClassifier(random_state = 8, n_jobs = -1)\n",
    "clf2 = ExtraTreesClassifier(random_state = 8, n_jobs = -1)\n",
    "clf3 = XGBClassifier(random_state = 8, n_jobs = -1)\n",
    "\n",
    "voting_model = VotingClassifier(estimators = [\n",
    "    (\"rf\", clf1), (\"etc\", clf2), (\"xgb\", clf3)],\n",
    "                               voting = \"soft\")\n",
    "\n",
    "voting_model.fit(x_train, y_train)"
   ]
  },
  {
   "cell_type": "code",
   "execution_count": 20,
   "id": "0dc6cada",
   "metadata": {},
   "outputs": [],
   "source": [
    "scores8_2 = cross_validate(voting_model, x_train, y_train, scoring = \"accuracy\", cv = 5)"
   ]
  },
  {
   "cell_type": "code",
   "execution_count": 21,
   "id": "5461b913",
   "metadata": {},
   "outputs": [
    {
     "data": {
      "text/plain": [
       "0.8168981652021344"
      ]
     },
     "execution_count": 21,
     "metadata": {},
     "output_type": "execute_result"
    }
   ],
   "source": [
    "np.mean(scores8_2[\"test_score\"])"
   ]
  },
  {
   "cell_type": "markdown",
   "id": "c02e78ec",
   "metadata": {},
   "source": [
    "- 하드보팅과 소프트보팅 모두 성능 개선에 기여하지 못함"
   ]
  },
  {
   "cell_type": "markdown",
   "id": "6a0d87cf",
   "metadata": {},
   "source": [
    "# 5. 스태킹"
   ]
  },
  {
   "cell_type": "markdown",
   "id": "ec84c810",
   "metadata": {},
   "source": [
    "## 5-2. 스태킹(1)"
   ]
  },
  {
   "cell_type": "code",
   "execution_count": 11,
   "id": "ba3a0456",
   "metadata": {},
   "outputs": [],
   "source": [
    "et_cls = ExtraTreesClassifier(random_state = 8, n_jobs = -1)\n",
    "et_reg = ExtraTreesRegressor(random_state = 8, n_jobs = -1)\n",
    "\n",
    "rf_cls = RandomForestClassifier(random_state = 8, n_jobs = -1)\n",
    "rf_reg = RandomForestRegressor(random_state = 8, n_jobs = -1)\n",
    "\n",
    "xgb_cls = XGBClassifier(random_state = 8, n_jobs = -1)\n",
    "xgb_reg = XGBRegressor(random_state = 8, n_jobs = -1)"
   ]
  },
  {
   "cell_type": "code",
   "execution_count": 13,
   "id": "84233bcf",
   "metadata": {},
   "outputs": [],
   "source": [
    "stk_model = StackingClassifier(estimators = [\n",
    "    (\"ExtraTreeClassifier\", et_cls), (\"RandomForestClassifier\", rf_cls), (\"XGBClassifier\", xgb_cls), (\"ExtraTreesRegressor\", et_reg)],\n",
    "                              final_estimator = ExtraTreesClassifier(random_state = 8, n_jobs = -1))"
   ]
  },
  {
   "cell_type": "code",
   "execution_count": 17,
   "id": "33effac1",
   "metadata": {},
   "outputs": [
    {
     "data": {
      "text/html": [
       "<style>#sk-container-id-2 {color: black;background-color: white;}#sk-container-id-2 pre{padding: 0;}#sk-container-id-2 div.sk-toggleable {background-color: white;}#sk-container-id-2 label.sk-toggleable__label {cursor: pointer;display: block;width: 100%;margin-bottom: 0;padding: 0.3em;box-sizing: border-box;text-align: center;}#sk-container-id-2 label.sk-toggleable__label-arrow:before {content: \"▸\";float: left;margin-right: 0.25em;color: #696969;}#sk-container-id-2 label.sk-toggleable__label-arrow:hover:before {color: black;}#sk-container-id-2 div.sk-estimator:hover label.sk-toggleable__label-arrow:before {color: black;}#sk-container-id-2 div.sk-toggleable__content {max-height: 0;max-width: 0;overflow: hidden;text-align: left;background-color: #f0f8ff;}#sk-container-id-2 div.sk-toggleable__content pre {margin: 0.2em;color: black;border-radius: 0.25em;background-color: #f0f8ff;}#sk-container-id-2 input.sk-toggleable__control:checked~div.sk-toggleable__content {max-height: 200px;max-width: 100%;overflow: auto;}#sk-container-id-2 input.sk-toggleable__control:checked~label.sk-toggleable__label-arrow:before {content: \"▾\";}#sk-container-id-2 div.sk-estimator input.sk-toggleable__control:checked~label.sk-toggleable__label {background-color: #d4ebff;}#sk-container-id-2 div.sk-label input.sk-toggleable__control:checked~label.sk-toggleable__label {background-color: #d4ebff;}#sk-container-id-2 input.sk-hidden--visually {border: 0;clip: rect(1px 1px 1px 1px);clip: rect(1px, 1px, 1px, 1px);height: 1px;margin: -1px;overflow: hidden;padding: 0;position: absolute;width: 1px;}#sk-container-id-2 div.sk-estimator {font-family: monospace;background-color: #f0f8ff;border: 1px dotted black;border-radius: 0.25em;box-sizing: border-box;margin-bottom: 0.5em;}#sk-container-id-2 div.sk-estimator:hover {background-color: #d4ebff;}#sk-container-id-2 div.sk-parallel-item::after {content: \"\";width: 100%;border-bottom: 1px solid gray;flex-grow: 1;}#sk-container-id-2 div.sk-label:hover label.sk-toggleable__label {background-color: #d4ebff;}#sk-container-id-2 div.sk-serial::before {content: \"\";position: absolute;border-left: 1px solid gray;box-sizing: border-box;top: 0;bottom: 0;left: 50%;z-index: 0;}#sk-container-id-2 div.sk-serial {display: flex;flex-direction: column;align-items: center;background-color: white;padding-right: 0.2em;padding-left: 0.2em;position: relative;}#sk-container-id-2 div.sk-item {position: relative;z-index: 1;}#sk-container-id-2 div.sk-parallel {display: flex;align-items: stretch;justify-content: center;background-color: white;position: relative;}#sk-container-id-2 div.sk-item::before, #sk-container-id-2 div.sk-parallel-item::before {content: \"\";position: absolute;border-left: 1px solid gray;box-sizing: border-box;top: 0;bottom: 0;left: 50%;z-index: -1;}#sk-container-id-2 div.sk-parallel-item {display: flex;flex-direction: column;z-index: 1;position: relative;background-color: white;}#sk-container-id-2 div.sk-parallel-item:first-child::after {align-self: flex-end;width: 50%;}#sk-container-id-2 div.sk-parallel-item:last-child::after {align-self: flex-start;width: 50%;}#sk-container-id-2 div.sk-parallel-item:only-child::after {width: 0;}#sk-container-id-2 div.sk-dashed-wrapped {border: 1px dashed gray;margin: 0 0.4em 0.5em 0.4em;box-sizing: border-box;padding-bottom: 0.4em;background-color: white;}#sk-container-id-2 div.sk-label label {font-family: monospace;font-weight: bold;display: inline-block;line-height: 1.2em;}#sk-container-id-2 div.sk-label-container {text-align: center;}#sk-container-id-2 div.sk-container {/* jupyter's `normalize.less` sets `[hidden] { display: none; }` but bootstrap.min.css set `[hidden] { display: none !important; }` so we also need the `!important` here to be able to override the default hidden behavior on the sphinx rendered scikit-learn.org. See: https://github.com/scikit-learn/scikit-learn/issues/21755 */display: inline-block !important;position: relative;}#sk-container-id-2 div.sk-text-repr-fallback {display: none;}</style><div id=\"sk-container-id-2\" class=\"sk-top-container\"><div class=\"sk-text-repr-fallback\"><pre>StackingClassifier(estimators=[(&#x27;ExtraTree&#x27;,\n",
       "                                ExtraTreesClassifier(n_jobs=-1,\n",
       "                                                     random_state=8)),\n",
       "                               (&#x27;RandomForest&#x27;,\n",
       "                                RandomForestClassifier(n_jobs=-1,\n",
       "                                                       random_state=8)),\n",
       "                               (&#x27;XGB&#x27;,\n",
       "                                XGBClassifier(base_score=None, booster=None,\n",
       "                                              callbacks=None,\n",
       "                                              colsample_bylevel=None,\n",
       "                                              colsample_bynode=None,\n",
       "                                              colsample_bytree=None,\n",
       "                                              early_stopping_rounds=None,\n",
       "                                              enable_categorical=False,\n",
       "                                              eval_met...\n",
       "                                              max_cat_threshold=None,\n",
       "                                              max_cat_to_onehot=None,\n",
       "                                              max_delta_step=None,\n",
       "                                              max_depth=None, max_leaves=None,\n",
       "                                              min_child_weight=None,\n",
       "                                              missing=nan,\n",
       "                                              monotone_constraints=None,\n",
       "                                              n_estimators=100, n_jobs=-1,\n",
       "                                              num_parallel_tree=None,\n",
       "                                              predictor=None, random_state=8, ...)),\n",
       "                               (&#x27;test_reg&#x27;,\n",
       "                                ExtraTreesRegressor(n_jobs=-1,\n",
       "                                                    random_state=8))],\n",
       "                   final_estimator=ExtraTreesClassifier(n_jobs=-1,\n",
       "                                                        random_state=8))</pre><b>In a Jupyter environment, please rerun this cell to show the HTML representation or trust the notebook. <br />On GitHub, the HTML representation is unable to render, please try loading this page with nbviewer.org.</b></div><div class=\"sk-container\" hidden><div class=\"sk-item sk-dashed-wrapped\"><div class=\"sk-label-container\"><div class=\"sk-label sk-toggleable\"><input class=\"sk-toggleable__control sk-hidden--visually\" id=\"sk-estimator-id-2\" type=\"checkbox\" ><label for=\"sk-estimator-id-2\" class=\"sk-toggleable__label sk-toggleable__label-arrow\">StackingClassifier</label><div class=\"sk-toggleable__content\"><pre>StackingClassifier(estimators=[(&#x27;ExtraTree&#x27;,\n",
       "                                ExtraTreesClassifier(n_jobs=-1,\n",
       "                                                     random_state=8)),\n",
       "                               (&#x27;RandomForest&#x27;,\n",
       "                                RandomForestClassifier(n_jobs=-1,\n",
       "                                                       random_state=8)),\n",
       "                               (&#x27;XGB&#x27;,\n",
       "                                XGBClassifier(base_score=None, booster=None,\n",
       "                                              callbacks=None,\n",
       "                                              colsample_bylevel=None,\n",
       "                                              colsample_bynode=None,\n",
       "                                              colsample_bytree=None,\n",
       "                                              early_stopping_rounds=None,\n",
       "                                              enable_categorical=False,\n",
       "                                              eval_met...\n",
       "                                              max_cat_threshold=None,\n",
       "                                              max_cat_to_onehot=None,\n",
       "                                              max_delta_step=None,\n",
       "                                              max_depth=None, max_leaves=None,\n",
       "                                              min_child_weight=None,\n",
       "                                              missing=nan,\n",
       "                                              monotone_constraints=None,\n",
       "                                              n_estimators=100, n_jobs=-1,\n",
       "                                              num_parallel_tree=None,\n",
       "                                              predictor=None, random_state=8, ...)),\n",
       "                               (&#x27;test_reg&#x27;,\n",
       "                                ExtraTreesRegressor(n_jobs=-1,\n",
       "                                                    random_state=8))],\n",
       "                   final_estimator=ExtraTreesClassifier(n_jobs=-1,\n",
       "                                                        random_state=8))</pre></div></div></div><div class=\"sk-serial\"><div class=\"sk-item\"><div class=\"sk-parallel\"><div class=\"sk-parallel-item\"><div class=\"sk-item\"><div class=\"sk-label-container\"><div class=\"sk-label sk-toggleable\"><label>ExtraTree</label></div></div><div class=\"sk-serial\"><div class=\"sk-item\"><div class=\"sk-estimator sk-toggleable\"><input class=\"sk-toggleable__control sk-hidden--visually\" id=\"sk-estimator-id-3\" type=\"checkbox\" ><label for=\"sk-estimator-id-3\" class=\"sk-toggleable__label sk-toggleable__label-arrow\">ExtraTreesClassifier</label><div class=\"sk-toggleable__content\"><pre>ExtraTreesClassifier(n_jobs=-1, random_state=8)</pre></div></div></div></div></div></div><div class=\"sk-parallel-item\"><div class=\"sk-item\"><div class=\"sk-label-container\"><div class=\"sk-label sk-toggleable\"><label>RandomForest</label></div></div><div class=\"sk-serial\"><div class=\"sk-item\"><div class=\"sk-estimator sk-toggleable\"><input class=\"sk-toggleable__control sk-hidden--visually\" id=\"sk-estimator-id-4\" type=\"checkbox\" ><label for=\"sk-estimator-id-4\" class=\"sk-toggleable__label sk-toggleable__label-arrow\">RandomForestClassifier</label><div class=\"sk-toggleable__content\"><pre>RandomForestClassifier(n_jobs=-1, random_state=8)</pre></div></div></div></div></div></div><div class=\"sk-parallel-item\"><div class=\"sk-item\"><div class=\"sk-label-container\"><div class=\"sk-label sk-toggleable\"><label>XGB</label></div></div><div class=\"sk-serial\"><div class=\"sk-item\"><div class=\"sk-estimator sk-toggleable\"><input class=\"sk-toggleable__control sk-hidden--visually\" id=\"sk-estimator-id-5\" type=\"checkbox\" ><label for=\"sk-estimator-id-5\" class=\"sk-toggleable__label sk-toggleable__label-arrow\">XGBClassifier</label><div class=\"sk-toggleable__content\"><pre>XGBClassifier(base_score=None, booster=None, callbacks=None,\n",
       "              colsample_bylevel=None, colsample_bynode=None,\n",
       "              colsample_bytree=None, early_stopping_rounds=None,\n",
       "              enable_categorical=False, eval_metric=None, feature_types=None,\n",
       "              gamma=None, gpu_id=None, grow_policy=None, importance_type=None,\n",
       "              interaction_constraints=None, learning_rate=None, max_bin=None,\n",
       "              max_cat_threshold=None, max_cat_to_onehot=None,\n",
       "              max_delta_step=None, max_depth=None, max_leaves=None,\n",
       "              min_child_weight=None, missing=nan, monotone_constraints=None,\n",
       "              n_estimators=100, n_jobs=-1, num_parallel_tree=None,\n",
       "              predictor=None, random_state=8, ...)</pre></div></div></div></div></div></div><div class=\"sk-parallel-item\"><div class=\"sk-item\"><div class=\"sk-label-container\"><div class=\"sk-label sk-toggleable\"><label>test_reg</label></div></div><div class=\"sk-serial\"><div class=\"sk-item\"><div class=\"sk-estimator sk-toggleable\"><input class=\"sk-toggleable__control sk-hidden--visually\" id=\"sk-estimator-id-6\" type=\"checkbox\" ><label for=\"sk-estimator-id-6\" class=\"sk-toggleable__label sk-toggleable__label-arrow\">ExtraTreesRegressor</label><div class=\"sk-toggleable__content\"><pre>ExtraTreesRegressor(n_jobs=-1, random_state=8)</pre></div></div></div></div></div></div></div></div><div class=\"sk-item\"><div class=\"sk-parallel\"><div class=\"sk-parallel-item\"><div class=\"sk-item\"><div class=\"sk-label-container\"><div class=\"sk-label sk-toggleable\"><label>final_estimator</label></div></div><div class=\"sk-serial\"><div class=\"sk-item\"><div class=\"sk-estimator sk-toggleable\"><input class=\"sk-toggleable__control sk-hidden--visually\" id=\"sk-estimator-id-7\" type=\"checkbox\" ><label for=\"sk-estimator-id-7\" class=\"sk-toggleable__label sk-toggleable__label-arrow\">ExtraTreesClassifier</label><div class=\"sk-toggleable__content\"><pre>ExtraTreesClassifier(n_jobs=-1, random_state=8)</pre></div></div></div></div></div></div></div></div></div></div></div></div>"
      ],
      "text/plain": [
       "StackingClassifier(estimators=[('ExtraTree',\n",
       "                                ExtraTreesClassifier(n_jobs=-1,\n",
       "                                                     random_state=8)),\n",
       "                               ('RandomForest',\n",
       "                                RandomForestClassifier(n_jobs=-1,\n",
       "                                                       random_state=8)),\n",
       "                               ('XGB',\n",
       "                                XGBClassifier(base_score=None, booster=None,\n",
       "                                              callbacks=None,\n",
       "                                              colsample_bylevel=None,\n",
       "                                              colsample_bynode=None,\n",
       "                                              colsample_bytree=None,\n",
       "                                              early_stopping_rounds=None,\n",
       "                                              enable_categorical=False,\n",
       "                                              eval_met...\n",
       "                                              max_cat_threshold=None,\n",
       "                                              max_cat_to_onehot=None,\n",
       "                                              max_delta_step=None,\n",
       "                                              max_depth=None, max_leaves=None,\n",
       "                                              min_child_weight=None,\n",
       "                                              missing=nan,\n",
       "                                              monotone_constraints=None,\n",
       "                                              n_estimators=100, n_jobs=-1,\n",
       "                                              num_parallel_tree=None,\n",
       "                                              predictor=None, random_state=8, ...)),\n",
       "                               ('test_reg',\n",
       "                                ExtraTreesRegressor(n_jobs=-1,\n",
       "                                                    random_state=8))],\n",
       "                   final_estimator=ExtraTreesClassifier(n_jobs=-1,\n",
       "                                                        random_state=8))"
      ]
     },
     "execution_count": 17,
     "metadata": {},
     "output_type": "execute_result"
    }
   ],
   "source": [
    "stk_model.fit(x_train, y_train)"
   ]
  },
  {
   "cell_type": "code",
   "execution_count": 19,
   "id": "a9fdc3d8",
   "metadata": {},
   "outputs": [
    {
     "data": {
      "text/plain": [
       "0.8654294645958418"
      ]
     },
     "execution_count": 19,
     "metadata": {},
     "output_type": "execute_result"
    }
   ],
   "source": [
    "stk_model.score(x_test, y_test)"
   ]
  },
  {
   "cell_type": "code",
   "execution_count": 14,
   "id": "e766e57f",
   "metadata": {},
   "outputs": [],
   "source": [
    "scores = cross_validate(stk_model, x_train, y_train, scoring = \"accuracy\", cv = 5)"
   ]
  },
  {
   "cell_type": "code",
   "execution_count": 15,
   "id": "8e72b802",
   "metadata": {
    "scrolled": true
   },
   "outputs": [
    {
     "data": {
      "text/plain": [
       "0.8533058539908929"
      ]
     },
     "execution_count": 15,
     "metadata": {},
     "output_type": "execute_result"
    }
   ],
   "source": [
    "np.mean(scores[\"test_score\"])"
   ]
  },
  {
   "cell_type": "markdown",
   "id": "4d7a7ebb",
   "metadata": {},
   "source": [
    "- 스태킹을 해서 나온 교차검증 정확도가 0.853으로 가장 성능이 좋음\n",
    "- 최종 모델에 스태킹을 이용하기로 하고, estimator를 늘림"
   ]
  },
  {
   "cell_type": "markdown",
   "id": "759222cd",
   "metadata": {},
   "source": [
    "## 5-2. 스태킹(2)"
   ]
  },
  {
   "cell_type": "code",
   "execution_count": 12,
   "id": "602c8ee2",
   "metadata": {},
   "outputs": [],
   "source": [
    "stk_model2 = StackingClassifier(estimators = [\n",
    "    (\"ExtraTreesClassifier\", et_cls), (\"ExtraTreesRegressor\", et_reg),\n",
    "    (\"RandomForestClassifier\", rf_cls), (\"RandomForestRegressor\", rf_reg),\n",
    "    (\"XGBClassifier\", xgb_cls), (\"XGBRegressor\", xgb_reg)],\n",
    "                              final_estimator = GradientBoostingClassifier(random_state = 8))"
   ]
  },
  {
   "cell_type": "code",
   "execution_count": 13,
   "id": "84f915b8",
   "metadata": {},
   "outputs": [
    {
     "data": {
      "text/html": [
       "<style>#sk-container-id-2 {color: black;background-color: white;}#sk-container-id-2 pre{padding: 0;}#sk-container-id-2 div.sk-toggleable {background-color: white;}#sk-container-id-2 label.sk-toggleable__label {cursor: pointer;display: block;width: 100%;margin-bottom: 0;padding: 0.3em;box-sizing: border-box;text-align: center;}#sk-container-id-2 label.sk-toggleable__label-arrow:before {content: \"▸\";float: left;margin-right: 0.25em;color: #696969;}#sk-container-id-2 label.sk-toggleable__label-arrow:hover:before {color: black;}#sk-container-id-2 div.sk-estimator:hover label.sk-toggleable__label-arrow:before {color: black;}#sk-container-id-2 div.sk-toggleable__content {max-height: 0;max-width: 0;overflow: hidden;text-align: left;background-color: #f0f8ff;}#sk-container-id-2 div.sk-toggleable__content pre {margin: 0.2em;color: black;border-radius: 0.25em;background-color: #f0f8ff;}#sk-container-id-2 input.sk-toggleable__control:checked~div.sk-toggleable__content {max-height: 200px;max-width: 100%;overflow: auto;}#sk-container-id-2 input.sk-toggleable__control:checked~label.sk-toggleable__label-arrow:before {content: \"▾\";}#sk-container-id-2 div.sk-estimator input.sk-toggleable__control:checked~label.sk-toggleable__label {background-color: #d4ebff;}#sk-container-id-2 div.sk-label input.sk-toggleable__control:checked~label.sk-toggleable__label {background-color: #d4ebff;}#sk-container-id-2 input.sk-hidden--visually {border: 0;clip: rect(1px 1px 1px 1px);clip: rect(1px, 1px, 1px, 1px);height: 1px;margin: -1px;overflow: hidden;padding: 0;position: absolute;width: 1px;}#sk-container-id-2 div.sk-estimator {font-family: monospace;background-color: #f0f8ff;border: 1px dotted black;border-radius: 0.25em;box-sizing: border-box;margin-bottom: 0.5em;}#sk-container-id-2 div.sk-estimator:hover {background-color: #d4ebff;}#sk-container-id-2 div.sk-parallel-item::after {content: \"\";width: 100%;border-bottom: 1px solid gray;flex-grow: 1;}#sk-container-id-2 div.sk-label:hover label.sk-toggleable__label {background-color: #d4ebff;}#sk-container-id-2 div.sk-serial::before {content: \"\";position: absolute;border-left: 1px solid gray;box-sizing: border-box;top: 0;bottom: 0;left: 50%;z-index: 0;}#sk-container-id-2 div.sk-serial {display: flex;flex-direction: column;align-items: center;background-color: white;padding-right: 0.2em;padding-left: 0.2em;position: relative;}#sk-container-id-2 div.sk-item {position: relative;z-index: 1;}#sk-container-id-2 div.sk-parallel {display: flex;align-items: stretch;justify-content: center;background-color: white;position: relative;}#sk-container-id-2 div.sk-item::before, #sk-container-id-2 div.sk-parallel-item::before {content: \"\";position: absolute;border-left: 1px solid gray;box-sizing: border-box;top: 0;bottom: 0;left: 50%;z-index: -1;}#sk-container-id-2 div.sk-parallel-item {display: flex;flex-direction: column;z-index: 1;position: relative;background-color: white;}#sk-container-id-2 div.sk-parallel-item:first-child::after {align-self: flex-end;width: 50%;}#sk-container-id-2 div.sk-parallel-item:last-child::after {align-self: flex-start;width: 50%;}#sk-container-id-2 div.sk-parallel-item:only-child::after {width: 0;}#sk-container-id-2 div.sk-dashed-wrapped {border: 1px dashed gray;margin: 0 0.4em 0.5em 0.4em;box-sizing: border-box;padding-bottom: 0.4em;background-color: white;}#sk-container-id-2 div.sk-label label {font-family: monospace;font-weight: bold;display: inline-block;line-height: 1.2em;}#sk-container-id-2 div.sk-label-container {text-align: center;}#sk-container-id-2 div.sk-container {/* jupyter's `normalize.less` sets `[hidden] { display: none; }` but bootstrap.min.css set `[hidden] { display: none !important; }` so we also need the `!important` here to be able to override the default hidden behavior on the sphinx rendered scikit-learn.org. See: https://github.com/scikit-learn/scikit-learn/issues/21755 */display: inline-block !important;position: relative;}#sk-container-id-2 div.sk-text-repr-fallback {display: none;}</style><div id=\"sk-container-id-2\" class=\"sk-top-container\"><div class=\"sk-text-repr-fallback\"><pre>StackingClassifier(estimators=[(&#x27;ExtraTreesClassifier&#x27;,\n",
       "                                ExtraTreesClassifier(n_jobs=-1,\n",
       "                                                     random_state=8)),\n",
       "                               (&#x27;ExtraTreesRegressor&#x27;,\n",
       "                                ExtraTreesRegressor(n_jobs=-1, random_state=8)),\n",
       "                               (&#x27;RandomForestClassifier&#x27;,\n",
       "                                RandomForestClassifier(n_jobs=-1,\n",
       "                                                       random_state=8)),\n",
       "                               (&#x27;RandomForestRegressor&#x27;,\n",
       "                                RandomForestRegressor(n_jobs=-1,\n",
       "                                                      random_state=8)),\n",
       "                               (&#x27;XGBClassifier&#x27;,\n",
       "                                XGBClassif...\n",
       "                                             interaction_constraints=None,\n",
       "                                             learning_rate=None, max_bin=None,\n",
       "                                             max_cat_threshold=None,\n",
       "                                             max_cat_to_onehot=None,\n",
       "                                             max_delta_step=None,\n",
       "                                             max_depth=None, max_leaves=None,\n",
       "                                             min_child_weight=None, missing=nan,\n",
       "                                             monotone_constraints=None,\n",
       "                                             n_estimators=100, n_jobs=-1,\n",
       "                                             num_parallel_tree=None,\n",
       "                                             predictor=None, random_state=8, ...))],\n",
       "                   final_estimator=GradientBoostingClassifier(random_state=8))</pre><b>In a Jupyter environment, please rerun this cell to show the HTML representation or trust the notebook. <br />On GitHub, the HTML representation is unable to render, please try loading this page with nbviewer.org.</b></div><div class=\"sk-container\" hidden><div class=\"sk-item sk-dashed-wrapped\"><div class=\"sk-label-container\"><div class=\"sk-label sk-toggleable\"><input class=\"sk-toggleable__control sk-hidden--visually\" id=\"sk-estimator-id-2\" type=\"checkbox\" ><label for=\"sk-estimator-id-2\" class=\"sk-toggleable__label sk-toggleable__label-arrow\">StackingClassifier</label><div class=\"sk-toggleable__content\"><pre>StackingClassifier(estimators=[(&#x27;ExtraTreesClassifier&#x27;,\n",
       "                                ExtraTreesClassifier(n_jobs=-1,\n",
       "                                                     random_state=8)),\n",
       "                               (&#x27;ExtraTreesRegressor&#x27;,\n",
       "                                ExtraTreesRegressor(n_jobs=-1, random_state=8)),\n",
       "                               (&#x27;RandomForestClassifier&#x27;,\n",
       "                                RandomForestClassifier(n_jobs=-1,\n",
       "                                                       random_state=8)),\n",
       "                               (&#x27;RandomForestRegressor&#x27;,\n",
       "                                RandomForestRegressor(n_jobs=-1,\n",
       "                                                      random_state=8)),\n",
       "                               (&#x27;XGBClassifier&#x27;,\n",
       "                                XGBClassif...\n",
       "                                             interaction_constraints=None,\n",
       "                                             learning_rate=None, max_bin=None,\n",
       "                                             max_cat_threshold=None,\n",
       "                                             max_cat_to_onehot=None,\n",
       "                                             max_delta_step=None,\n",
       "                                             max_depth=None, max_leaves=None,\n",
       "                                             min_child_weight=None, missing=nan,\n",
       "                                             monotone_constraints=None,\n",
       "                                             n_estimators=100, n_jobs=-1,\n",
       "                                             num_parallel_tree=None,\n",
       "                                             predictor=None, random_state=8, ...))],\n",
       "                   final_estimator=GradientBoostingClassifier(random_state=8))</pre></div></div></div><div class=\"sk-serial\"><div class=\"sk-item\"><div class=\"sk-parallel\"><div class=\"sk-parallel-item\"><div class=\"sk-item\"><div class=\"sk-label-container\"><div class=\"sk-label sk-toggleable\"><label>ExtraTreesClassifier</label></div></div><div class=\"sk-serial\"><div class=\"sk-item\"><div class=\"sk-estimator sk-toggleable\"><input class=\"sk-toggleable__control sk-hidden--visually\" id=\"sk-estimator-id-3\" type=\"checkbox\" ><label for=\"sk-estimator-id-3\" class=\"sk-toggleable__label sk-toggleable__label-arrow\">ExtraTreesClassifier</label><div class=\"sk-toggleable__content\"><pre>ExtraTreesClassifier(n_jobs=-1, random_state=8)</pre></div></div></div></div></div></div><div class=\"sk-parallel-item\"><div class=\"sk-item\"><div class=\"sk-label-container\"><div class=\"sk-label sk-toggleable\"><label>ExtraTreesRegressor</label></div></div><div class=\"sk-serial\"><div class=\"sk-item\"><div class=\"sk-estimator sk-toggleable\"><input class=\"sk-toggleable__control sk-hidden--visually\" id=\"sk-estimator-id-4\" type=\"checkbox\" ><label for=\"sk-estimator-id-4\" class=\"sk-toggleable__label sk-toggleable__label-arrow\">ExtraTreesRegressor</label><div class=\"sk-toggleable__content\"><pre>ExtraTreesRegressor(n_jobs=-1, random_state=8)</pre></div></div></div></div></div></div><div class=\"sk-parallel-item\"><div class=\"sk-item\"><div class=\"sk-label-container\"><div class=\"sk-label sk-toggleable\"><label>RandomForestClassifier</label></div></div><div class=\"sk-serial\"><div class=\"sk-item\"><div class=\"sk-estimator sk-toggleable\"><input class=\"sk-toggleable__control sk-hidden--visually\" id=\"sk-estimator-id-5\" type=\"checkbox\" ><label for=\"sk-estimator-id-5\" class=\"sk-toggleable__label sk-toggleable__label-arrow\">RandomForestClassifier</label><div class=\"sk-toggleable__content\"><pre>RandomForestClassifier(n_jobs=-1, random_state=8)</pre></div></div></div></div></div></div><div class=\"sk-parallel-item\"><div class=\"sk-item\"><div class=\"sk-label-container\"><div class=\"sk-label sk-toggleable\"><label>RandomForestRegressor</label></div></div><div class=\"sk-serial\"><div class=\"sk-item\"><div class=\"sk-estimator sk-toggleable\"><input class=\"sk-toggleable__control sk-hidden--visually\" id=\"sk-estimator-id-6\" type=\"checkbox\" ><label for=\"sk-estimator-id-6\" class=\"sk-toggleable__label sk-toggleable__label-arrow\">RandomForestRegressor</label><div class=\"sk-toggleable__content\"><pre>RandomForestRegressor(n_jobs=-1, random_state=8)</pre></div></div></div></div></div></div><div class=\"sk-parallel-item\"><div class=\"sk-item\"><div class=\"sk-label-container\"><div class=\"sk-label sk-toggleable\"><label>XGBClassifier</label></div></div><div class=\"sk-serial\"><div class=\"sk-item\"><div class=\"sk-estimator sk-toggleable\"><input class=\"sk-toggleable__control sk-hidden--visually\" id=\"sk-estimator-id-7\" type=\"checkbox\" ><label for=\"sk-estimator-id-7\" class=\"sk-toggleable__label sk-toggleable__label-arrow\">XGBClassifier</label><div class=\"sk-toggleable__content\"><pre>XGBClassifier(base_score=None, booster=None, callbacks=None,\n",
       "              colsample_bylevel=None, colsample_bynode=None,\n",
       "              colsample_bytree=None, early_stopping_rounds=None,\n",
       "              enable_categorical=False, eval_metric=None, feature_types=None,\n",
       "              gamma=None, gpu_id=None, grow_policy=None, importance_type=None,\n",
       "              interaction_constraints=None, learning_rate=None, max_bin=None,\n",
       "              max_cat_threshold=None, max_cat_to_onehot=None,\n",
       "              max_delta_step=None, max_depth=None, max_leaves=None,\n",
       "              min_child_weight=None, missing=nan, monotone_constraints=None,\n",
       "              n_estimators=100, n_jobs=-1, num_parallel_tree=None,\n",
       "              predictor=None, random_state=8, ...)</pre></div></div></div></div></div></div><div class=\"sk-parallel-item\"><div class=\"sk-item\"><div class=\"sk-label-container\"><div class=\"sk-label sk-toggleable\"><label>XGBRegressor</label></div></div><div class=\"sk-serial\"><div class=\"sk-item\"><div class=\"sk-estimator sk-toggleable\"><input class=\"sk-toggleable__control sk-hidden--visually\" id=\"sk-estimator-id-8\" type=\"checkbox\" ><label for=\"sk-estimator-id-8\" class=\"sk-toggleable__label sk-toggleable__label-arrow\">XGBRegressor</label><div class=\"sk-toggleable__content\"><pre>XGBRegressor(base_score=None, booster=None, callbacks=None,\n",
       "             colsample_bylevel=None, colsample_bynode=None,\n",
       "             colsample_bytree=None, early_stopping_rounds=None,\n",
       "             enable_categorical=False, eval_metric=None, feature_types=None,\n",
       "             gamma=None, gpu_id=None, grow_policy=None, importance_type=None,\n",
       "             interaction_constraints=None, learning_rate=None, max_bin=None,\n",
       "             max_cat_threshold=None, max_cat_to_onehot=None,\n",
       "             max_delta_step=None, max_depth=None, max_leaves=None,\n",
       "             min_child_weight=None, missing=nan, monotone_constraints=None,\n",
       "             n_estimators=100, n_jobs=-1, num_parallel_tree=None,\n",
       "             predictor=None, random_state=8, ...)</pre></div></div></div></div></div></div></div></div><div class=\"sk-item\"><div class=\"sk-parallel\"><div class=\"sk-parallel-item\"><div class=\"sk-item\"><div class=\"sk-label-container\"><div class=\"sk-label sk-toggleable\"><label>final_estimator</label></div></div><div class=\"sk-serial\"><div class=\"sk-item\"><div class=\"sk-estimator sk-toggleable\"><input class=\"sk-toggleable__control sk-hidden--visually\" id=\"sk-estimator-id-9\" type=\"checkbox\" ><label for=\"sk-estimator-id-9\" class=\"sk-toggleable__label sk-toggleable__label-arrow\">GradientBoostingClassifier</label><div class=\"sk-toggleable__content\"><pre>GradientBoostingClassifier(random_state=8)</pre></div></div></div></div></div></div></div></div></div></div></div></div>"
      ],
      "text/plain": [
       "StackingClassifier(estimators=[('ExtraTreesClassifier',\n",
       "                                ExtraTreesClassifier(n_jobs=-1,\n",
       "                                                     random_state=8)),\n",
       "                               ('ExtraTreesRegressor',\n",
       "                                ExtraTreesRegressor(n_jobs=-1, random_state=8)),\n",
       "                               ('RandomForestClassifier',\n",
       "                                RandomForestClassifier(n_jobs=-1,\n",
       "                                                       random_state=8)),\n",
       "                               ('RandomForestRegressor',\n",
       "                                RandomForestRegressor(n_jobs=-1,\n",
       "                                                      random_state=8)),\n",
       "                               ('XGBClassifier',\n",
       "                                XGBClassif...\n",
       "                                             interaction_constraints=None,\n",
       "                                             learning_rate=None, max_bin=None,\n",
       "                                             max_cat_threshold=None,\n",
       "                                             max_cat_to_onehot=None,\n",
       "                                             max_delta_step=None,\n",
       "                                             max_depth=None, max_leaves=None,\n",
       "                                             min_child_weight=None, missing=nan,\n",
       "                                             monotone_constraints=None,\n",
       "                                             n_estimators=100, n_jobs=-1,\n",
       "                                             num_parallel_tree=None,\n",
       "                                             predictor=None, random_state=8, ...))],\n",
       "                   final_estimator=GradientBoostingClassifier(random_state=8))"
      ]
     },
     "execution_count": 13,
     "metadata": {},
     "output_type": "execute_result"
    }
   ],
   "source": [
    "stk_model2.fit(x_train, y_train)"
   ]
  },
  {
   "cell_type": "code",
   "execution_count": 14,
   "id": "8e924a16",
   "metadata": {},
   "outputs": [
    {
     "data": {
      "text/plain": [
       "0.8706396070064011"
      ]
     },
     "execution_count": 14,
     "metadata": {},
     "output_type": "execute_result"
    }
   ],
   "source": [
    "stk_model2.score(x_test, y_test)"
   ]
  },
  {
   "cell_type": "code",
   "execution_count": 15,
   "id": "c9ec8076",
   "metadata": {},
   "outputs": [],
   "source": [
    "scores_stk2 = cross_validate(stk_model2, x_train, y_train, scoring = \"accuracy\", cv = 5)"
   ]
  },
  {
   "cell_type": "code",
   "execution_count": 16,
   "id": "1be9784c",
   "metadata": {},
   "outputs": [
    {
     "data": {
      "text/plain": [
       "0.8579419030801422"
      ]
     },
     "execution_count": 16,
     "metadata": {},
     "output_type": "execute_result"
    }
   ],
   "source": [
    "np.mean(scores_stk2[\"test_score\"])"
   ]
  },
  {
   "cell_type": "markdown",
   "id": "193f1326",
   "metadata": {},
   "source": [
    "- 스태킹 기법을 이용\n",
    "    - 분류 모델과 회귀 모델을 이용해 얻어낸 예측값을 기반으로 다시 분류를 진행했을 때, 성능이 이전보다 상당히 개선됨\n",
    "    - 따라서 스태킹을 이용한 모델을 최종 모델로 결정"
   ]
  }
 ],
 "metadata": {
  "kernelspec": {
   "display_name": "python310",
   "language": "python",
   "name": "python310"
  },
  "language_info": {
   "codemirror_mode": {
    "name": "ipython",
    "version": 3
   },
   "file_extension": ".py",
   "mimetype": "text/x-python",
   "name": "python",
   "nbconvert_exporter": "python",
   "pygments_lexer": "ipython3",
   "version": "3.10.8"
  }
 },
 "nbformat": 4,
 "nbformat_minor": 5
}
